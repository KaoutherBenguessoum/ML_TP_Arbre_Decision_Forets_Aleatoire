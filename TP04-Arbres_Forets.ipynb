{
 "cells": [
  {
   "cell_type": "markdown",
   "metadata": {},
   "source": [
    "# TP04 : Arbres de décision et Forêts aléatoires\n",
    "Binome 1: Benguessoum Kaouther\n",
    "Binome 2: Boulaouinat Kaouther\n",
    "\n",
    "## I. Implémentation\n",
    "\n",
    "Il existe plusieurs implémentations des arbres de décision :\n",
    "- ID3 (Iterative Dichotomiser 3): dévelopé en 1986 par Ross Quinlan. Il peut être appliqué seulement sur les caractéristiques nominales. Il est utilisé pour le classement.\n",
    "- C4.5: une extension de ID3 par Ross Quinlan. Il peut être appliqué sur tous les types de caractéristiques. Il est utilisé pour le classement.\n",
    "- C5.0: une extension commerciale de C4.5, toujours par Ross Quinlan.\n",
    "- CART (Classification and Regression Trees): comme C4.5 mais utilise d'autres métriques. Aussi, l'algorithme supporte la régression.\n",
    "\n",
    "Dans ce TP, on va implémenter ID3 pour les caracéristiques nominales et CART (classement) pour les caracéristiques numériques seulement .\n",
    "\n",
    "### I.1. ID3\n",
    "\n",
    "Ici, on va implémenter l'algorithme vu dans le cours. On va utiliser le dataset \"jouer (nominales)\" "
   ]
  },
  {
   "cell_type": "code",
   "execution_count": 15,
   "metadata": {},
   "outputs": [
    {
     "data": {
      "text/html": [
       "<div>\n",
       "<style scoped>\n",
       "    .dataframe tbody tr th:only-of-type {\n",
       "        vertical-align: middle;\n",
       "    }\n",
       "\n",
       "    .dataframe tbody tr th {\n",
       "        vertical-align: top;\n",
       "    }\n",
       "\n",
       "    .dataframe thead th {\n",
       "        text-align: right;\n",
       "    }\n",
       "</style>\n",
       "<table border=\"1\" class=\"dataframe\">\n",
       "  <thead>\n",
       "    <tr style=\"text-align: right;\">\n",
       "      <th></th>\n",
       "      <th>temps</th>\n",
       "      <th>temperature</th>\n",
       "      <th>humidite</th>\n",
       "      <th>vent</th>\n",
       "      <th>jouer</th>\n",
       "    </tr>\n",
       "  </thead>\n",
       "  <tbody>\n",
       "    <tr>\n",
       "      <th>0</th>\n",
       "      <td>ensoleile</td>\n",
       "      <td>chaude</td>\n",
       "      <td>haute</td>\n",
       "      <td>non</td>\n",
       "      <td>non</td>\n",
       "    </tr>\n",
       "    <tr>\n",
       "      <th>1</th>\n",
       "      <td>ensoleile</td>\n",
       "      <td>chaude</td>\n",
       "      <td>haute</td>\n",
       "      <td>oui</td>\n",
       "      <td>non</td>\n",
       "    </tr>\n",
       "    <tr>\n",
       "      <th>2</th>\n",
       "      <td>nuageux</td>\n",
       "      <td>chaude</td>\n",
       "      <td>haute</td>\n",
       "      <td>non</td>\n",
       "      <td>oui</td>\n",
       "    </tr>\n",
       "    <tr>\n",
       "      <th>3</th>\n",
       "      <td>pluvieux</td>\n",
       "      <td>douce</td>\n",
       "      <td>haute</td>\n",
       "      <td>non</td>\n",
       "      <td>oui</td>\n",
       "    </tr>\n",
       "    <tr>\n",
       "      <th>4</th>\n",
       "      <td>pluvieux</td>\n",
       "      <td>fraiche</td>\n",
       "      <td>normale</td>\n",
       "      <td>non</td>\n",
       "      <td>oui</td>\n",
       "    </tr>\n",
       "  </tbody>\n",
       "</table>\n",
       "</div>"
      ],
      "text/plain": [
       "       temps temperature humidite vent jouer\n",
       "0  ensoleile      chaude    haute  non   non\n",
       "1  ensoleile      chaude    haute  oui   non\n",
       "2    nuageux      chaude    haute  non   oui\n",
       "3   pluvieux       douce    haute  non   oui\n",
       "4   pluvieux     fraiche  normale  non   oui"
      ]
     },
     "execution_count": 15,
     "metadata": {},
     "output_type": "execute_result"
    }
   ],
   "source": [
    "import numpy as np\n",
    "import pandas as pd \n",
    "import matplotlib.pyplot as plt \n",
    "%matplotlib inline\n",
    "\n",
    "jouer = pd.read_csv(\"datasets/jouer.csv\")\n",
    "\n",
    "X_jouer = jouer.iloc[:, :-1].values # Premières colonnes \n",
    "Y_jouer = jouer.iloc[:,-1].values # Dernière colonne \n",
    "\n",
    "# Afficher le dataset \"jouer\"\n",
    "jouer.head()"
   ]
  },
  {
   "cell_type": "markdown",
   "metadata": {},
   "source": [
    "#### I.1.1. Probabilité \n",
    "\n",
    "Etant donné une liste des valeurs $S$, la probabilité d'occurence d'une valeur $v$  est le nombre d'occurence de $v$ dans $S$ divisé par le nombre total des éléments de $S$. \n",
    "\n",
    "$$p(v/S) = \\frac{|\\{x / x \\in S \\text{ et } x = v\\}|}{|S|}$$\n",
    "\n",
    "Exemple, prenons la colonne \"jouer\". \n",
    "Le nombre de \"oui\" est 9 et le nombre total est 14. \n",
    "$$p(jouer=oui) = \\frac{9}{14} = 0.6428571428571429$$"
   ]
  },
  {
   "cell_type": "code",
   "execution_count": 21,
   "metadata": {},
   "outputs": [
    {
     "data": {
      "text/plain": [
       "(0.6428571428571429,\n",
       " 0.35714285714285715,\n",
       " 0.2857142857142857,\n",
       " 0.35714285714285715)"
      ]
     },
     "execution_count": 21,
     "metadata": {},
     "output_type": "execute_result"
    }
   ],
   "source": [
    "# TODO calculer la probabilité d'occurence d'une valeur val dans un ensemble S\n",
    "# PS: si la division retourne toujours 0, essayer d'appliquer float(x) sur le numérateur ou le dénominateur\n",
    "def P(S, v): \n",
    "    return S.tolist().count(v)/ len(S)\n",
    "\n",
    "#=====================================================================\n",
    "# TEST UNITAIRE\n",
    "#=====================================================================\n",
    "# Resultat : \n",
    "# (0.6428571428571429,\n",
    "#  0.35714285714285715,\n",
    "#  0.2857142857142857,\n",
    "#  0.35714285714285715)\n",
    "#---------------------------------------------------------------------\n",
    "\n",
    "P(Y_jouer, \"oui\"), P(X_jouer[:,0], \"ensoleile\"), P(X_jouer[:, 0], \"nuageux\"), P(X_jouer[:,0], \"pluvieux\")"
   ]
  },
  {
   "cell_type": "markdown",
   "metadata": {},
   "source": [
    "#### I.1.2. Incertitude d'un ensemble\n",
    "\n",
    "L'entropie de Shannon correspond à la quantité d'information contenue dans une source d'information ; plus la source émet d'informations différentes, plus l'entropie (ou l'incertitude sur ce que la source émet) est grande.\n",
    "Donc, un ensemble avec une entropie de 0 contient les mêmes valeurs.\n",
    "Etant donné : \n",
    "- $S$ une liste des valeurs \n",
    "- $V$ un ensemble de valeurs uniques de $S$ (vocabulaire) \n",
    "\n",
    "L'entropie de $S$ est calculée comme suit : \n",
    "$$H(S) = - \\sum\\limits_{v \\in V} p(v/S) \\log_2 p(v/S)$$\n",
    "\n",
    "Par exemple, la colonne \"jouer\" contient deux valeurs \"oui\" et \"non\". \n",
    "Son entopie est :\n",
    "$$H(jouer) = - \\frac{9}{14} * \\log_2(\\frac{9}{14}) - \\frac{5}{14} * \\log_2(\\frac{5}{14}) = 0.9402859586706309$$ \n"
   ]
  },
  {
   "cell_type": "code",
   "execution_count": 77,
   "metadata": {},
   "outputs": [
    {
     "data": {
      "text/plain": [
       "'0.23.2'"
      ]
     },
     "execution_count": 77,
     "metadata": {},
     "output_type": "execute_result"
    }
   ],
   "source": [
    "# TODO compléter la fonction d'entropie\n",
    "# np.log2 : calcule log2 d'une valeur, vecteur ou matrice\n",
    "def H(S):  \n",
    "    V = np.unique(S)\n",
    "    entropie = 0\n",
    "    # Compléter ici\n",
    "    for i in range (len(V)):\n",
    "        p=P(S,V[i])\n",
    "        entropie-= p*np.log2(p)\n",
    "    return entropie \n",
    "\n",
    "#=====================================================================\n",
    "# TEST UNITAIRE\n",
    "#=====================================================================\n",
    "# Resultat : (0.9402859586706311, 1.5774062828523454)\n",
    "#---------------------------------------------------------------------\n",
    "\n",
    "H(Y_jouer), H(X_jouer[:,0])\n",
    "import sklearn\n",
    "sklearn.__version__"
   ]
  },
  {
   "cell_type": "markdown",
   "metadata": {},
   "source": [
    "#### I.1.3. Division d'un ensemble\n",
    "\n",
    "**Rien à programmer ici**\n",
    "\n",
    "Ici, on essaye de diviser la liste des prédictions (classes) selon les valeurs d'un attribut (caractéristique, colonne) à des sous listes. \n",
    "\n",
    "Etant donné : \n",
    "- **Y** : la liste à diviser\n",
    "- **A** : la liste des valeurs d'un attribut (caractéristique, colonne). C'est un vecteur aligné avec Y ; c-à-d, chaque élément de A a un élément de Y respectif.\n",
    "- **v** : la valeur sur laquelle on divie.\n",
    "\n",
    "$$S_{A,v} = \\{y^{(i)} \\in Y / a^{(i)} \\in A \\wedge a^{(i)} = v\\}\\}$$\n",
    "\n",
    "Par exemple, si \n",
    "- $Y$ est la liste des prédictions de \"jouer\"\n",
    "- $A$ est la liste des valeurs de la caractéristique \"temps\"\n",
    "- $v$ est la valeur \"ensoleile\"\n",
    "La sous ensemble de \"jouer\" où (temps = \"ensoleile\") contient 3 non et 2 oui "
   ]
  },
  {
   "cell_type": "code",
   "execution_count": 23,
   "metadata": {},
   "outputs": [
    {
     "data": {
      "text/plain": [
       "array(['non', 'non', 'non', 'oui', 'oui'], dtype=object)"
      ]
     },
     "execution_count": 23,
     "metadata": {},
     "output_type": "execute_result"
    }
   ],
   "source": [
    "def diviser_ID3(Y, A, v):\n",
    "    msk = A == v\n",
    "    return Y[msk]\n",
    "\n",
    "#=====================================================================\n",
    "# TEST UNITAIRE\n",
    "#=====================================================================\n",
    "# Resultat : array(['non', 'non', 'non', 'oui', 'oui'], dtype=object)\n",
    "#---------------------------------------------------------------------\n",
    "\n",
    "diviser_ID3(Y_jouer, X_jouer[:,0], \"ensoleile\")"
   ]
  },
  {
   "cell_type": "markdown",
   "metadata": {},
   "source": [
    "#### I.1.4. Gain d'entropie\n",
    "\n",
    "Le gain d'entropie (information gain) est la différence entre l'entropie avant et après la division d'une liste $Y$ selon l'attribut $A$. \n",
    "En d'autres termes, combien d'incertitude dans $Y$ a été réduite après sa division en utilisant l'attribut $A$.\n",
    "\n",
    "Etant donné : \n",
    "- **Y** : une liste à diviser\n",
    "- **A** : une liste des valeurs d'un attribut (caractéristique, colonne) \n",
    "- **V** : l'ensemble des valeurs différentes de l'attribut A (vocabulaire)\n",
    "- **p(v/A)** : la probabité d'occurence de la valeur $v$ dans $A$\n",
    "- $Y_{A, v}$ : sous-ensemble de $Y$ où les valeurs de $V$ égalent à $v$  en utilisant la fonction précédente (diviser_ID3)\n",
    "\n",
    "Le gain d'entrepie se calcule comme suit : \n",
    "\n",
    "$$IG(Y, A) = H(Y) - \\sum_{v \\in V} p(v/A) H(Y_{A, v})$$"
   ]
  },
  {
   "cell_type": "code",
   "execution_count": 28,
   "metadata": {},
   "outputs": [
    {
     "data": {
      "text/plain": [
       "(0.24674981977443933, 0.9402859586706311)"
      ]
     },
     "execution_count": 28,
     "metadata": {},
     "output_type": "execute_result"
    }
   ],
   "source": [
    "# TODO Compléter la fonction du gain d'entropie\n",
    "# elle doit rendre le gain d'entropie et l'entropie \n",
    "# On rend l'entropie pour ne pas recalculer ultérierement \n",
    "def IG(Y, A):\n",
    "    V = np.unique(A)\n",
    "    entropie = H(Y)\n",
    "    ig_global = entropie\n",
    "    # Compléter ici\n",
    "    for i in range (len(V)):\n",
    "        p=P(A,V[i])\n",
    "        ig_global-= p*H(diviser_ID3(Y, A, V[i]))\n",
    "    return ig_global, entropie\n",
    "\n",
    "#=====================================================================\n",
    "# TEST UNITAIRE\n",
    "#=====================================================================\n",
    "# Resultat : (0.24674981977443933, 0.9402859586706311)\n",
    "#---------------------------------------------------------------------\n",
    "\n",
    "IG(Y_jouer, X_jouer[:, 0])"
   ]
  },
  {
   "cell_type": "markdown",
   "metadata": {},
   "source": [
    "#### I.1.5. Choix de l'attribut de division ID3\n",
    "\n",
    "Ici, vous devez chercher l'attribut qui maximise IG.\n",
    "\n",
    "$$jj = \\arg\\max_j IG(Y, X_j)$$\n",
    "\n",
    "La fonction doit rendre jj, le IG de division en utilisant jj et l'entropy"
   ]
  },
  {
   "cell_type": "code",
   "execution_count": 41,
   "metadata": {},
   "outputs": [
    {
     "data": {
      "text/plain": [
       "(0, 0.24674981977443933, 0.9402859586706311)"
      ]
     },
     "execution_count": 41,
     "metadata": {},
     "output_type": "execute_result"
    }
   ],
   "source": [
    "# TODO compléter la fonction du choix d'attribut de dévision\n",
    "# le plus adéquat pour diviser Y \n",
    "# elle doit, aussi, rendre le IG et le H de ce caractéristique \n",
    "def choisir_devision_ID3(X, Y): \n",
    "    jj = -1 # numéro d'attribut qui maximise IG\n",
    "    ig_jj = -1.0 # IG de cet attribut (le max)\n",
    "    h_jj = -1.0  # Entropie \n",
    "    # Compléter ici\n",
    "    jj=np.argmax([IG(Y,X[:,i])[0] for i in range (np.shape(X)[1])])\n",
    "    ig_jj,h_jj=IG(Y,X[:,jj])\n",
    "    return jj, ig_jj, h_jj\n",
    "\n",
    "#=====================================================================\n",
    "# TEST UNITAIRE\n",
    "#=====================================================================\n",
    "# Resultat : (0, 0.24674981977443933, 0.9402859586706311)\n",
    "#---------------------------------------------------------------------\n",
    "\n",
    "choisir_devision_ID3(X_jouer, Y_jouer)"
   ]
  },
  {
   "cell_type": "markdown",
   "metadata": {},
   "source": [
    "#### I.1.6. Arrêt de division\n",
    "\n",
    "Etant donné les données suivantes :\n",
    "- **Y** : l'ensemble des prédiction au niveau d'un noeud\n",
    "- **h** : le critère d'homoginiété. h = 0 ==> l'ensemble Y est homogène (mêmes valeurs)\n",
    "- **nbr_min** : le nombre minimale des observations dans un noeud. |Y| <= nbr_min ==> le noeud doit être une feuille\n",
    "\n",
    "La fonction d'arrêt doit retourner : \n",
    "- Le nom de la classe : si l'ensemble est homogène ou il contient un nombre minimal des éléments\n",
    "- None : sinon"
   ]
  },
  {
   "cell_type": "code",
   "execution_count": 47,
   "metadata": {},
   "outputs": [
    {
     "data": {
      "text/plain": [
       "('oui', 'non', None)"
      ]
     },
     "execution_count": 47,
     "metadata": {},
     "output_type": "execute_result"
    }
   ],
   "source": [
    "# TODO : réaliser la fonction d'arrêt ID3\n",
    "# HINT : utiliser numpy.unique et numpy.argmax\n",
    "def arreter_ID3(Y, h, nbr_min):\n",
    "    if h==0 or len(Y)<=nbr_min:  \n",
    "        cls, freq=np.unique(Y,return_counts=True)\n",
    "        return cls[np.argmax(freq)]\n",
    "    return None\n",
    "\n",
    "\n",
    "#=====================================================================\n",
    "# TEST UNITAIRE\n",
    "#=====================================================================\n",
    "# Resultat : ('oui', 'non', None)\n",
    "#---------------------------------------------------------------------\n",
    "\n",
    "Y_t1 = np.array([\"oui\", \"oui\", \"oui\"])\n",
    "Y_t2 = np.array([\"oui\", \"non\", \"non\"])\n",
    "arreter_ID3(Y_t1, H(Y_t1), 2), arreter_ID3(Y_t2, H(Y_t2), 4), arreter_ID3(Y_t2, H(Y_t2), 2)"
   ]
  },
  {
   "cell_type": "markdown",
   "metadata": {},
   "source": [
    "#### I.1.7. Création de l'arbre\n",
    "\n",
    "**Rien à programmer ici**\n"
   ]
  },
  {
   "cell_type": "code",
   "execution_count": 48,
   "metadata": {},
   "outputs": [
    {
     "name": "stdout",
     "output_type": "stream",
     "text": [
      "Le Code\n",
      "Si X[0] est \"ensoleile\" Alors\n",
      "    Si X[2] est \"haute\" Alors\n",
      "        Y est \"non\"\n",
      "    Si X[2] est \"normale\" Alors\n",
      "        Y est \"oui\"\n",
      "Si X[0] est \"nuageux\" Alors\n",
      "    Y est \"oui\"\n",
      "Si X[0] est \"pluvieux\" Alors\n",
      "    Si X[3] est \"non\" Alors\n",
      "        Y est \"oui\"\n",
      "    Si X[3] est \"oui\" Alors\n",
      "        Y est \"non\"\n",
      "\n"
     ]
    },
    {
     "data": {
      "text/plain": [
       "'oui'"
      ]
     },
     "execution_count": 48,
     "metadata": {},
     "output_type": "execute_result"
    }
   ],
   "source": [
    "# Une classe pour contenir les informations du noeud et \n",
    "# la liste de ces fils\n",
    "class Noeud(object): \n",
    "    \n",
    "    nbr = 0\n",
    "    \n",
    "    def __init__(self, num, ig, h, profondeur): \n",
    "        self.num = num # le numéro du caractéristique de dévision dans X\n",
    "        self.ig = ig # le IG de division\n",
    "        self.h = h # l'entropie H\n",
    "        self.pr = profondeur # la profondeur du noeud\n",
    "        self.fils = {} # les fils ; un dictionnaire valeur : noeud\n",
    "        self.cls = \"\" # la classe si ce noeud est final (s'il n'y a pas de fils)\n",
    "        self.indent = \"    \" # indentation lorsqu'on génère le code\n",
    "    \n",
    "    # Cette fonction est pour transformer le noeud à une string\n",
    "    #Ici, nous avons redéfini cette fonction afin qu'elle écrive l'arbre \n",
    "    #sous form d'un algorithme ; c'est un parser \n",
    "    def __str__(self):\n",
    "        \n",
    "        indent = self.indent * self.pr # indentation : esthetique\n",
    "        \n",
    "        # s'il n'y a pas de fils, le noeud est terminal ; on imprime la classe\n",
    "        if (len(self.fils)==0):\n",
    "            return indent + 'Y est \"' + self.cls + '\"\\n'\n",
    "        \n",
    "        # s'il y a des fils, on boucle sur les fils et on imprime des SI ... ALORS\n",
    "        res = \"\"\n",
    "        for valeur in self.fils:\n",
    "            res += indent + 'Si X[' + str(self.num) + '] est \"' + str(valeur) + '\" Alors\\n' + str(self.fils[valeur])\n",
    "        return res\n",
    "    \n",
    "    # predire un échantillon\n",
    "    def predire(self, x): \n",
    "        \n",
    "        # Si le noeud est final, il rend sa classe \n",
    "        if (len(self.fils)==0):\n",
    "            return self.cls\n",
    "        \n",
    "        # Si la valeur de la colonne respective à ce noeud n'appartient pas à l'ensemble des\n",
    "        # valeurs attendues, on rend np.nan\n",
    "        if x[self.num] not in self.fils: \n",
    "            return np.nan\n",
    "        \n",
    "        # Sinon, on rend \n",
    "        return self.fils[x[self.num]].predire(x)\n",
    "    \n",
    "    # générer un code pour graphviz\n",
    "    def graphviz(self): \n",
    "        \n",
    "        nid = 'N' + str(Noeud.nbr)\n",
    "        Noeud.nbr += 1\n",
    "        \n",
    "        # Si le noeud est final, \n",
    "        if (len(self.fils)==0):\n",
    "            return nid, nid + '[label=\"' + self.cls + '\" shape=ellipse];\\n'\n",
    "        \n",
    "        # Sinon, \n",
    "        # s'il y a des fils, on boucle sur les fils et on imprime des SI ... ALORS\n",
    "        res = nid + '[label=\"X[' + str(self.num) + ']\\\\n'\n",
    "        res += 'H = ' + str(self.h) + '\\\\n'\n",
    "        res += 'IG = ' + str(self.ig) + '\"];\\n'\n",
    "        for valeur in self.fils:\n",
    "            vid, code = self.fils[valeur].graphviz()\n",
    "            res += code\n",
    "            res += nid + ' -> ' + vid + ' [label=\"' + valeur + '\"];\\n'\n",
    "        return nid, res\n",
    "    \n",
    "\n",
    "# créer l'arbre de décision à partir d'un ensemble X et Y\n",
    "def entrainer_ID3(X, Y, nbr_min=0, profondeur=0): \n",
    "    \n",
    "    # Chercher la meilleure caractéristique de X pour diviser Y\n",
    "    jj, ig_jj, h_jj = choisir_devision_ID3(X, Y)\n",
    "    # Créer un noeud\n",
    "    noeud = Noeud(jj, ig_jj, h_jj, profondeur)\n",
    "    # si arrêter rend une classe, donc c'est une feuille \n",
    "    cls = arreter_ID3(Y, h_jj, nbr_min)\n",
    "    if cls:\n",
    "        noeud.cls = cls # la classe du noeud\n",
    "        return noeud # retourner le noeud \n",
    "    \n",
    "    # Sinon, si le noeud n'est pas une feuille, on crée ces fils\n",
    "    profondeur += 1 # la profondeur de ces fils\n",
    "    # les fils sont créés à partir des valeurs uniques du meilleur caractéristique\n",
    "    for v in np.unique(X[:, jj]):\n",
    "        # Ces trois lignes sont pour récupérer les sous-ensembles X_val, Y_val\n",
    "        # Corresondants à une valeur du meilleur caractéristique\n",
    "        msk = X[:, jj] == v \n",
    "        X_v = X[msk]\n",
    "        Y_v = Y[msk]\n",
    "        # On refait la même opération sur l'ensemble (Y_val) d'une manière récursive\n",
    "        fils = entrainer_ID3(X_v, Y_v, nbr_min=nbr_min, profondeur=profondeur)\n",
    "        # On affecte le noeud créé indexé par la valeur du meilleur caractéristique \n",
    "        # à l'ensemble des fils du noeud courant\n",
    "        noeud.fils[v] = fils\n",
    "    \n",
    "    return noeud\n",
    "\n",
    "arbre_jouer = entrainer_ID3(X_jouer, Y_jouer)\n",
    "\n",
    "print(\"Le Code\")\n",
    "print(arbre_jouer)\n",
    "\n",
    "# Tester sur un échantillon\n",
    "arbre_jouer.predire([\"pluvieux\", \"temperature_makanche\", \"humidite_makanche\", \"non\"])"
   ]
  },
  {
   "cell_type": "markdown",
   "metadata": {},
   "source": [
    "#### I.1.8. Regrouper le tous\n",
    "\n",
    "**Rien à programmer ici**"
   ]
  },
  {
   "cell_type": "code",
   "execution_count": 49,
   "metadata": {},
   "outputs": [
    {
     "name": "stdout",
     "output_type": "stream",
     "text": [
      "Si temps est \"ensoleile\" Alors\n",
      "    Si humidite est \"haute\" Alors\n",
      "        jouer est \"non\"\n",
      "    Si humidite est \"normale\" Alors\n",
      "        jouer est \"oui\"\n",
      "Si temps est \"nuageux\" Alors\n",
      "    jouer est \"oui\"\n",
      "Si temps est \"pluvieux\" Alors\n",
      "    Si vent est \"non\" Alors\n",
      "        jouer est \"oui\"\n",
      "    Si vent est \"oui\" Alors\n",
      "        jouer est \"non\"\n",
      "\n"
     ]
    }
   ],
   "source": [
    "class ID3(object): \n",
    "    \n",
    "    def entrainer(self, X, Y, X_noms=[], Y_nom=\"\", nbr_min=0):\n",
    "        self.arbre = entrainer_ID3(X, Y, nbr_min=nbr_min)\n",
    "        code = str(self.arbre)\n",
    "        if len(Y_nom) > 0: \n",
    "            code = code.replace(\"Y\", Y_nom)\n",
    "        for i in range(len(X_noms)): \n",
    "            code = code.replace(\"X[\" + str(i) + \"]\", X_noms[i])\n",
    "        self.code = code\n",
    "        self.X_noms = X_noms\n",
    "    \n",
    "    def predire(self, X): \n",
    "        predictions = []\n",
    "        for i in range(len(X)): \n",
    "            predictions.append(self.arbre.predire(X[i, :]))\n",
    "        return predictions\n",
    "    \n",
    "    def graphviz(self): \n",
    "        nid, code = self.arbre.graphviz()\n",
    "        res = \"digraph Tree {\\n\"\n",
    "        res += \"node [shape=box] ;\"\n",
    "        for i in range(len(self.X_noms)): \n",
    "            code = code.replace(\"X[\" + str(i) + \"]\", self.X_noms[i])\n",
    "        res += code\n",
    "        res += \"}\"\n",
    "        return res\n",
    "\n",
    "id3_classifieur = ID3()\n",
    "id3_classifieur.entrainer(X_jouer, Y_jouer, X_noms=[\"temps\", \"temperature\", \"humidite\", \"vent\"], Y_nom=\"jouer\")\n",
    "print(id3_classifieur.code)"
   ]
  },
  {
   "cell_type": "code",
   "execution_count": 50,
   "metadata": {},
   "outputs": [
    {
     "data": {
      "image/svg+xml": [
       "<svg xmlns=\"http://www.w3.org/2000/svg\" xmlns:xlink=\"http://www.w3.org/1999/xlink\" width=\"430pt\" height=\"252pt\" viewBox=\"0.00 0.00 430.00 252.00\">\n",
       "<g id=\"graph0\" class=\"graph\" transform=\"scale(1 1) rotate(0) translate(4 248)\">\n",
       "<title>Tree</title>\n",
       "<polygon fill=\"white\" stroke=\"transparent\" points=\"-4,4 -4,-248 426,-248 426,4 -4,4\"/>\n",
       "<!-- N0 -->\n",
       "<g id=\"node1\" class=\"node\">\n",
       "<title>N0</title>\n",
       "<polygon fill=\"none\" stroke=\"black\" points=\"297.5,-244 124.5,-244 124.5,-191 297.5,-191 297.5,-244\"/>\n",
       "<text text-anchor=\"middle\" x=\"211\" y=\"-228.8\" font-family=\"Times New Roman,serif\" font-size=\"14.00\">temps</text>\n",
       "<text text-anchor=\"middle\" x=\"211\" y=\"-213.8\" font-family=\"Times New Roman,serif\" font-size=\"14.00\">H = 0.9402859586706311</text>\n",
       "<text text-anchor=\"middle\" x=\"211\" y=\"-198.8\" font-family=\"Times New Roman,serif\" font-size=\"14.00\">IG = 0.24674981977443933</text>\n",
       "</g>\n",
       "<!-- N1 -->\n",
       "<g id=\"node2\" class=\"node\">\n",
       "<title>N1</title>\n",
       "<polygon fill=\"none\" stroke=\"black\" points=\"166,-140 0,-140 0,-87 166,-87 166,-140\"/>\n",
       "<text text-anchor=\"middle\" x=\"83\" y=\"-124.8\" font-family=\"Times New Roman,serif\" font-size=\"14.00\">humidite</text>\n",
       "<text text-anchor=\"middle\" x=\"83\" y=\"-109.8\" font-family=\"Times New Roman,serif\" font-size=\"14.00\">H = 0.9709505944546686</text>\n",
       "<text text-anchor=\"middle\" x=\"83\" y=\"-94.8\" font-family=\"Times New Roman,serif\" font-size=\"14.00\">IG = 0.9709505944546686</text>\n",
       "</g>\n",
       "<!-- N0&#45;&gt;N1 -->\n",
       "<g id=\"edge3\" class=\"edge\">\n",
       "<title>N0-&gt;N1</title>\n",
       "<path fill=\"none\" stroke=\"black\" d=\"M178.7,-190.76C161.87,-177.35 141.14,-160.83 123.27,-146.59\"/>\n",
       "<polygon fill=\"black\" stroke=\"black\" points=\"125.29,-143.73 115.29,-140.23 120.93,-149.2 125.29,-143.73\"/>\n",
       "<text text-anchor=\"middle\" x=\"179\" y=\"-161.8\" font-family=\"Times New Roman,serif\" font-size=\"14.00\">ensoleile</text>\n",
       "</g>\n",
       "<!-- N4 -->\n",
       "<g id=\"node5\" class=\"node\">\n",
       "<title>N4</title>\n",
       "<ellipse fill=\"none\" stroke=\"black\" cx=\"211\" cy=\"-113.5\" rx=\"27\" ry=\"18\"/>\n",
       "<text text-anchor=\"middle\" x=\"211\" y=\"-109.8\" font-family=\"Times New Roman,serif\" font-size=\"14.00\">oui</text>\n",
       "</g>\n",
       "<!-- N0&#45;&gt;N4 -->\n",
       "<g id=\"edge4\" class=\"edge\">\n",
       "<title>N0-&gt;N4</title>\n",
       "<path fill=\"none\" stroke=\"black\" d=\"M211,-190.76C211,-175.85 211,-157.08 211,-141.9\"/>\n",
       "<polygon fill=\"black\" stroke=\"black\" points=\"214.5,-141.58 211,-131.58 207.5,-141.58 214.5,-141.58\"/>\n",
       "<text text-anchor=\"middle\" x=\"234\" y=\"-161.8\" font-family=\"Times New Roman,serif\" font-size=\"14.00\">nuageux</text>\n",
       "</g>\n",
       "<!-- N5 -->\n",
       "<g id=\"node6\" class=\"node\">\n",
       "<title>N5</title>\n",
       "<polygon fill=\"none\" stroke=\"black\" points=\"422,-140 256,-140 256,-87 422,-87 422,-140\"/>\n",
       "<text text-anchor=\"middle\" x=\"339\" y=\"-124.8\" font-family=\"Times New Roman,serif\" font-size=\"14.00\">vent</text>\n",
       "<text text-anchor=\"middle\" x=\"339\" y=\"-109.8\" font-family=\"Times New Roman,serif\" font-size=\"14.00\">H = 0.9709505944546686</text>\n",
       "<text text-anchor=\"middle\" x=\"339\" y=\"-94.8\" font-family=\"Times New Roman,serif\" font-size=\"14.00\">IG = 0.9709505944546686</text>\n",
       "</g>\n",
       "<!-- N0&#45;&gt;N5 -->\n",
       "<g id=\"edge7\" class=\"edge\">\n",
       "<title>N0-&gt;N5</title>\n",
       "<path fill=\"none\" stroke=\"black\" d=\"M243.3,-190.76C260.13,-177.35 280.86,-160.83 298.73,-146.59\"/>\n",
       "<polygon fill=\"black\" stroke=\"black\" points=\"301.07,-149.2 306.71,-140.23 296.71,-143.73 301.07,-149.2\"/>\n",
       "<text text-anchor=\"middle\" x=\"305.5\" y=\"-161.8\" font-family=\"Times New Roman,serif\" font-size=\"14.00\">pluvieux</text>\n",
       "</g>\n",
       "<!-- N2 -->\n",
       "<g id=\"node3\" class=\"node\">\n",
       "<title>N2</title>\n",
       "<ellipse fill=\"none\" stroke=\"black\" cx=\"47\" cy=\"-18\" rx=\"27\" ry=\"18\"/>\n",
       "<text text-anchor=\"middle\" x=\"47\" y=\"-14.3\" font-family=\"Times New Roman,serif\" font-size=\"14.00\">non</text>\n",
       "</g>\n",
       "<!-- N1&#45;&gt;N2 -->\n",
       "<g id=\"edge1\" class=\"edge\">\n",
       "<title>N1-&gt;N2</title>\n",
       "<path fill=\"none\" stroke=\"black\" d=\"M73.16,-86.95C68.15,-73.94 62.07,-58.15 57.03,-45.06\"/>\n",
       "<polygon fill=\"black\" stroke=\"black\" points=\"60.28,-43.75 53.42,-35.68 53.75,-46.27 60.28,-43.75\"/>\n",
       "<text text-anchor=\"middle\" x=\"82\" y=\"-57.8\" font-family=\"Times New Roman,serif\" font-size=\"14.00\">haute</text>\n",
       "</g>\n",
       "<!-- N3 -->\n",
       "<g id=\"node4\" class=\"node\">\n",
       "<title>N3</title>\n",
       "<ellipse fill=\"none\" stroke=\"black\" cx=\"119\" cy=\"-18\" rx=\"27\" ry=\"18\"/>\n",
       "<text text-anchor=\"middle\" x=\"119\" y=\"-14.3\" font-family=\"Times New Roman,serif\" font-size=\"14.00\">oui</text>\n",
       "</g>\n",
       "<!-- N1&#45;&gt;N3 -->\n",
       "<g id=\"edge2\" class=\"edge\">\n",
       "<title>N1-&gt;N3</title>\n",
       "<path fill=\"none\" stroke=\"black\" d=\"M92.84,-86.95C97.85,-73.94 103.93,-58.15 108.97,-45.06\"/>\n",
       "<polygon fill=\"black\" stroke=\"black\" points=\"112.25,-46.27 112.58,-35.68 105.72,-43.75 112.25,-46.27\"/>\n",
       "<text text-anchor=\"middle\" x=\"128.5\" y=\"-57.8\" font-family=\"Times New Roman,serif\" font-size=\"14.00\">normale</text>\n",
       "</g>\n",
       "<!-- N6 -->\n",
       "<g id=\"node7\" class=\"node\">\n",
       "<title>N6</title>\n",
       "<ellipse fill=\"none\" stroke=\"black\" cx=\"303\" cy=\"-18\" rx=\"27\" ry=\"18\"/>\n",
       "<text text-anchor=\"middle\" x=\"303\" y=\"-14.3\" font-family=\"Times New Roman,serif\" font-size=\"14.00\">oui</text>\n",
       "</g>\n",
       "<!-- N5&#45;&gt;N6 -->\n",
       "<g id=\"edge5\" class=\"edge\">\n",
       "<title>N5-&gt;N6</title>\n",
       "<path fill=\"none\" stroke=\"black\" d=\"M329.16,-86.95C324.15,-73.94 318.07,-58.15 313.03,-45.06\"/>\n",
       "<polygon fill=\"black\" stroke=\"black\" points=\"316.28,-43.75 309.42,-35.68 309.75,-46.27 316.28,-43.75\"/>\n",
       "<text text-anchor=\"middle\" x=\"333\" y=\"-57.8\" font-family=\"Times New Roman,serif\" font-size=\"14.00\">non</text>\n",
       "</g>\n",
       "<!-- N7 -->\n",
       "<g id=\"node8\" class=\"node\">\n",
       "<title>N7</title>\n",
       "<ellipse fill=\"none\" stroke=\"black\" cx=\"375\" cy=\"-18\" rx=\"27\" ry=\"18\"/>\n",
       "<text text-anchor=\"middle\" x=\"375\" y=\"-14.3\" font-family=\"Times New Roman,serif\" font-size=\"14.00\">non</text>\n",
       "</g>\n",
       "<!-- N5&#45;&gt;N7 -->\n",
       "<g id=\"edge6\" class=\"edge\">\n",
       "<title>N5-&gt;N7</title>\n",
       "<path fill=\"none\" stroke=\"black\" d=\"M348.84,-86.95C353.85,-73.94 359.93,-58.15 364.97,-45.06\"/>\n",
       "<polygon fill=\"black\" stroke=\"black\" points=\"368.25,-46.27 368.58,-35.68 361.72,-43.75 368.25,-46.27\"/>\n",
       "<text text-anchor=\"middle\" x=\"370\" y=\"-57.8\" font-family=\"Times New Roman,serif\" font-size=\"14.00\">oui</text>\n",
       "</g>\n",
       "</g>\n",
       "</svg>"
      ],
      "text/plain": [
       "<IPython.core.display.SVG object>"
      ]
     },
     "metadata": {},
     "output_type": "display_data"
    }
   ],
   "source": [
    "# C'est juste une visualisation du graphe\n",
    "# Si ça ne marche pas, ce n'ai pas grave\n",
    "try:\n",
    "    from IPython.display import SVG\n",
    "    from graphviz import Source\n",
    "    from IPython.display import display\n",
    "    \n",
    "    graph = Source(id3_classifieur.graphviz())\n",
    "    display(SVG(graph.pipe(format='svg')))\n",
    "\n",
    "except ImportError:\n",
    "    print(\"il faut installer graphviz\")"
   ]
  },
  {
   "cell_type": "markdown",
   "metadata": {},
   "source": [
    "### I.2. CART\n",
    "\n",
    "Ici, on va implémenter l'algorithme CART pour la classification avec des caractéristiques numériques. On va utiliser le dataset \"jouer (numériques)\". \n"
   ]
  },
  {
   "cell_type": "code",
   "execution_count": 51,
   "metadata": {},
   "outputs": [
    {
     "data": {
      "text/html": [
       "<div>\n",
       "<style scoped>\n",
       "    .dataframe tbody tr th:only-of-type {\n",
       "        vertical-align: middle;\n",
       "    }\n",
       "\n",
       "    .dataframe tbody tr th {\n",
       "        vertical-align: top;\n",
       "    }\n",
       "\n",
       "    .dataframe thead th {\n",
       "        text-align: right;\n",
       "    }\n",
       "</style>\n",
       "<table border=\"1\" class=\"dataframe\">\n",
       "  <thead>\n",
       "    <tr style=\"text-align: right;\">\n",
       "      <th></th>\n",
       "      <th>temperature</th>\n",
       "      <th>humidite</th>\n",
       "      <th>vent</th>\n",
       "      <th>jouer</th>\n",
       "    </tr>\n",
       "  </thead>\n",
       "  <tbody>\n",
       "    <tr>\n",
       "      <th>0</th>\n",
       "      <td>30</td>\n",
       "      <td>85</td>\n",
       "      <td>0</td>\n",
       "      <td>non</td>\n",
       "    </tr>\n",
       "    <tr>\n",
       "      <th>1</th>\n",
       "      <td>27</td>\n",
       "      <td>90</td>\n",
       "      <td>1</td>\n",
       "      <td>non</td>\n",
       "    </tr>\n",
       "    <tr>\n",
       "      <th>2</th>\n",
       "      <td>28</td>\n",
       "      <td>78</td>\n",
       "      <td>0</td>\n",
       "      <td>oui</td>\n",
       "    </tr>\n",
       "    <tr>\n",
       "      <th>3</th>\n",
       "      <td>21</td>\n",
       "      <td>96</td>\n",
       "      <td>0</td>\n",
       "      <td>oui</td>\n",
       "    </tr>\n",
       "    <tr>\n",
       "      <th>4</th>\n",
       "      <td>20</td>\n",
       "      <td>80</td>\n",
       "      <td>0</td>\n",
       "      <td>oui</td>\n",
       "    </tr>\n",
       "  </tbody>\n",
       "</table>\n",
       "</div>"
      ],
      "text/plain": [
       "   temperature  humidite  vent jouer\n",
       "0           30        85     0   non\n",
       "1           27        90     1   non\n",
       "2           28        78     0   oui\n",
       "3           21        96     0   oui\n",
       "4           20        80     0   oui"
      ]
     },
     "execution_count": 51,
     "metadata": {},
     "output_type": "execute_result"
    }
   ],
   "source": [
    "njouer_data = pd.read_csv(\"datasets/jouer_num.csv\")\n",
    "X_njouer = njouer_data.iloc[:, :-1].values # Premières colonnes \n",
    "Y_njouer = njouer_data.iloc[:,-1].values # Dernière colonne \n",
    "njouer_data.head()"
   ]
  },
  {
   "cell_type": "markdown",
   "metadata": {},
   "source": [
    "#### I.2.1. Index de diversité de Gini\n",
    "\n",
    "Dans le cas de classement, CART utilise l'indexe de diversité Gini pour mesurer l'erreur de classification.\n",
    "Un index de 0 représente la meilleure division; \n",
    "\n",
    "Etant donné : \n",
    "- $S$ liste des valeurs  \n",
    "- $V$ ensemble des valeurs uniques de $S$  (vocabulaire)\n",
    "\n",
    "L'index de diversité  $Gini(S)$ est calculée comme suit : \n",
    "$$Gini(S) = \\sum\\limits_{v \\in V} p(v/S) (1-p(v/S)) = 1 - \\sum\\limits_{v \\in V} p(v/S)^2 $$"
   ]
  },
  {
   "cell_type": "code",
   "execution_count": 55,
   "metadata": {},
   "outputs": [
    {
     "data": {
      "text/plain": [
       "0.4591836734693877"
      ]
     },
     "execution_count": 55,
     "metadata": {},
     "output_type": "execute_result"
    }
   ],
   "source": [
    "# TODO compléter la fonction Gini\n",
    "def Gini(S):  \n",
    "    V = np.unique(S)\n",
    "    gini = 1\n",
    "    # Compléter ici\n",
    "    for i in range (len(V)):\n",
    "        p=P(S,V[i])\n",
    "        gini-= p**2\n",
    "    return gini \n",
    "\n",
    "#=====================================================================\n",
    "# TEST UNITAIRE\n",
    "#=====================================================================\n",
    "# Resultat : 0.4591836734693877\n",
    "#---------------------------------------------------------------------\n",
    "\n",
    "Gini(Y_njouer)"
   ]
  },
  {
   "cell_type": "markdown",
   "metadata": {},
   "source": [
    "#### I.2.2. Division d'un ensemble\n",
    "\n",
    "**Rien à programmer ici**\n",
    "\n",
    "Ici, on essaye de diviser la liste des prédictions (classes) $Y$ selon une valeur donnée $v$ d'un attribut (caractéristique, colonne) $A$ sur deux listes :\n",
    "- $Y_G$ : une liste contenant les éléments de $Y$ où $A > v$\n",
    "- $Y_D$ : une liste contenant les éléments de $Y$ où $A \\le v$\n"
   ]
  },
  {
   "cell_type": "code",
   "execution_count": 56,
   "metadata": {},
   "outputs": [
    {
     "data": {
      "text/plain": [
       "(array(['non', 'non', 'oui', 'oui', 'non', 'oui', 'oui', 'oui', 'oui',\n",
       "        'oui', 'non'], dtype=object),\n",
       " array(['oui', 'non', 'oui'], dtype=object))"
      ]
     },
     "execution_count": 56,
     "metadata": {},
     "output_type": "execute_result"
    }
   ],
   "source": [
    "def diviser_CART(Y, A, v):\n",
    "    msk = A > v\n",
    "    return Y[msk], Y[~msk]\n",
    "\n",
    "#=====================================================================\n",
    "# TEST UNITAIRE\n",
    "#=====================================================================\n",
    "# Resultat : \n",
    "# (array(['non', 'non', 'oui', 'oui', 'non', 'oui', 'oui', 'oui', 'oui',\n",
    "#         'oui', 'non'], dtype=object),\n",
    "#  array(['oui', 'non', 'oui'], dtype=object))\n",
    "#---------------------------------------------------------------------\n",
    "\n",
    "diviser_CART(Y_njouer, X_njouer[:,0], 20)"
   ]
  },
  {
   "cell_type": "markdown",
   "metadata": {},
   "source": [
    "#### I.2.3. Diversité Gini de la division\n",
    "\n",
    "Etant donné : \n",
    "- **Y** : une liste des prédictions\n",
    "- **V** : les différentes valeurs de Y (les classes\n",
    "- S_G, G_D : sous ensembles gauche et droit\n",
    "- $|S| = |S_G| + |S_D|$\n",
    "\n",
    "La diversité Gini de la division : \n",
    "\n",
    "$$Gini_{div}(S_G, S_D) = \\frac{|S_G|}{|S|} Gini(S_G) + \\frac{|S_D|}{|S|} Gini(S_D)$$\n"
   ]
  },
  {
   "cell_type": "code",
   "execution_count": 58,
   "metadata": {},
   "outputs": [
    {
     "data": {
      "text/plain": [
       "0.4588744588744589"
      ]
     },
     "execution_count": 58,
     "metadata": {},
     "output_type": "execute_result"
    }
   ],
   "source": [
    "# TODO compléter la fonction diversité gini de la division\n",
    "def Gini_div(S_G, S_D): \n",
    "    S_len = float(len(S_G) + len(S_D)) \n",
    "    # Compléter ici\n",
    "    S_G_len= float(len(S_G))\n",
    "    S_D_len= float(len(S_D))\n",
    "    return S_G_len*Gini(S_G)/S_len+S_D_len*Gini(S_D)/S_len\n",
    "\n",
    "#=====================================================================\n",
    "# TEST UNITAIRE\n",
    "#=====================================================================\n",
    "# Resultat : 0.4588744588744589\n",
    "#---------------------------------------------------------------------\n",
    "\n",
    "S_G, S_D = diviser_CART(Y_njouer, X_njouer[:, 0], 20)\n",
    "Gini_div(S_G, S_D)"
   ]
  },
  {
   "cell_type": "markdown",
   "metadata": {},
   "source": [
    "#### I.2.4. Choix de l'attribut et la valeur de division CART\n",
    "\n",
    "L'algorithme\n",
    "- Pour chaque ccaractéristique $X_j$ \n",
    "   - Pour chaque valeur $v$ appartennant aux valeurs uniques de $X_j$\n",
    "       1. Diviser $Y$ en se basant sur la valeur $v$ et celles de $X_j$\n",
    "       1. Calculer Gini de cette division \n",
    "       1. Garder l'indice **jj** de la caractéristique qui minimise Gini\n",
    "       1. Garder Gini minimale **gini_jj**\n",
    "       1. Garder la valeur de dévision **v_jj**\n",
    "       "
   ]
  },
  {
   "cell_type": "code",
   "execution_count": 79,
   "metadata": {},
   "outputs": [
    {
     "data": {
      "text/plain": [
       "(1, 0.3936507936507936, 80)"
      ]
     },
     "execution_count": 79,
     "metadata": {},
     "output_type": "execute_result"
    }
   ],
   "source": [
    "# TODO compléter la fonction du choix de l'attribut et la valeur de division CART\n",
    "def choisir_division_CART(X, Y): \n",
    "    jj = -1\n",
    "    gini_jj = 1.0\n",
    "    v_jj = -1.0\n",
    "    # Compléter ici\n",
    "    for i in range(np.shape(X)[1]):\n",
    "        V=np.unique(X[:,i])\n",
    "        for v in V:\n",
    "            S_G, S_D =diviser_CART(Y, X[:,i], v)\n",
    "            gini=Gini_div(S_G, S_D)\n",
    "            if gini_jj>gini:\n",
    "                gini_jj=gini\n",
    "                jj=i\n",
    "                v_jj=v\n",
    "    return jj, gini_jj, v_jj\n",
    "\n",
    "#=====================================================================\n",
    "# TEST UNITAIRE\n",
    "#=====================================================================\n",
    "# Resultat : (1, 0.3936507936507937, 80)\n",
    "#---------------------------------------------------------------------\n",
    "\n",
    "choisir_division_CART(X_njouer, Y_njouer)"
   ]
  },
  {
   "cell_type": "markdown",
   "metadata": {},
   "source": [
    "#### I.2.5. Arrêt de division CART\n",
    "\n",
    "**Rien à programmer ici** \n",
    "\n",
    "On va utiliser la même fonction que celle de ID3. Mais, pour être consistant, on va seulement renomer la fonction et passer Gini à la place de l'entropie."
   ]
  },
  {
   "cell_type": "code",
   "execution_count": 62,
   "metadata": {},
   "outputs": [
    {
     "data": {
      "text/plain": [
       "('oui', 'non', None)"
      ]
     },
     "execution_count": 62,
     "metadata": {},
     "output_type": "execute_result"
    }
   ],
   "source": [
    "arreter_CART = arreter_ID3\n",
    "\n",
    "#=====================================================================\n",
    "# TEST UNITAIRE\n",
    "#=====================================================================\n",
    "# Resultat : ('oui', 'non', None)\n",
    "#---------------------------------------------------------------------\n",
    "\n",
    "Y_t1 = np.array([\"oui\", \"oui\", \"oui\"])\n",
    "Y_t2 = np.array([\"oui\", \"non\", \"non\"])\n",
    "arreter_CART(Y_t1, H(Y_t1), 2), arreter_CART(Y_t2, H(Y_t2), 4), arreter_CART(Y_t2, H(Y_t2), 2)"
   ]
  },
  {
   "cell_type": "markdown",
   "metadata": {},
   "source": [
    "#### I.2.6. Création de l'arbre\n",
    "\n",
    "**Rien à programmer ici**"
   ]
  },
  {
   "cell_type": "code",
   "execution_count": 63,
   "metadata": {},
   "outputs": [
    {
     "name": "stdout",
     "output_type": "stream",
     "text": [
      "Le Code\n",
      "Si X[1]  > 80 Alors\n",
      "    Si X[0]  > 22 Alors\n",
      "        Y est \"non\"\n",
      "    Sinon\n",
      "        Si X[0]  > 21 Alors\n",
      "            Y est \"non\"\n",
      "        Sinon\n",
      "            Y est \"oui\"\n",
      "Sinon\n",
      "    Si X[2]  > 0 Alors\n",
      "        Si X[1]  > 70 Alors\n",
      "            Y est \"non\"\n",
      "        Sinon\n",
      "            Si X[0]  > 18 Alors\n",
      "                Y est \"oui\"\n",
      "            Sinon\n",
      "                Y est \"non\"\n",
      "    Sinon\n",
      "        Y est \"oui\"\n",
      "\n"
     ]
    }
   ],
   "source": [
    "# Comme Noeud, mais il faut changer un peu, puisqu'on teste sur des \n",
    "# valeurs numériques aussi\n",
    "# Le code sera plus utilisable si on crée une classe commune et on hérite\n",
    "# Mais, je n'ai pas le temps pour tout ça (DEAL WITH IT)\n",
    "class NoeudBin(object): \n",
    "    \n",
    "    nbr = 0\n",
    "    \n",
    "    def __init__(self, num, val, gini, profondeur): \n",
    "        self.num = num # le numéro du caractéristique de dévision dans X\n",
    "        self.val = val\n",
    "        self.gini = gini # le Gini de division\n",
    "        self.pr = profondeur # la profondeur du noeud\n",
    "        self.fils = [] # les fils ; un tableau de deux noeuds: S_G, S_D\n",
    "        self.cls = \"\" # la classe si ce noeud est final (s'il n'y a pas de fils)\n",
    "        self.indent = \"    \" # indentation lorsqu'on génère le code\n",
    "    \n",
    "    # Cette fonction est pour transformer le noeud à une string\n",
    "    #Ici, nous avons redéfini cette fonction afin qu'elle écrive l'arbre \n",
    "    #sous form d'un algorithme ; c'est un parser \n",
    "    def __str__(self):\n",
    "        \n",
    "        indent = self.indent * self.pr # indentation : esthetique\n",
    "        \n",
    "        # s'il n'y a pas de fils, le noeud est terminal ; on imprime la classe\n",
    "        if (len(self.fils)==0):\n",
    "            return indent + 'Y est \"' + self.cls + '\"\\n'\n",
    "         \n",
    "        prefix = ' > '\n",
    "        suffix = ''\n",
    "        \n",
    "        # s'il y a des fils, on boucle sur les fils et on imprime des SI ... ALORS SINON\n",
    "        res = \"\"\n",
    "        res += indent + 'Si X[' + str(self.num) + '] ' + prefix + str(self.val) + suffix + ' Alors\\n' + str(self.fils[0])\n",
    "        res += indent + 'Sinon\\n' + str(self.fils[1])\n",
    "        return res\n",
    "    \n",
    "    # predire un échantillon\n",
    "    def predire(self, x): \n",
    "        \n",
    "        # Si le noeud est final, il rend sa classe \n",
    "        if (len(self.fils)==0):\n",
    "            return self.cls\n",
    "        \n",
    "        # sinon\n",
    "        if x[self.num] > self.val:\n",
    "            return self.fils[0].predire(x)\n",
    "        return self.fils[1].predire(x)\n",
    "\n",
    "    \n",
    "    # générer un code pour graphviz\n",
    "    def graphviz(self): \n",
    "        \n",
    "        nid = 'N' + str(NoeudBin.nbr)\n",
    "        NoeudBin.nbr += 1\n",
    "        \n",
    "        # Si le noeud est final, \n",
    "        if (len(self.fils)==0):\n",
    "            return nid, nid + '[label=\"' + self.cls + '\" shape=ellipse];\\n'\n",
    "        \n",
    "        # Sinon, \n",
    "        # s'il y a des fils, on boucle sur les fils et on imprime des SI ... ALORS\n",
    "        prefix = '] > '\n",
    "        res = nid + '[label=\"X[' + str(self.num) + prefix + str(self.val) + '\\\\n'\n",
    "        res += 'Gini = ' + str(self.gini) + '\"];\\n'\n",
    "        vid_G, code_G = self.fils[0].graphviz()\n",
    "        vid_D, code_D = self.fils[1].graphviz()\n",
    "        \n",
    "        res += code_G + code_D\n",
    "        res += nid + ' -> ' + vid_G + ' [label=\"Vrai\"];\\n'\n",
    "        res += nid + ' -> ' + vid_D + ' [label=\"Faux\"];\\n'\n",
    "        return nid, res\n",
    "\n",
    "# créer l'arbre de décision à partir d'un ensemble X et Y\n",
    "def entrainer_CART(X, Y, profondeur=0, nbr_min=0): \n",
    "    \n",
    "    # Chercher le meilleur caractéristique de X pour diviser Y\n",
    "    jj, gini_jj, v_jj = choisir_division_CART(X, Y)\n",
    "    # Créer un noeud\n",
    "    noeud = NoeudBin(jj, v_jj, gini_jj, profondeur)\n",
    "    # Si l'entropie est 0 donc le noeud est terminal, élagage\n",
    "    \n",
    "    cls = arreter_CART(Y, gini_jj, nbr_min)\n",
    "    if cls:\n",
    "        noeud.cls = cls # la classe du noeud\n",
    "        return noeud # retourner le noeud \n",
    "     \n",
    "    \n",
    "    # Sinon, si le noeud n'est pas terminal, on crée ces fils\n",
    "    profondeur += 1 # la profondeur de ces fils\n",
    "    # création des deux fils\n",
    "    \n",
    "    msk = X[:, jj] > v_jj\n",
    "    \n",
    "    X_G = X[msk]\n",
    "    Y_G = Y[msk]\n",
    "    fils_G = entrainer_CART(X_G, Y_G, profondeur, nbr_min)\n",
    "    X_D = X[~msk]\n",
    "    Y_D = Y[~msk]\n",
    "    fils_D = entrainer_CART(X_D, Y_D, profondeur, nbr_min)\n",
    "    noeud.fils.append(fils_G)\n",
    "    noeud.fils.append(fils_D)\n",
    "    \n",
    "    return noeud\n",
    "\n",
    "arbre_njouer = entrainer_CART(X_njouer, Y_njouer)\n",
    "\n",
    "print(\"Le Code\")\n",
    "print(arbre_njouer)"
   ]
  },
  {
   "cell_type": "markdown",
   "metadata": {},
   "source": [
    "#### I.2.7. Regrouper le tous\n",
    "\n",
    "**Rien à programmer ici**"
   ]
  },
  {
   "cell_type": "code",
   "execution_count": 64,
   "metadata": {},
   "outputs": [
    {
     "name": "stdout",
     "output_type": "stream",
     "text": [
      "Si humidite  > 80 Alors\n",
      "    Si temperature  > 22 Alors\n",
      "        jouer est \"non\"\n",
      "    Sinon\n",
      "        Si temperature  > 21 Alors\n",
      "            jouer est \"non\"\n",
      "        Sinon\n",
      "            jouer est \"oui\"\n",
      "Sinon\n",
      "    Si vent  > 0 Alors\n",
      "        Si humidite  > 70 Alors\n",
      "            jouer est \"non\"\n",
      "        Sinon\n",
      "            Si temperature  > 18 Alors\n",
      "                jouer est \"oui\"\n",
      "            Sinon\n",
      "                jouer est \"non\"\n",
      "    Sinon\n",
      "        jouer est \"oui\"\n",
      "\n"
     ]
    }
   ],
   "source": [
    "class CART(object): \n",
    "    \n",
    "    def entrainer(self, X, Y, X_noms=[], Y_nom=\"\", nbr_min=0):\n",
    "        self.arbre = entrainer_CART(X, Y, 0, nbr_min)\n",
    "        code = str(self.arbre)\n",
    "        if len(Y_nom) > 0: \n",
    "            code = code.replace(\"Y\", Y_nom)\n",
    "        for i in range(len(X_noms)): \n",
    "            code = code.replace(\"X[\" + str(i) + \"]\", X_noms[i])\n",
    "        self.code = code\n",
    "        self.X_noms = X_noms\n",
    "    \n",
    "    def predire(self, X): \n",
    "        predictions = []\n",
    "        for i in range(len(X)): \n",
    "            predictions.append(self.arbre.predire(X[i, :]))\n",
    "        return predictions\n",
    "    \n",
    "    def graphviz(self): \n",
    "        nid, code = self.arbre.graphviz()\n",
    "        res = \"digraph Tree {\\n\"\n",
    "        res += \"node [shape=box] ;\"\n",
    "        for i in range(len(self.X_noms)): \n",
    "            code = code.replace(\"X[\" + str(i) + \"]\", self.X_noms[i])\n",
    "        res += code\n",
    "        res += \"}\"\n",
    "        return res\n",
    "\n",
    "cart_classifieur = CART()\n",
    "cart_classifieur.entrainer(X_njouer, Y_njouer, X_noms=[\"temperature\", \"humidite\", \"vent\"], Y_nom=\"jouer\")\n",
    "print(cart_classifieur.code)"
   ]
  },
  {
   "cell_type": "code",
   "execution_count": 65,
   "metadata": {},
   "outputs": [
    {
     "data": {
      "image/svg+xml": [
       "<svg xmlns=\"http://www.w3.org/2000/svg\" xmlns:xlink=\"http://www.w3.org/1999/xlink\" width=\"518pt\" height=\"400pt\" viewBox=\"0.00 0.00 518.00 400.00\">\n",
       "<g id=\"graph0\" class=\"graph\" transform=\"scale(1 1) rotate(0) translate(4 396)\">\n",
       "<title>Tree</title>\n",
       "<polygon fill=\"white\" stroke=\"transparent\" points=\"-4,4 -4,-396 514,-396 514,4 -4,4\"/>\n",
       "<!-- N0 -->\n",
       "<g id=\"node1\" class=\"node\">\n",
       "<title>N0</title>\n",
       "<polygon fill=\"none\" stroke=\"black\" points=\"340,-392 166,-392 166,-354 340,-354 340,-392\"/>\n",
       "<text text-anchor=\"middle\" x=\"253\" y=\"-376.8\" font-family=\"Times New Roman,serif\" font-size=\"14.00\">humidite &gt; 80</text>\n",
       "<text text-anchor=\"middle\" x=\"253\" y=\"-361.8\" font-family=\"Times New Roman,serif\" font-size=\"14.00\">Gini = 0.3936507936507936</text>\n",
       "</g>\n",
       "<!-- N1 -->\n",
       "<g id=\"node2\" class=\"node\">\n",
       "<title>N1</title>\n",
       "<polygon fill=\"none\" stroke=\"black\" points=\"246.5,-303 65.5,-303 65.5,-265 246.5,-265 246.5,-303\"/>\n",
       "<text text-anchor=\"middle\" x=\"156\" y=\"-287.8\" font-family=\"Times New Roman,serif\" font-size=\"14.00\">temperature &gt; 22</text>\n",
       "<text text-anchor=\"middle\" x=\"156\" y=\"-272.8\" font-family=\"Times New Roman,serif\" font-size=\"14.00\">Gini = 0.26666666666666666</text>\n",
       "</g>\n",
       "<!-- N0&#45;&gt;N1 -->\n",
       "<g id=\"edge11\" class=\"edge\">\n",
       "<title>N0-&gt;N1</title>\n",
       "<path fill=\"none\" stroke=\"black\" d=\"M232.9,-353.97C218.73,-341.26 199.55,-324.06 183.89,-310.02\"/>\n",
       "<polygon fill=\"black\" stroke=\"black\" points=\"185.85,-307.07 176.07,-303 181.18,-312.29 185.85,-307.07\"/>\n",
       "<text text-anchor=\"middle\" x=\"223\" y=\"-324.8\" font-family=\"Times New Roman,serif\" font-size=\"14.00\">Vrai</text>\n",
       "</g>\n",
       "<!-- N6 -->\n",
       "<g id=\"node7\" class=\"node\">\n",
       "<title>N6</title>\n",
       "<polygon fill=\"none\" stroke=\"black\" points=\"439,-303 265,-303 265,-265 439,-265 439,-303\"/>\n",
       "<text text-anchor=\"middle\" x=\"352\" y=\"-287.8\" font-family=\"Times New Roman,serif\" font-size=\"14.00\">vent &gt; 0</text>\n",
       "<text text-anchor=\"middle\" x=\"352\" y=\"-272.8\" font-family=\"Times New Roman,serif\" font-size=\"14.00\">Gini = 0.2222222222222222</text>\n",
       "</g>\n",
       "<!-- N0&#45;&gt;N6 -->\n",
       "<g id=\"edge12\" class=\"edge\">\n",
       "<title>N0-&gt;N6</title>\n",
       "<path fill=\"none\" stroke=\"black\" d=\"M273.51,-353.97C288.11,-341.14 307.91,-323.74 323.97,-309.63\"/>\n",
       "<polygon fill=\"black\" stroke=\"black\" points=\"326.31,-312.23 331.51,-303 321.69,-306.98 326.31,-312.23\"/>\n",
       "<text text-anchor=\"middle\" x=\"323\" y=\"-324.8\" font-family=\"Times New Roman,serif\" font-size=\"14.00\">Faux</text>\n",
       "</g>\n",
       "<!-- N2 -->\n",
       "<g id=\"node3\" class=\"node\">\n",
       "<title>N2</title>\n",
       "<ellipse fill=\"none\" stroke=\"black\" cx=\"27\" cy=\"-195\" rx=\"27\" ry=\"18\"/>\n",
       "<text text-anchor=\"middle\" x=\"27\" y=\"-191.3\" font-family=\"Times New Roman,serif\" font-size=\"14.00\">non</text>\n",
       "</g>\n",
       "<!-- N1&#45;&gt;N2 -->\n",
       "<g id=\"edge3\" class=\"edge\">\n",
       "<title>N1-&gt;N2</title>\n",
       "<path fill=\"none\" stroke=\"black\" d=\"M129.27,-264.97C107.22,-250.1 76.07,-229.09 53.95,-214.18\"/>\n",
       "<polygon fill=\"black\" stroke=\"black\" points=\"55.62,-211.08 45.38,-208.39 51.71,-216.89 55.62,-211.08\"/>\n",
       "<text text-anchor=\"middle\" x=\"112\" y=\"-235.8\" font-family=\"Times New Roman,serif\" font-size=\"14.00\">Vrai</text>\n",
       "</g>\n",
       "<!-- N3 -->\n",
       "<g id=\"node4\" class=\"node\">\n",
       "<title>N3</title>\n",
       "<polygon fill=\"none\" stroke=\"black\" points=\"246,-214 72,-214 72,-176 246,-176 246,-214\"/>\n",
       "<text text-anchor=\"middle\" x=\"159\" y=\"-198.8\" font-family=\"Times New Roman,serif\" font-size=\"14.00\">temperature &gt; 21</text>\n",
       "<text text-anchor=\"middle\" x=\"159\" y=\"-183.8\" font-family=\"Times New Roman,serif\" font-size=\"14.00\">Gini = 0.3333333333333333</text>\n",
       "</g>\n",
       "<!-- N1&#45;&gt;N3 -->\n",
       "<g id=\"edge4\" class=\"edge\">\n",
       "<title>N1-&gt;N3</title>\n",
       "<path fill=\"none\" stroke=\"black\" d=\"M156.62,-264.97C157.03,-253.19 157.57,-237.56 158.03,-224.16\"/>\n",
       "<polygon fill=\"black\" stroke=\"black\" points=\"161.53,-224.12 158.38,-214 154.54,-223.88 161.53,-224.12\"/>\n",
       "<text text-anchor=\"middle\" x=\"172\" y=\"-235.8\" font-family=\"Times New Roman,serif\" font-size=\"14.00\">Faux</text>\n",
       "</g>\n",
       "<!-- N4 -->\n",
       "<g id=\"node5\" class=\"node\">\n",
       "<title>N4</title>\n",
       "<ellipse fill=\"none\" stroke=\"black\" cx=\"105\" cy=\"-106\" rx=\"27\" ry=\"18\"/>\n",
       "<text text-anchor=\"middle\" x=\"105\" y=\"-102.3\" font-family=\"Times New Roman,serif\" font-size=\"14.00\">non</text>\n",
       "</g>\n",
       "<!-- N3&#45;&gt;N4 -->\n",
       "<g id=\"edge1\" class=\"edge\">\n",
       "<title>N3-&gt;N4</title>\n",
       "<path fill=\"none\" stroke=\"black\" d=\"M147.81,-175.97C139.85,-163.15 129.07,-145.78 120.31,-131.67\"/>\n",
       "<polygon fill=\"black\" stroke=\"black\" points=\"123.15,-129.61 114.9,-122.96 117.2,-133.3 123.15,-129.61\"/>\n",
       "<text text-anchor=\"middle\" x=\"148\" y=\"-146.8\" font-family=\"Times New Roman,serif\" font-size=\"14.00\">Vrai</text>\n",
       "</g>\n",
       "<!-- N5 -->\n",
       "<g id=\"node6\" class=\"node\">\n",
       "<title>N5</title>\n",
       "<ellipse fill=\"none\" stroke=\"black\" cx=\"177\" cy=\"-106\" rx=\"27\" ry=\"18\"/>\n",
       "<text text-anchor=\"middle\" x=\"177\" y=\"-102.3\" font-family=\"Times New Roman,serif\" font-size=\"14.00\">oui</text>\n",
       "</g>\n",
       "<!-- N3&#45;&gt;N5 -->\n",
       "<g id=\"edge2\" class=\"edge\">\n",
       "<title>N3-&gt;N5</title>\n",
       "<path fill=\"none\" stroke=\"black\" d=\"M162.73,-175.97C165.24,-163.84 168.6,-147.62 171.42,-133.95\"/>\n",
       "<polygon fill=\"black\" stroke=\"black\" points=\"174.86,-134.62 173.46,-124.12 168.01,-133.2 174.86,-134.62\"/>\n",
       "<text text-anchor=\"middle\" x=\"184\" y=\"-146.8\" font-family=\"Times New Roman,serif\" font-size=\"14.00\">Faux</text>\n",
       "</g>\n",
       "<!-- N7 -->\n",
       "<g id=\"node8\" class=\"node\">\n",
       "<title>N7</title>\n",
       "<polygon fill=\"none\" stroke=\"black\" points=\"438,-214 264,-214 264,-176 438,-176 438,-214\"/>\n",
       "<text text-anchor=\"middle\" x=\"351\" y=\"-198.8\" font-family=\"Times New Roman,serif\" font-size=\"14.00\">humidite &gt; 70</text>\n",
       "<text text-anchor=\"middle\" x=\"351\" y=\"-183.8\" font-family=\"Times New Roman,serif\" font-size=\"14.00\">Gini = 0.3333333333333333</text>\n",
       "</g>\n",
       "<!-- N6&#45;&gt;N7 -->\n",
       "<g id=\"edge9\" class=\"edge\">\n",
       "<title>N6-&gt;N7</title>\n",
       "<path fill=\"none\" stroke=\"black\" d=\"M351.79,-264.97C351.66,-253.19 351.48,-237.56 351.32,-224.16\"/>\n",
       "<polygon fill=\"black\" stroke=\"black\" points=\"354.82,-223.96 351.21,-214 347.82,-224.04 354.82,-223.96\"/>\n",
       "<text text-anchor=\"middle\" x=\"364\" y=\"-235.8\" font-family=\"Times New Roman,serif\" font-size=\"14.00\">Vrai</text>\n",
       "</g>\n",
       "<!-- N12 -->\n",
       "<g id=\"node13\" class=\"node\">\n",
       "<title>N12</title>\n",
       "<ellipse fill=\"none\" stroke=\"black\" cx=\"483\" cy=\"-195\" rx=\"27\" ry=\"18\"/>\n",
       "<text text-anchor=\"middle\" x=\"483\" y=\"-191.3\" font-family=\"Times New Roman,serif\" font-size=\"14.00\">oui</text>\n",
       "</g>\n",
       "<!-- N6&#45;&gt;N12 -->\n",
       "<g id=\"edge10\" class=\"edge\">\n",
       "<title>N6-&gt;N12</title>\n",
       "<path fill=\"none\" stroke=\"black\" d=\"M379.14,-264.97C401.64,-250.03 433.45,-228.91 455.93,-213.98\"/>\n",
       "<polygon fill=\"black\" stroke=\"black\" points=\"457.95,-216.84 464.34,-208.39 454.07,-211.01 457.95,-216.84\"/>\n",
       "<text text-anchor=\"middle\" x=\"440\" y=\"-235.8\" font-family=\"Times New Roman,serif\" font-size=\"14.00\">Faux</text>\n",
       "</g>\n",
       "<!-- N8 -->\n",
       "<g id=\"node9\" class=\"node\">\n",
       "<title>N8</title>\n",
       "<ellipse fill=\"none\" stroke=\"black\" cx=\"285\" cy=\"-106\" rx=\"27\" ry=\"18\"/>\n",
       "<text text-anchor=\"middle\" x=\"285\" y=\"-102.3\" font-family=\"Times New Roman,serif\" font-size=\"14.00\">non</text>\n",
       "</g>\n",
       "<!-- N7&#45;&gt;N8 -->\n",
       "<g id=\"edge7\" class=\"edge\">\n",
       "<title>N7-&gt;N8</title>\n",
       "<path fill=\"none\" stroke=\"black\" d=\"M337.32,-175.97C327.38,-162.87 313.82,-145 303,-130.73\"/>\n",
       "<polygon fill=\"black\" stroke=\"black\" points=\"305.5,-128.24 296.67,-122.39 299.93,-132.47 305.5,-128.24\"/>\n",
       "<text text-anchor=\"middle\" x=\"334\" y=\"-146.8\" font-family=\"Times New Roman,serif\" font-size=\"14.00\">Vrai</text>\n",
       "</g>\n",
       "<!-- N9 -->\n",
       "<g id=\"node10\" class=\"node\">\n",
       "<title>N9</title>\n",
       "<polygon fill=\"none\" stroke=\"black\" points=\"504,-125 330,-125 330,-87 504,-87 504,-125\"/>\n",
       "<text text-anchor=\"middle\" x=\"417\" y=\"-109.8\" font-family=\"Times New Roman,serif\" font-size=\"14.00\">temperature &gt; 18</text>\n",
       "<text text-anchor=\"middle\" x=\"417\" y=\"-94.8\" font-family=\"Times New Roman,serif\" font-size=\"14.00\">Gini = 0.3333333333333333</text>\n",
       "</g>\n",
       "<!-- N7&#45;&gt;N9 -->\n",
       "<g id=\"edge8\" class=\"edge\">\n",
       "<title>N7-&gt;N9</title>\n",
       "<path fill=\"none\" stroke=\"black\" d=\"M364.68,-175.97C374.06,-163.61 386.65,-147 397.14,-133.18\"/>\n",
       "<polygon fill=\"black\" stroke=\"black\" points=\"400.09,-135.09 403.34,-125 394.51,-130.85 400.09,-135.09\"/>\n",
       "<text text-anchor=\"middle\" x=\"402\" y=\"-146.8\" font-family=\"Times New Roman,serif\" font-size=\"14.00\">Faux</text>\n",
       "</g>\n",
       "<!-- N10 -->\n",
       "<g id=\"node11\" class=\"node\">\n",
       "<title>N10</title>\n",
       "<ellipse fill=\"none\" stroke=\"black\" cx=\"381\" cy=\"-18\" rx=\"27\" ry=\"18\"/>\n",
       "<text text-anchor=\"middle\" x=\"381\" y=\"-14.3\" font-family=\"Times New Roman,serif\" font-size=\"14.00\">oui</text>\n",
       "</g>\n",
       "<!-- N9&#45;&gt;N10 -->\n",
       "<g id=\"edge5\" class=\"edge\">\n",
       "<title>N9-&gt;N10</title>\n",
       "<path fill=\"none\" stroke=\"black\" d=\"M409.37,-86.76C404.25,-74.54 397.44,-58.27 391.78,-44.74\"/>\n",
       "<polygon fill=\"black\" stroke=\"black\" points=\"394.98,-43.34 387.89,-35.47 388.53,-46.04 394.98,-43.34\"/>\n",
       "<text text-anchor=\"middle\" x=\"414\" y=\"-57.8\" font-family=\"Times New Roman,serif\" font-size=\"14.00\">Vrai</text>\n",
       "</g>\n",
       "<!-- N11 -->\n",
       "<g id=\"node12\" class=\"node\">\n",
       "<title>N11</title>\n",
       "<ellipse fill=\"none\" stroke=\"black\" cx=\"453\" cy=\"-18\" rx=\"27\" ry=\"18\"/>\n",
       "<text text-anchor=\"middle\" x=\"453\" y=\"-14.3\" font-family=\"Times New Roman,serif\" font-size=\"14.00\">non</text>\n",
       "</g>\n",
       "<!-- N9&#45;&gt;N11 -->\n",
       "<g id=\"edge6\" class=\"edge\">\n",
       "<title>N9-&gt;N11</title>\n",
       "<path fill=\"none\" stroke=\"black\" d=\"M424.63,-86.76C429.75,-74.54 436.56,-58.27 442.22,-44.74\"/>\n",
       "<polygon fill=\"black\" stroke=\"black\" points=\"445.47,-46.04 446.11,-35.47 439.02,-43.34 445.47,-46.04\"/>\n",
       "<text text-anchor=\"middle\" x=\"453\" y=\"-57.8\" font-family=\"Times New Roman,serif\" font-size=\"14.00\">Faux</text>\n",
       "</g>\n",
       "</g>\n",
       "</svg>"
      ],
      "text/plain": [
       "<IPython.core.display.SVG object>"
      ]
     },
     "metadata": {},
     "output_type": "display_data"
    }
   ],
   "source": [
    "# C'est juste une visualisation du graphe\n",
    "# Si ça ne marche pas, ce n'ai pas grave\n",
    "try:\n",
    "    from IPython.display import SVG\n",
    "    from graphviz import Source\n",
    "    from IPython.display import display\n",
    "    \n",
    "    graph = Source(cart_classifieur.graphviz())\n",
    "    display(SVG(graph.pipe(format='svg')))\n",
    "\n",
    "except ImportError:\n",
    "    print(\"il faut installer graphviz\")"
   ]
  },
  {
   "cell_type": "markdown",
   "metadata": {},
   "source": [
    "## II. Application et analyse\n",
    "\n",
    "On va utiliser le dataset [Cars Data](https://www.kaggle.com/abineshkumark/carsdata) pour classer les voitures en trois classes : US., Euroupe. ou Japan. "
   ]
  },
  {
   "cell_type": "code",
   "execution_count": 66,
   "metadata": {},
   "outputs": [
    {
     "data": {
      "text/html": [
       "<div>\n",
       "<style scoped>\n",
       "    .dataframe tbody tr th:only-of-type {\n",
       "        vertical-align: middle;\n",
       "    }\n",
       "\n",
       "    .dataframe tbody tr th {\n",
       "        vertical-align: top;\n",
       "    }\n",
       "\n",
       "    .dataframe thead th {\n",
       "        text-align: right;\n",
       "    }\n",
       "</style>\n",
       "<table border=\"1\" class=\"dataframe\">\n",
       "  <thead>\n",
       "    <tr style=\"text-align: right;\">\n",
       "      <th></th>\n",
       "      <th>mpg</th>\n",
       "      <th>cylinders</th>\n",
       "      <th>cubicinches</th>\n",
       "      <th>hp</th>\n",
       "      <th>weightlbs</th>\n",
       "      <th>time-to-60</th>\n",
       "      <th>year</th>\n",
       "      <th>brand</th>\n",
       "    </tr>\n",
       "  </thead>\n",
       "  <tbody>\n",
       "    <tr>\n",
       "      <th>0</th>\n",
       "      <td>14.0</td>\n",
       "      <td>8</td>\n",
       "      <td>350.0</td>\n",
       "      <td>165</td>\n",
       "      <td>4209.0</td>\n",
       "      <td>12</td>\n",
       "      <td>1972</td>\n",
       "      <td>US.</td>\n",
       "    </tr>\n",
       "    <tr>\n",
       "      <th>1</th>\n",
       "      <td>31.9</td>\n",
       "      <td>4</td>\n",
       "      <td>89.0</td>\n",
       "      <td>71</td>\n",
       "      <td>1925.0</td>\n",
       "      <td>14</td>\n",
       "      <td>1980</td>\n",
       "      <td>Europe.</td>\n",
       "    </tr>\n",
       "    <tr>\n",
       "      <th>2</th>\n",
       "      <td>17.0</td>\n",
       "      <td>8</td>\n",
       "      <td>302.0</td>\n",
       "      <td>140</td>\n",
       "      <td>3449.0</td>\n",
       "      <td>11</td>\n",
       "      <td>1971</td>\n",
       "      <td>US.</td>\n",
       "    </tr>\n",
       "    <tr>\n",
       "      <th>3</th>\n",
       "      <td>15.0</td>\n",
       "      <td>8</td>\n",
       "      <td>400.0</td>\n",
       "      <td>150</td>\n",
       "      <td>3761.0</td>\n",
       "      <td>10</td>\n",
       "      <td>1971</td>\n",
       "      <td>US.</td>\n",
       "    </tr>\n",
       "    <tr>\n",
       "      <th>4</th>\n",
       "      <td>30.5</td>\n",
       "      <td>4</td>\n",
       "      <td>98.0</td>\n",
       "      <td>63</td>\n",
       "      <td>2051.0</td>\n",
       "      <td>17</td>\n",
       "      <td>1978</td>\n",
       "      <td>US.</td>\n",
       "    </tr>\n",
       "  </tbody>\n",
       "</table>\n",
       "</div>"
      ],
      "text/plain": [
       "    mpg  cylinders  cubicinches   hp  weightlbs  time-to-60  year    brand\n",
       "0  14.0          8        350.0  165     4209.0          12  1972      US.\n",
       "1  31.9          4         89.0   71     1925.0          14  1980  Europe.\n",
       "2  17.0          8        302.0  140     3449.0          11  1971      US.\n",
       "3  15.0          8        400.0  150     3761.0          10  1971      US.\n",
       "4  30.5          4         98.0   63     2051.0          17  1978      US."
      ]
     },
     "execution_count": 66,
     "metadata": {},
     "output_type": "execute_result"
    }
   ],
   "source": [
    "# Lecture du dataset\n",
    "cars_data = pd.read_csv('datasets/cars.csv', skipinitialspace=True)\n",
    "# On a remarqué que le type de cette caractéristique n'est pas bien détecté\n",
    "cars_data[\"cubicinches\"] = pd.to_numeric(cars_data[\"cubicinches\"])\n",
    "# supprimer les valeurs absentes \n",
    "cars_data.dropna(inplace=True)\n",
    "# Yay! We did it! Voici les premières lignes du dataset\n",
    "cars_data.head()"
   ]
  },
  {
   "cell_type": "code",
   "execution_count": 67,
   "metadata": {},
   "outputs": [
    {
     "data": {
      "text/plain": [
       "((204, 7), (52, 7))"
      ]
     },
     "execution_count": 67,
     "metadata": {},
     "output_type": "execute_result"
    }
   ],
   "source": [
    "from sklearn.model_selection import train_test_split\n",
    "\n",
    "X_cars = cars_data.values[:, :-1]\n",
    "Y_cars = cars_data.values[:,-1]\n",
    "\n",
    "X_cars_train, X_cars_test, Y_cars_train, Y_cars_test = train_test_split(X_cars, Y_cars, test_size=0.2, random_state=0) \n",
    "\n",
    "X_cars_train.shape, X_cars_test.shape"
   ]
  },
  {
   "cell_type": "markdown",
   "metadata": {},
   "source": [
    "### II.1. Arbres de décision\n",
    "\n",
    "Dans l'implémentation Scikit-learn des arbres de décision (**DecisionTreeClassifier**), les caractéristiques sont permutées d'une façon aléatoire à chaque division. Ceci rendre l'arbre non déterministe. Pour arrêter ça, on utilise la proporiété **random_state=0**\n",
    "\n",
    "#### II.1.1. Critère de choix des caractéristiques\n",
    "\n",
    "Nous avons entraîné deux arbres de décision CART avec les critères de division : \n",
    "- Entropy\n",
    "- Gini\n",
    "\n",
    "**TODO : Analyser les résultats**\n",
    "- Que remarquez-vous concernant la structure des deux arbres : ENTOPY (à gauche) et GINI (à droit) ? La structure veut dire : la profendeur et le nombre des feuilles.\n",
    "- Justifier le temps d'entraînement et de test en se basant sur les deux algorithmes et les deux structures discutées.\n",
    "\n",
    "**Réponse**\n",
    "- On remarque que le nombre de feuille est egales (32 pour les deux approches) alors que la profondeur de Gini (16) est superieur à celle de l'Entropy (14).\n",
    "- Temps d'entrainement:Comme la profondeur de Gini à celle de l'entropy alors le temps construction de l'arbre de Gini va etre plus grand que celui de l'entropy. De plus, les calcules de Gini sont plus complèxes que ceux de l'entropy.\n",
    "- Temps de test: on remarque que le temps de test de Gini est plus grand que celui de l'entropy car le test est un parcours de l'arbre et comme l'arbre de Gini est plus profond que celui de lentropy cela va impliquer que le temps de test de Gini est plus grand."
   ]
  },
  {
   "cell_type": "code",
   "execution_count": 81,
   "metadata": {},
   "outputs": [
    {
     "name": "stdout",
     "output_type": "stream",
     "text": [
      "Fini\n"
     ]
    }
   ],
   "source": [
    "from sklearn.tree import DecisionTreeClassifier\n",
    "from sklearn.metrics import f1_score\n",
    "import timeit\n",
    "from sklearn import tree\n",
    "\n",
    "Xchoix_train = X_cars_train\n",
    "Ychoix_train = Y_cars_train\n",
    "Xchoix_test = X_cars_test\n",
    "Ychoix_test = Y_cars_test\n",
    "fnames = cars_data.columns\n",
    "\n",
    "#Xchoix_train = X_njouer[4:, :]\n",
    "#Ychoix_train = Y_njouer[4:]\n",
    "#Xchoix_test = X_njouer[:4, :]\n",
    "#Ychoix_test = Y_njouer[:4]\n",
    "#fnames = [\"temperature\", \"humidite\", \"vent\"]\n",
    "\n",
    "\n",
    "gini_stats = []\n",
    "entropy_stats = []\n",
    "gini_classifieur = DecisionTreeClassifier(criterion=\"gini\", random_state=0)\n",
    "entropy_classifieur = DecisionTreeClassifier(criterion=\"entropy\", random_state=0)\n",
    "\n",
    "# ============ GINI ====================\n",
    "# ............ Entraînement ............\n",
    "temps_debut = timeit.default_timer()\n",
    "gini_classifieur.fit(Xchoix_train, Ychoix_train)\n",
    "gini_stats.append(timeit.default_timer() - temps_debut)\n",
    "# ..... Evaluation entrainement ........\n",
    "gini_stats.append(f1_score(Ychoix_train, gini_classifieur.predict(Xchoix_train), average=\"micro\"))\n",
    "# ................ Test ................\n",
    "temps_debut = timeit.default_timer()\n",
    "Ychoix_pred = gini_classifieur.predict(Xchoix_test)\n",
    "gini_stats.append(timeit.default_timer() - temps_debut)\n",
    "# ........... Evaluation test ...........\n",
    "gini_stats.append(f1_score(Ychoix_test, Ychoix_pred, average=\"micro\"))\n",
    "\n",
    "# =========== Entropy ==================\n",
    "# ............ Entraînement ............\n",
    "temps_debut = timeit.default_timer()\n",
    "entropy_classifieur.fit(Xchoix_train, Ychoix_train)\n",
    "entropy_stats.append(timeit.default_timer() - temps_debut)\n",
    "# ..... Evaluation entrainement ........\n",
    "entropy_stats.append(f1_score(Ychoix_train, entropy_classifieur.predict(Xchoix_train), average=\"micro\"))\n",
    "# ................ Test ................\n",
    "temps_debut = timeit.default_timer()\n",
    "Ychoix_pred = entropy_classifieur.predict(Xchoix_test)\n",
    "entropy_stats.append(timeit.default_timer() - temps_debut)\n",
    "# ........... Evaluation test ...........\n",
    "entropy_stats.append(f1_score(Ychoix_test, Ychoix_pred, average=\"micro\"))\n",
    "\n",
    "print(\"Fini\")"
   ]
  },
  {
   "cell_type": "code",
   "execution_count": 82,
   "metadata": {},
   "outputs": [
    {
     "data": {
      "image/png": "[encoded data removed]",
      "text/plain": [
       "<Figure size 1440x864 with 2 Axes>"
      ]
     },
     "metadata": {
      "needs_background": "light"
     },
     "output_type": "display_data"
    }
   ],
   "source": [
    "fig, (ax1, ax2) = plt.subplots(1,2)\n",
    "fig.set_figwidth(20)\n",
    "fig.set_figheight(12)\n",
    "tree.plot_tree(entropy_classifieur, ax=ax1, feature_names=fnames, filled=True)\n",
    "tree.plot_tree(gini_classifieur, ax=ax2, feature_names=fnames, filled=True)\n",
    "plt.show()"
   ]
  },
  {
   "cell_type": "code",
   "execution_count": 83,
   "metadata": {},
   "outputs": [
    {
     "data": {
      "text/html": [
       "<div>\n",
       "<style scoped>\n",
       "    .dataframe tbody tr th:only-of-type {\n",
       "        vertical-align: middle;\n",
       "    }\n",
       "\n",
       "    .dataframe tbody tr th {\n",
       "        vertical-align: top;\n",
       "    }\n",
       "\n",
       "    .dataframe thead th {\n",
       "        text-align: right;\n",
       "    }\n",
       "</style>\n",
       "<table border=\"1\" class=\"dataframe\">\n",
       "  <thead>\n",
       "    <tr style=\"text-align: right;\">\n",
       "      <th></th>\n",
       "      <th>Criteres</th>\n",
       "      <th>Entropie</th>\n",
       "      <th>Gini</th>\n",
       "    </tr>\n",
       "  </thead>\n",
       "  <tbody>\n",
       "    <tr>\n",
       "      <th>0</th>\n",
       "      <td>Temps Entrainement</td>\n",
       "      <td>0.002627</td>\n",
       "      <td>0.017417</td>\n",
       "    </tr>\n",
       "    <tr>\n",
       "      <th>1</th>\n",
       "      <td>F1 Entrainement</td>\n",
       "      <td>1.000000</td>\n",
       "      <td>1.000000</td>\n",
       "    </tr>\n",
       "    <tr>\n",
       "      <th>2</th>\n",
       "      <td>Temps Test</td>\n",
       "      <td>0.000424</td>\n",
       "      <td>0.001119</td>\n",
       "    </tr>\n",
       "    <tr>\n",
       "      <th>3</th>\n",
       "      <td>F1 Test</td>\n",
       "      <td>0.826923</td>\n",
       "      <td>0.788462</td>\n",
       "    </tr>\n",
       "  </tbody>\n",
       "</table>\n",
       "</div>"
      ],
      "text/plain": [
       "             Criteres  Entropie      Gini\n",
       "0  Temps Entrainement  0.002627  0.017417\n",
       "1     F1 Entrainement  1.000000  1.000000\n",
       "2          Temps Test  0.000424  0.001119\n",
       "3             F1 Test  0.826923  0.788462"
      ]
     },
     "execution_count": 83,
     "metadata": {},
     "output_type": "execute_result"
    }
   ],
   "source": [
    "pd.DataFrame({\n",
    "    \"Criteres\" : [\"Temps Entrainement\", \"F1 Entrainement\", \"Temps Test\", \"F1 Test\"],\n",
    "    \"Entropie\" : entropy_stats,\n",
    "    \"Gini\" : gini_stats\n",
    "})"
   ]
  },
  {
   "cell_type": "markdown",
   "metadata": {},
   "source": [
    "#### II.1.2. Profondeur maximale de l'arbre\n",
    "\n",
    "Pour chaque profondeur, on entraîne un modèle et on mesure sa convergence et sa performance en terme du score F1. \n",
    "\n",
    "**TODO : Analyser les résultats**\n",
    "- Que remarquez-vous ? (Est-ce que plus de profondeur veut dire le modèle va généraliser mieux)\n",
    "- Justifier\n",
    "\n",
    "**Réponse**\n",
    "- Il n'est pas obligatoire que plus la profondeur augmente plus le modèle va généraliser mieux, il y a des cas où la profondeur augmente alors que les résults de test sont dégradés, et on arrivant à un certain seuil le f1 de test se stabilise. \n",
    "- Justification: l'augmentation de la profondeur n'implique pas toujours l'amélioration des résultats de test car en augmentant la profondeur de l'arbre, on risque d'avoir un sur apprentissage qui va influencer les résultats."
   ]
  },
  {
   "cell_type": "code",
   "execution_count": 85,
   "metadata": {},
   "outputs": [
    {
     "data": {
      "image/png": "[encoded data removed]",
      "text/plain": [
       "<Figure size 432x288 with 1 Axes>"
      ]
     },
     "metadata": {
      "needs_background": "light"
     },
     "output_type": "display_data"
    }
   ],
   "source": [
    "MAX_PROF = 40\n",
    "\n",
    "MAX_PROF_lst = range(1, MAX_PROF+1, 1)\n",
    "\n",
    "f1_train_pm = []\n",
    "f1_test_pm = []\n",
    "for max_prof in MAX_PROF_lst:\n",
    "    classifieur = DecisionTreeClassifier(random_state=0, max_depth=max_prof)\n",
    "    classifieur.fit(X_cars_train, Y_cars_train)\n",
    "    f1_train_pm.append(f1_score(Y_cars_train, classifieur.predict(X_cars_train), average=\"micro\"))\n",
    "    f1_test_pm.append(f1_score(Y_cars_test, classifieur.predict(X_cars_test), average=\"micro\"))\n",
    "\n",
    "plt.plot(MAX_PROF_lst, f1_train_pm, color=\"blue\", label=\"Convergence (entrainement)\")\n",
    "plt.plot(MAX_PROF_lst, f1_test_pm, color=\"red\", label=\"Test\")\n",
    "plt.ylabel(\"F1\")\n",
    "plt.xlabel(\"Profondeur max de l'arbre\")\n",
    "plt.legend()\n",
    "#plt.rcParams[\"figure.figsize\"] = (3,7)\n",
    "plt.show()"
   ]
  },
  {
   "cell_type": "markdown",
   "metadata": {},
   "source": [
    "#### II.1.3. Observations minimales dans les feuilles\n",
    "\n",
    "Pour chaque nombre des observations minimales dans les feuilles, on entraîne un modèle et on mesure sa convergence et sa performance en terme du score F1. \n",
    "\n",
    "**TODO : Analyser les résultats**\n",
    "- Que remarquez-vous ?\n",
    "- Justifier pourquoi la performance se diminue (en indiquant si ce critère d'arrêt garantie un apprentissage normale ou peut causer un sur-apprentissage ou sous-apprentissage)\n",
    "\n",
    "**Réponse**\n",
    "- Remarque: On remarque que dans le cas où les observations minimales sont très petites [0,7] , F1 de test est petit meme si F1 de l'entrainement est très proche de 1. Dans le cas de [7,10] observations minimales, F1 de test atteint son maximum meme si F1 de lentrainement est dégradé. En depassant ces valeurs, on aura un diminution dans le F1 de test ainsi que celui de l'entrainement\n",
    "- Justification:\n",
    "- [0, 7] dans ce cas, nous avons un sur-apprentissage car le modèle a apris bien les données de l'entainement donc il ne peut pas generaliser.\n",
    "- [7,10] par rapport à la taille du dataset, ce nombre permet d'avoir un apprentissage normal\n",
    "- plus de 10 observations, nous aurons un sous-apprentissage, car le modèle n'a pas pu apprendre bien les données.\n"
   ]
  },
  {
   "cell_type": "code",
   "execution_count": 92,
   "metadata": {},
   "outputs": [
    {
     "data": {
      "image/png": "[encoded data removed]",
      "text/plain": [
       "<Figure size 432x288 with 1 Axes>"
      ]
     },
     "metadata": {
      "needs_background": "light"
     },
     "output_type": "display_data"
    }
   ],
   "source": [
    "MIN_FEUILLE = 40\n",
    "\n",
    "MIN_FEUILLE_lst = range(1, MIN_FEUILLE+1, 1)\n",
    "\n",
    "f1_train_mf = []\n",
    "f1_test_mf = []\n",
    "for min_feuille in MIN_FEUILLE_lst:\n",
    "    classifieur = DecisionTreeClassifier(random_state=0, min_samples_leaf=min_feuille)\n",
    "    classifieur.fit(X_cars_train, Y_cars_train)\n",
    "    f1_train_mf.append(f1_score(Y_cars_train, classifieur.predict(X_cars_train), average=\"micro\"))\n",
    "    f1_test_mf.append(f1_score(Y_cars_test, classifieur.predict(X_cars_test), average=\"micro\"))\n",
    "\n",
    "plt.plot(MIN_FEUILLE_lst, f1_train_mf, color=\"blue\", label=\"Convergence (entrainement)\")\n",
    "plt.plot(MIN_FEUILLE_lst, f1_test_mf, color=\"red\", label=\"Test\")\n",
    "plt.ylabel(\"F1\")\n",
    "plt.xlabel(\"Observations minimales dans les feuilles\")\n",
    "plt.legend()\n",
    "#plt.rcParams[\"figure.figsize\"] = (3,7)\n",
    "plt.show()"
   ]
  },
  {
   "cell_type": "markdown",
   "metadata": {},
   "source": [
    "### II.2. Forêts aléatoires\n",
    "\n",
    "#### II.2.1. Nombre des arbres\n",
    "\n",
    "Pour chaque nombre des arbres dans le forêt, on entraîne un modèle et on mesure sa convergence et sa performance en terme du score F1. \n",
    "\n",
    "**TODO : Analyser les résultats**\n",
    "- Que remarquez-vous ? (convergence et généralisation)\n",
    "\n",
    "**Réponse**\n",
    "- On remarque que plus le nombre d'arbres augmente, plus F1 de l'entrainement augmente jusqu'à arriver à un certain seuil où F1 se stabilise.\n",
    "- On ce qui concerne F1 de test, Plus le nombre d'arbres augmente, plus F1 de test augmente mais avec une certaine perturbation où on remarque une diminution de F1."
   ]
  },
  {
   "cell_type": "code",
   "execution_count": 94,
   "metadata": {},
   "outputs": [
    {
     "data": {
      "image/png": "[encoded data removed]",
      "text/plain": [
       "<Figure size 432x288 with 1 Axes>"
      ]
     },
     "metadata": {
      "needs_background": "light"
     },
     "output_type": "display_data"
    }
   ],
   "source": [
    "from sklearn.ensemble import RandomForestClassifier\n",
    "\n",
    "MAX_ARBRE = 100\n",
    "\n",
    "MAX_ARBRE_lst = range(1, MAX_ARBRE+1, 1)\n",
    "\n",
    "f1_train_nbarbres = []\n",
    "f1_test_nbarbres = []\n",
    "for max_arbres in MAX_ARBRE_lst:\n",
    "    classifieur = RandomForestClassifier(n_estimators=max_arbres)\n",
    "    classifieur.fit(X_cars_train, Y_cars_train)\n",
    "    f1_train_nbarbres.append(f1_score(Y_cars_train, classifieur.predict(X_cars_train), average=\"micro\"))\n",
    "    f1_test_nbarbres.append(f1_score(Y_cars_test, classifieur.predict(X_cars_test), average=\"micro\"))\n",
    "\n",
    "plt.plot(MAX_ARBRE_lst, f1_train_nbarbres, color=\"blue\", label=\"Convergence (entrainement)\")\n",
    "plt.plot(MAX_ARBRE_lst, f1_test_nbarbres, color=\"red\", label=\"Test\")\n",
    "plt.ylabel(\"F1\")\n",
    "plt.xlabel(\"Nombre des arbres\")\n",
    "plt.legend()\n",
    "#plt.rcParams[\"figure.figsize\"] = (3,7)\n",
    "plt.show()"
   ]
  },
  {
   "cell_type": "markdown",
   "metadata": {},
   "source": [
    "#### II.2.2. Profondeur maximale des arbres\n",
    "\n",
    "Pour chaque profondeur, on entraîne un forêt et on mesure sa convergence et sa performance en terme du score F1. On compare les résultats avec les arbres équivalents (avec la même profondeur)\n",
    "\n",
    "**TODO : Analyser les résultats**\n",
    "- Comparer la convergence des forêts et des arbres en terme de la profondeur maximale\n",
    "- Comparer la généralisation des forêts et des arbres en terme de la profondeur maximale\n",
    "- Justifier ces résultats (en indiquant pourquoi nous avons des oscillations dans F1 test des forêts)\n",
    "\n",
    "**Réponse**\n",
    "- On remarque que, plus on augmente la profondeur max de l'arbre plus la convergence est rapide. la convergence du foret est plus rapide que celle d'un seul arbre\n",
    "- On remarque que les forets sont plus generalisées qu'un seul arbre.\n",
    "- Justification:\n",
    "- Comme les arbres des forets sont generé aléatoirement alors cela va influencer les structures des differents arbres ce qui resulte les oscillations dans F1 test des forêts.\n",
    "- Le point fort des forets des arbres est qu'on entraine plusieurs modèles (arbres) sur plusieurs echantillons ce qui permet d'avoir de meilleur resultat et de minimiser les erreurs. Aussi, le sur-apprentissage est rare dans le cas des forets "
   ]
  },
  {
   "cell_type": "code",
   "execution_count": 96,
   "metadata": {},
   "outputs": [
    {
     "data": {
      "image/png": "[encoded data removed]",
      "text/plain": [
       "<Figure size 432x288 with 1 Axes>"
      ]
     },
     "metadata": {
      "needs_background": "light"
     },
     "output_type": "display_data"
    }
   ],
   "source": [
    "f1_train_pm_foret = []\n",
    "f1_test_pm_foret = []\n",
    "for max_prof in MAX_PROF_lst:\n",
    "    classifieur = RandomForestClassifier(n_estimators=40, max_depth=max_prof)\n",
    "    classifieur.fit(X_cars_train, Y_cars_train)\n",
    "    f1_train_pm_foret.append(f1_score(Y_cars_train, classifieur.predict(X_cars_train), average=\"micro\"))\n",
    "    f1_test_pm_foret.append(f1_score(Y_cars_test, classifieur.predict(X_cars_test), average=\"micro\"))\n",
    "\n",
    "plt.plot(MAX_PROF_lst, f1_train_pm_foret, color=\"blue\", label=\"Convergence (Foret)\")\n",
    "plt.plot(MAX_PROF_lst, f1_test_pm_foret, color=\"red\", label=\"Test (Foret)\")\n",
    "plt.plot(MAX_PROF_lst, f1_train_pm, color=\"green\", label=\"Convergence (Arbre)\")\n",
    "plt.plot(MAX_PROF_lst, f1_test_pm, color=\"orange\", label=\"Test (Arbre)\")\n",
    "plt.ylabel(\"F1\")\n",
    "plt.xlabel(\"Profondeur max de l'arbre\")\n",
    "plt.legend()\n",
    "#plt.rcParams[\"figure.figsize\"] = (3,7)\n",
    "plt.show()"
   ]
  },
  {
   "cell_type": "markdown",
   "metadata": {},
   "source": [
    "#### II.2.3. Observations minimales dans les feuilles\n",
    "\n",
    "Pour chaque nombre minimale des observations dans les feuilles, on entraîne un forêt et on mesure sa convergence et sa performance en terme du score F1. On compare les résultats avec les arbres équivalents (avec le même nombre des observations minimales)\n",
    "\n",
    "**TODO : Analyser les résultats**\n",
    "- Comparer la performance (convergence et généralisation) des arbres et des forêts en terme du noombre des observations dans les feuilles\n",
    "- Justifier \n",
    "\n",
    "**Réponse**\n",
    "- Comparaison:\n",
    "- Convergence: la convergence des forets diminue rapidement par rapport aux arbres\n",
    "- Généralisation: la généralisation des forets est mieux que celle des arbres  \n",
    "- Justification:\n",
    "- les foret generalisent mieux que les arbres car elles utilisent plusieurs modèles (arbres) et puis le principe de vote majoritaire qui nous permet à la fois d'avoir des resultats juste et elimine le sur apprentissage.\n",
    "- la convergence des forets diminue rapidement car la taille du dataset est  diviser par le nombre de modèles qui vont etre utilisés alors un grand nombre des observations min va affecter les forets plus dans le cas des arbres. "
   ]
  },
  {
   "cell_type": "code",
   "execution_count": 98,
   "metadata": {},
   "outputs": [
    {
     "data": {
      "image/png": "[encoded data removed]",
      "text/plain": [
       "<Figure size 432x288 with 1 Axes>"
      ]
     },
     "metadata": {
      "needs_background": "light"
     },
     "output_type": "display_data"
    }
   ],
   "source": [
    "f1_train_mf_foret = []\n",
    "f1_test_mf_foret = []\n",
    "for min_feuille in MIN_FEUILLE_lst:\n",
    "    classifieur = RandomForestClassifier(n_estimators=40, min_samples_leaf=min_feuille)\n",
    "    classifieur.fit(X_cars_train, Y_cars_train)\n",
    "    f1_train_mf_foret.append(f1_score(Y_cars_train, classifieur.predict(X_cars_train), average=\"micro\"))\n",
    "    f1_test_mf_foret.append(f1_score(Y_cars_test, classifieur.predict(X_cars_test), average=\"micro\"))\n",
    "\n",
    "plt.plot(MIN_FEUILLE_lst, f1_train_mf_foret, color=\"blue\", label=\"Convergence (Foret)\")\n",
    "plt.plot(MIN_FEUILLE_lst, f1_test_mf_foret, color=\"red\", label=\"Test (Foret)\")\n",
    "plt.plot(MIN_FEUILLE_lst, f1_train_mf, color=\"green\", label=\"Convergence (Arbre)\")\n",
    "plt.plot(MIN_FEUILLE_lst, f1_test_mf, color=\"orange\", label=\"Test (Arbre)\")\n",
    "plt.ylabel(\"F1\")\n",
    "plt.xlabel(\"Observations minimales dans les feuilles\")\n",
    "plt.legend()\n",
    "#plt.rcParams[\"figure.figsize\"] = (3,7)\n",
    "plt.show()"
   ]
  },
  {
   "cell_type": "markdown",
   "metadata": {},
   "source": [
    "#### II.2.4. Taille d'un Bootstrap\n",
    "\n",
    "Ici, on définit un pourcentage de la taille des Bootstrap par rapport la taille initiale du dataset. Pour chaque pourcentage, on entraîne un forêt et on test sa performance (convergence et généralisation) en utilisant la mesure F1.\n",
    "\n",
    "**TODO : Analyser les résultats**\n",
    "- Que remarquez-vous ?\n",
    "- Quelle est la raison pour laquelle la performance n'augmente pas d'une manière lisse ?\n",
    "\n",
    "**Réponse**\n",
    "- On remarque que, plus lat taille du bootstrap augmente plus F1 est amélioré mais avec des oscillations soit dans le cas de convergence au de generalisation.\n",
    "- Justification: Les perturbations obtenus dans la convergences sont à cause de la generation aleatoire des bootstrap."
   ]
  },
  {
   "cell_type": "code",
   "execution_count": 99,
   "metadata": {},
   "outputs": [
    {
     "data": {
      "image/png": "[encoded data removed]",
      "text/plain": [
       "<Figure size 432x288 with 1 Axes>"
      ]
     },
     "metadata": {
      "needs_background": "light"
     },
     "output_type": "display_data"
    }
   ],
   "source": [
    "POUR_OBS_lst = np.arange(0.1, 1, 0.01)\n",
    "\n",
    "f1_train_ech = []\n",
    "f1_test_ech = []\n",
    "for pour_obs in POUR_OBS_lst:\n",
    "    classifieur = RandomForestClassifier(n_estimators=40, max_samples=pour_obs)\n",
    "    classifieur.fit(X_cars_train, Y_cars_train)\n",
    "    f1_train_ech.append(f1_score(Y_cars_train, classifieur.predict(X_cars_train), average=\"micro\"))\n",
    "    f1_test_ech.append(f1_score(Y_cars_test, classifieur.predict(X_cars_test), average=\"micro\"))\n",
    "\n",
    "plt.plot(POUR_OBS_lst, f1_train_ech, color=\"blue\", label=\"Convergence (Foret)\")\n",
    "plt.plot(POUR_OBS_lst, f1_test_ech, color=\"red\", label=\"Test (Foret)\")\n",
    "plt.ylabel(\"F1\")\n",
    "plt.xlabel(\"Pourcentage du bootstap par rapport le dataset originale\")\n",
    "plt.legend()\n",
    "#plt.rcParams[\"figure.figsize\"] = (3,7)\n",
    "plt.show()"
   ]
  },
  {
   "cell_type": "code",
   "execution_count": null,
   "metadata": {},
   "outputs": [],
   "source": []
  }
 ],
 "metadata": {
  "kernelspec": {
   "display_name": "Python 3",
   "language": "python",
   "name": "python3"
  },
  "language_info": {
   "codemirror_mode": {
    "name": "ipython",
    "version": 3
   },
   "file_extension": ".py",
   "mimetype": "text/x-python",
   "name": "python",
   "nbconvert_exporter": "python",
   "pygments_lexer": "ipython3",
   "version": "3.8.5"
  }
 },
 "nbformat": 4,
 "nbformat_minor": 2
}
