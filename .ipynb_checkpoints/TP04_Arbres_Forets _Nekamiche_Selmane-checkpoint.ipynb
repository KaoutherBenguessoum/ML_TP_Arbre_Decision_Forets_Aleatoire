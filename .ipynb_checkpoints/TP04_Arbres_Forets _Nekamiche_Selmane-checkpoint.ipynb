{
 "cells": [
  {
   "cell_type": "markdown",
   "metadata": {
    "id": "rRrj7kR_qYkx"
   },
   "source": [
    "# TP04 : Arbres de décision et Forêts aléatoires\n",
    "\n",
    "\n",
    "## Binome:\n",
    " - Nekamiche Noha\n",
    " - Selmane Lamia\n",
    "## I. Implémentation\n",
    "\n",
    "Il existe plusieurs implémentations des arbres de décision :\n",
    "- ID3 (Iterative Dichotomiser 3): dévelopé en 1986 par Ross Quinlan. Il peut être appliqué seulement sur les caractéristiques nominales. Il est utilisé pour le classement.\n",
    "- C4.5: une extension de ID3 par Ross Quinlan. Il peut être appliqué sur tous les types de caractéristiques. Il est utilisé pour le classement.\n",
    "- C5.0: une extension commerciale de C4.5, toujours par Ross Quinlan.\n",
    "- CART (Classification and Regression Trees): comme C4.5 mais utilise d'autres métriques. Aussi, l'algorithme supporte la régression.\n",
    "\n",
    "Dans ce TP, on va implémenter ID3 pour les caracéristiques nominales et CART (classement) pour les caracéristiques numériques seulement .\n",
    "\n",
    "### I.1. ID3\n",
    "\n",
    "Ici, on va implémenter l'algorithme vu dans le cours. On va utiliser le dataset \"jouer (nominales)\" "
   ]
  },
  {
   "cell_type": "code",
   "execution_count": 1,
   "metadata": {
    "colab": {
     "base_uri": "https://localhost:8080/",
     "height": 195
    },
    "id": "v4pcMgpyqYky",
    "outputId": "18203825-e6d4-4486-bd43-8d242f8e2213"
   },
   "outputs": [
    {
     "data": {
      "text/html": [
       "<div>\n",
       "<style scoped>\n",
       "    .dataframe tbody tr th:only-of-type {\n",
       "        vertical-align: middle;\n",
       "    }\n",
       "\n",
       "    .dataframe tbody tr th {\n",
       "        vertical-align: top;\n",
       "    }\n",
       "\n",
       "    .dataframe thead th {\n",
       "        text-align: right;\n",
       "    }\n",
       "</style>\n",
       "<table border=\"1\" class=\"dataframe\">\n",
       "  <thead>\n",
       "    <tr style=\"text-align: right;\">\n",
       "      <th></th>\n",
       "      <th>temps</th>\n",
       "      <th>temperature</th>\n",
       "      <th>humidite</th>\n",
       "      <th>vent</th>\n",
       "      <th>jouer</th>\n",
       "    </tr>\n",
       "  </thead>\n",
       "  <tbody>\n",
       "    <tr>\n",
       "      <th>0</th>\n",
       "      <td>ensoleile</td>\n",
       "      <td>chaude</td>\n",
       "      <td>haute</td>\n",
       "      <td>non</td>\n",
       "      <td>non</td>\n",
       "    </tr>\n",
       "    <tr>\n",
       "      <th>1</th>\n",
       "      <td>ensoleile</td>\n",
       "      <td>chaude</td>\n",
       "      <td>haute</td>\n",
       "      <td>oui</td>\n",
       "      <td>non</td>\n",
       "    </tr>\n",
       "    <tr>\n",
       "      <th>2</th>\n",
       "      <td>nuageux</td>\n",
       "      <td>chaude</td>\n",
       "      <td>haute</td>\n",
       "      <td>non</td>\n",
       "      <td>oui</td>\n",
       "    </tr>\n",
       "    <tr>\n",
       "      <th>3</th>\n",
       "      <td>pluvieux</td>\n",
       "      <td>douce</td>\n",
       "      <td>haute</td>\n",
       "      <td>non</td>\n",
       "      <td>oui</td>\n",
       "    </tr>\n",
       "    <tr>\n",
       "      <th>4</th>\n",
       "      <td>pluvieux</td>\n",
       "      <td>fraiche</td>\n",
       "      <td>normale</td>\n",
       "      <td>non</td>\n",
       "      <td>oui</td>\n",
       "    </tr>\n",
       "  </tbody>\n",
       "</table>\n",
       "</div>"
      ],
      "text/plain": [
       "       temps temperature humidite vent jouer\n",
       "0  ensoleile      chaude    haute  non   non\n",
       "1  ensoleile      chaude    haute  oui   non\n",
       "2    nuageux      chaude    haute  non   oui\n",
       "3   pluvieux       douce    haute  non   oui\n",
       "4   pluvieux     fraiche  normale  non   oui"
      ]
     },
     "execution_count": 1,
     "metadata": {},
     "output_type": "execute_result"
    }
   ],
   "source": [
    "import numpy as np\n",
    "import pandas as pd \n",
    "import matplotlib.pyplot as plt \n",
    "%matplotlib inline\n",
    "\n",
    "jouer = pd.read_csv(\"datasets/jouer.csv\")\n",
    "\n",
    "X_jouer = jouer.iloc[:, :-1].values # Premières colonnes \n",
    "Y_jouer = jouer.iloc[:,-1].values # Dernière colonne \n",
    "\n",
    "# Afficher le dataset \"jouer\"\n",
    "jouer.head()"
   ]
  },
  {
   "cell_type": "markdown",
   "metadata": {
    "id": "gOJj1IueqYk0"
   },
   "source": [
    "#### I.1.1. Probabilité \n",
    "\n",
    "Etant donné une liste des valeurs $S$, la probabilité d'occurence d'une valeur $v$  est le nombre d'occurence de $v$ dans $S$ divisé par le nombre total des éléments de $S$. \n",
    "\n",
    "$$p(v/S) = \\frac{|\\{x / x \\in S \\text{ et } x = v\\}|}{|S|}$$\n",
    "\n",
    "Exemple, prenons la colonne \"jouer\". \n",
    "Le nombre de \"oui\" est 9 et le nombre total est 14. \n",
    "$$p(jouer=oui) = \\frac{9}{14} = 0.6428571428571429$$"
   ]
  },
  {
   "cell_type": "code",
   "execution_count": 2,
   "metadata": {
    "colab": {
     "base_uri": "https://localhost:8080/"
    },
    "id": "fXCRXceQqYk0",
    "outputId": "e0f202f2-a65a-4d53-8d05-248e53377dd3"
   },
   "outputs": [
    {
     "data": {
      "text/plain": [
       "(0.6428571428571429,\n",
       " 0.35714285714285715,\n",
       " 0.2857142857142857,\n",
       " 0.35714285714285715)"
      ]
     },
     "execution_count": 2,
     "metadata": {},
     "output_type": "execute_result"
    }
   ],
   "source": [
    "# TODO calculer la probabilité d'occurence d'une valeur val dans un ensemble S\n",
    "# PS: si la division retourne toujours 0, essayer d'appliquer float(x) sur le numérateur ou le dénominateur\n",
    "def P(S, v): \n",
    "    nb_elt=sum(1 if S[i]==v else 0 for i in range(len(S)))\n",
    "    \n",
    "    return nb_elt/len(S)\n",
    "\n",
    "#=====================================================================\n",
    "# TEST UNITAIRE\n",
    "#=====================================================================\n",
    "# Resultat : \n",
    "# (0.6428571428571429,\n",
    "#  0.35714285714285715,\n",
    "#  0.2857142857142857,\n",
    "#  0.35714285714285715)\n",
    "#---------------------------------------------------------------------\n",
    "\n",
    "P(Y_jouer, \"oui\"), P(X_jouer[:,0], \"ensoleile\"), P(X_jouer[:, 0], \"nuageux\"), P(X_jouer[:,0], \"pluvieux\")\n",
    "#X_jouer[:,0]"
   ]
  },
  {
   "cell_type": "markdown",
   "metadata": {
    "id": "HaNvBmm2qYk0"
   },
   "source": [
    "#### I.1.2. Incertitude d'un ensemble\n",
    "\n",
    "L'entropie de Shannon correspond à la quantité d'information contenue dans une source d'information ; plus la source émet d'informations différentes, plus l'entropie (ou l'incertitude sur ce que la source émet) est grande.\n",
    "Donc, un ensemble avec une entropie de 0 contient les mêmes valeurs.\n",
    "Etant donné : \n",
    "- $S$ une liste des valeurs \n",
    "- $V$ un ensemble de valeurs uniques de $S$ (vocabulaire) \n",
    "\n",
    "L'entropie de $S$ est calculée comme suit : \n",
    "$$H(S) = - \\sum\\limits_{v \\in V} p(v/S) \\log_2 p(v/S)$$\n",
    "\n",
    "Par exemple, la colonne \"jouer\" contient deux valeurs \"oui\" et \"non\". \n",
    "Son entopie est :\n",
    "$$H(jouer) = - \\frac{9}{14} * \\log_2(\\frac{9}{14}) - \\frac{5}{14} * \\log_2(\\frac{5}{14}) = 0.9402859586706309$$ \n"
   ]
  },
  {
   "cell_type": "code",
   "execution_count": 3,
   "metadata": {
    "colab": {
     "base_uri": "https://localhost:8080/"
    },
    "id": "9LdZ2q6aqYk1",
    "outputId": "600f9419-38a8-4db0-821b-45af76a62495"
   },
   "outputs": [
    {
     "data": {
      "text/plain": [
       "(0.9402859586706311, 1.5774062828523454)"
      ]
     },
     "execution_count": 3,
     "metadata": {},
     "output_type": "execute_result"
    }
   ],
   "source": [
    "# TODO compléter la fonction d'entropie\n",
    "# np.log2 : calcule log2 d'une valeur, vecteur ou matrice\n",
    "def H(S):  \n",
    "    V = np.unique(S)\n",
    "    entropie = 0\n",
    "    # Compléter ici\n",
    "    for i in range(len(V)):\n",
    "        entropie+=P(S,V[i])*np.log2(P(S,V[i]))\n",
    "        \n",
    "    return -entropie\n",
    "\n",
    "#=====================================================================\n",
    "# TEST UNITAIRE\n",
    "#=====================================================================\n",
    "# Resultat : (0.9402859586706311, 1.5774062828523454)\n",
    "#---------------------------------------------------------------------\n",
    "\n",
    "H(Y_jouer), H(X_jouer[:,0])"
   ]
  },
  {
   "cell_type": "markdown",
   "metadata": {
    "id": "ZW8KiI9AqYk1"
   },
   "source": [
    "#### I.1.3. Division d'un ensemble\n",
    "\n",
    "**Rien à programmer ici**\n",
    "\n",
    "Ici, on essaye de diviser la liste des prédictions (classes) selon les valeurs d'un attribut (caractéristique, colonne) à des sous listes. \n",
    "\n",
    "Etant donné : \n",
    "- **Y** : la liste à diviser\n",
    "- **A** : la liste des valeurs d'un attribut (caractéristique, colonne). C'est un vecteur aligné avec Y ; c-à-d, chaque élément de A a un élément de Y respectif.\n",
    "- **v** : la valeur sur laquelle on divie.\n",
    "\n",
    "$$S_{A,v} = \\{y^{(i)} \\in Y / a^{(i)} \\in A \\wedge a^{(i)} = v\\}\\}$$\n",
    "\n",
    "Par exemple, si \n",
    "- $Y$ est la liste des prédictions de \"jouer\"\n",
    "- $A$ est la liste des valeurs de la caractéristique \"temps\"\n",
    "- $v$ est la valeur \"ensoleile\"\n",
    "La sous ensemble de \"jouer\" où (temps = \"ensoleile\") contient 3 non et 2 oui "
   ]
  },
  {
   "cell_type": "code",
   "execution_count": 4,
   "metadata": {
    "colab": {
     "base_uri": "https://localhost:8080/"
    },
    "id": "ntKNYLJKqYk2",
    "outputId": "c234af31-aa7b-4191-9a0e-6d09c74e6901"
   },
   "outputs": [
    {
     "data": {
      "text/plain": [
       "array(['non', 'non', 'non', 'oui', 'oui'], dtype=object)"
      ]
     },
     "execution_count": 4,
     "metadata": {},
     "output_type": "execute_result"
    }
   ],
   "source": [
    "def diviser_ID3(Y, A, v):\n",
    "    msk = A == v\n",
    "    return Y[msk]\n",
    "\n",
    "#=====================================================================\n",
    "# TEST UNITAIRE\n",
    "#=====================================================================\n",
    "# Resultat : array(['non', 'non', 'non', 'oui', 'oui'], dtype=object)\n",
    "#---------------------------------------------------------------------\n",
    "\n",
    "diviser_ID3(Y_jouer, X_jouer[:,0], \"ensoleile\")\n"
   ]
  },
  {
   "cell_type": "markdown",
   "metadata": {
    "id": "AKaQCAIFqYk2"
   },
   "source": [
    "#### I.1.4. Gain d'entropie\n",
    "\n",
    "Le gain d'entropie (information gain) est la différence entre l'entropie avant et après la division d'une liste $Y$ selon l'attribut $A$. \n",
    "En d'autres termes, combien d'incertitude dans $Y$ a été réduite après sa division en utilisant l'attribut $A$.\n",
    "\n",
    "Etant donné : \n",
    "- **Y** : une liste à diviser\n",
    "- **A** : une liste des valeurs d'un attribut (caractéristique, colonne) \n",
    "- **V** : l'ensemble des valeurs différentes de l'attribut A (vocabulaire)\n",
    "- **p(v/A)** : la probabité d'occurence de la valeur $v$ dans $A$\n",
    "- $Y_{A, v}$ : sous-ensemble de $Y$ où les valeurs de $V$ égalent à $v$  en utilisant la fonction précédente (diviser_ID3)\n",
    "\n",
    "Le gain d'entrepie se calcule comme suit : \n",
    "\n",
    "$$IG(Y, A) = H(Y) - \\sum_{v \\in V} p(v/A) H(Y_{A, v})$$"
   ]
  },
  {
   "cell_type": "code",
   "execution_count": 5,
   "metadata": {
    "colab": {
     "base_uri": "https://localhost:8080/"
    },
    "id": "VWAHEycHqYk3",
    "outputId": "27726dba-15d4-4414-e221-ee2b99d2e599"
   },
   "outputs": [
    {
     "data": {
      "text/plain": [
       "(0.24674981977443933, 0.9402859586706311)"
      ]
     },
     "execution_count": 5,
     "metadata": {},
     "output_type": "execute_result"
    }
   ],
   "source": [
    "# TODO Compléter la fonction du gain d'entropie\n",
    "# elle doit rendre le gain d'entropie et l'entropie \n",
    "# On rend l'entropie pour ne pas recalculer ultérierement \n",
    "def IG(Y, A):\n",
    "    V = np.unique(A)\n",
    "    entropie = H(Y)\n",
    "    ig_global = entropie\n",
    "    # Compléter ici\n",
    "    for i in range(len(V)):\n",
    "        ig_global-=P(A,V[i])*H(diviser_ID3(Y, A, V[i]))\n",
    "   \n",
    "    return ig_global,entropie\n",
    "\n",
    "#=====================================================================\n",
    "# TEST UNITAIRE\n",
    "#=====================================================================\n",
    "# Resultat : (0.24674981977443933, 0.9402859586706311)\n",
    "#---------------------------------------------------------------------\n",
    "\n",
    "IG(Y_jouer, X_jouer[:, 0])"
   ]
  },
  {
   "cell_type": "markdown",
   "metadata": {
    "id": "oG89V6JcqYk3"
   },
   "source": [
    "#### I.1.5. Choix de l'attribut de division ID3\n",
    "\n",
    "Ici, vous devez chercher l'attribut qui maximise IG.\n",
    "\n",
    "$$jj = \\arg\\max_j IG(Y, X_j)$$\n",
    "\n",
    "La fonction doit rendre jj, le IG de division en utilisant jj et l'entropy"
   ]
  },
  {
   "cell_type": "code",
   "execution_count": 6,
   "metadata": {
    "colab": {
     "base_uri": "https://localhost:8080/"
    },
    "id": "_s7CsXf_qYk4",
    "outputId": "356b5c3e-ccf8-4a20-8bcf-cafd0659726f"
   },
   "outputs": [
    {
     "data": {
      "text/plain": [
       "(0, 0.24674981977443933, 0.9402859586706311)"
      ]
     },
     "execution_count": 6,
     "metadata": {},
     "output_type": "execute_result"
    }
   ],
   "source": [
    "# TODO compléter la fonction du choix d'attribut de dévision\n",
    "# le plus adéquat pour diviser Y \n",
    "# elle doit, aussi, rendre le IG et le H de ce caractéristique \n",
    "def choisir_devision_ID3(X, Y): \n",
    "    jj = -1 # numéro d'attribut qui maximise IG\n",
    "    ig_jj = -1.0 # IG de cet attribut (le max)\n",
    "    h_jj = -1.0  # Entropie \n",
    "    # Compléter ici\n",
    "    dim=X.shape\n",
    "    for i in range(dim[1]):\n",
    "        ig,entropie=IG(Y,X[:,i])\n",
    "        if(ig_jj<ig):\n",
    "            ig_jj=ig\n",
    "            jj=i\n",
    "            h_jj=entropie\n",
    "        \n",
    " \n",
    "        \n",
    "    return jj, ig_jj, h_jj\n",
    "\n",
    "#=====================================================================\n",
    "# TEST UNITAIRE\n",
    "#=====================================================================\n",
    "# Resultat : (0, 0.24674981977443933, 0.9402859586706311)\n",
    "#---------------------------------------------------------------------\n",
    "\n",
    "choisir_devision_ID3(X_jouer, Y_jouer)\n"
   ]
  },
  {
   "cell_type": "markdown",
   "metadata": {
    "id": "b-wBdpUSqYk4"
   },
   "source": [
    "#### I.1.6. Arrêt de division\n",
    "\n",
    "Etant donné les données suivantes :\n",
    "- **Y** : l'ensemble des prédiction au niveau d'un noeud\n",
    "- **h** : le critère d'homoginiété. h = 0 ==> l'ensemble Y est homogène (mêmes valeurs)\n",
    "- **nbr_min** : le nombre minimale des observations dans un noeud. |Y| <= nbr_min ==> le noeud doit être une feuille\n",
    "\n",
    "La fonction d'arrêt doit retourner : \n",
    "- Le nom de la classe : si l'ensemble est homogène ou il contient un nombre minimal des éléments\n",
    "- None : sinon"
   ]
  },
  {
   "cell_type": "code",
   "execution_count": 7,
   "metadata": {
    "colab": {
     "base_uri": "https://localhost:8080/"
    },
    "id": "ShCkjNgQqYk4",
    "outputId": "f8552100-cb4e-4b18-ff7e-37b2406652ff"
   },
   "outputs": [
    {
     "data": {
      "text/plain": [
       "('oui', 'non', None)"
      ]
     },
     "execution_count": 7,
     "metadata": {},
     "output_type": "execute_result"
    }
   ],
   "source": [
    "# TODO : réaliser la fonction d'arrêt ID3\n",
    "# HINT : utiliser numpy.unique et numpy.argmax\n",
    "def arreter_ID3(Y, h, nbr_min):\n",
    "    cls=np.unique(Y)\n",
    "    if (h==0) or (len(Y)<= nbr_min):\n",
    "        cls,freq=np.unique(Y,return_counts=True)\n",
    "        d=dict(zip(cls,freq))\n",
    "        return max(d,key=d.get)\n",
    "    else: return None\n",
    "        \n",
    "\n",
    "\n",
    "#=====================================================================\n",
    "# TEST UNITAIRE\n",
    "#=====================================================================\n",
    "# Resultat : ('oui', 'non', None)\n",
    "#---------------------------------------------------------------------\n",
    "\n",
    "Y_t1 = np.array([\"oui\", \"oui\", \"oui\"])\n",
    "Y_t2 = np.array([\"oui\", \"non\", \"non\"])\n",
    "arreter_ID3(Y_t1, H(Y_t1), 2), arreter_ID3(Y_t2, H(Y_t2), 4), arreter_ID3(Y_t2, H(Y_t2), 2)\n"
   ]
  },
  {
   "cell_type": "markdown",
   "metadata": {
    "id": "Z8eQbYMtqYk5"
   },
   "source": [
    "#### I.1.7. Création de l'arbre\n",
    "\n",
    "**Rien à programmer ici**\n"
   ]
  },
  {
   "cell_type": "code",
   "execution_count": 8,
   "metadata": {
    "colab": {
     "base_uri": "https://localhost:8080/",
     "height": 282
    },
    "id": "pmXQlbfpqYk5",
    "outputId": "72629e2b-7cdd-4150-de6f-347dd091a49c"
   },
   "outputs": [
    {
     "name": "stdout",
     "output_type": "stream",
     "text": [
      "Le Code\n",
      "Si X[0] est \"ensoleile\" Alors\n",
      "    Si X[2] est \"haute\" Alors\n",
      "        Y est \"non\"\n",
      "    Si X[2] est \"normale\" Alors\n",
      "        Y est \"oui\"\n",
      "Si X[0] est \"nuageux\" Alors\n",
      "    Y est \"oui\"\n",
      "Si X[0] est \"pluvieux\" Alors\n",
      "    Si X[3] est \"non\" Alors\n",
      "        Y est \"oui\"\n",
      "    Si X[3] est \"oui\" Alors\n",
      "        Y est \"non\"\n",
      "\n"
     ]
    },
    {
     "data": {
      "text/plain": [
       "'oui'"
      ]
     },
     "execution_count": 8,
     "metadata": {},
     "output_type": "execute_result"
    }
   ],
   "source": [
    "# Une classe pour contenir les informations du noeud et \n",
    "# la liste de ces fils\n",
    "class Noeud(object): \n",
    "    \n",
    "    nbr = 0\n",
    "    \n",
    "    def __init__(self, num, ig, h, profondeur): \n",
    "        self.num = num # le numéro du caractéristique de dévision dans X\n",
    "        self.ig = ig # le IG de division\n",
    "        self.h = h # l'entropie H\n",
    "        self.pr = profondeur # la profondeur du noeud\n",
    "        self.fils = {} # les fils ; un dictionnaire valeur : noeud\n",
    "        self.cls = \"\" # la classe si ce noeud est final (s'il n'y a pas de fils)\n",
    "        self.indent = \"    \" # indentation lorsqu'on génère le code\n",
    "    \n",
    "    # Cette fonction est pour transformer le noeud à une string\n",
    "    #Ici, nous avons redéfini cette fonction afin qu'elle écrive l'arbre \n",
    "    #sous form d'un algorithme ; c'est un parser \n",
    "    def __str__(self):\n",
    "        \n",
    "        indent = self.indent * self.pr # indentation : esthetique\n",
    "        \n",
    "        # s'il n'y a pas de fils, le noeud est terminal ; on imprime la classe\n",
    "        if (len(self.fils)==0):\n",
    "            return indent + 'Y est \"' + self.cls + '\"\\n'\n",
    "        \n",
    "        # s'il y a des fils, on boucle sur les fils et on imprime des SI ... ALORS\n",
    "        res = \"\"\n",
    "        for valeur in self.fils:\n",
    "            res += indent + 'Si X[' + str(self.num) + '] est \"' + str(valeur) + '\" Alors\\n' + str(self.fils[valeur])\n",
    "        return res\n",
    "    \n",
    "    # predire un échantillon\n",
    "    def predire(self, x): \n",
    "        \n",
    "        # Si le noeud est final, il rend sa classe \n",
    "        if (len(self.fils)==0):\n",
    "            return self.cls\n",
    "        \n",
    "        # Si la valeur de la colonne respective à ce noeud n'appartient pas à l'ensemble des\n",
    "        # valeurs attendues, on rend np.nan\n",
    "        if x[self.num] not in self.fils: \n",
    "            return np.nan\n",
    "        \n",
    "        # Sinon, on rend \n",
    "        return self.fils[x[self.num]].predire(x)\n",
    "    \n",
    "    # générer un code pour graphviz\n",
    "    def graphviz(self): \n",
    "        \n",
    "        nid = 'N' + str(Noeud.nbr)\n",
    "        Noeud.nbr += 1\n",
    "        \n",
    "        # Si le noeud est final, \n",
    "        if (len(self.fils)==0):\n",
    "            return nid, nid + '[label=\"' + self.cls + '\" shape=ellipse];\\n'\n",
    "        \n",
    "        # Sinon, \n",
    "        # s'il y a des fils, on boucle sur les fils et on imprime des SI ... ALORS\n",
    "        res = nid + '[label=\"X[' + str(self.num) + ']\\\\n'\n",
    "        res += 'H = ' + str(self.h) + '\\\\n'\n",
    "        res += 'IG = ' + str(self.ig) + '\"];\\n'\n",
    "        for valeur in self.fils:\n",
    "            vid, code = self.fils[valeur].graphviz()\n",
    "            res += code\n",
    "            res += nid + ' -> ' + vid + ' [label=\"' + valeur + '\"];\\n'\n",
    "        return nid, res\n",
    "    \n",
    "\n",
    "# créer l'arbre de décision à partir d'un ensemble X et Y\n",
    "def entrainer_ID3(X, Y, nbr_min=0, profondeur=0): \n",
    "    \n",
    "    # Chercher la meilleure caractéristique de X pour diviser Y\n",
    "    jj, ig_jj, h_jj = choisir_devision_ID3(X, Y)\n",
    "    # Créer un noeud\n",
    "    noeud = Noeud(jj, ig_jj, h_jj, profondeur)\n",
    "    # si arrêter rend une classe, donc c'est une feuille \n",
    "    cls = arreter_ID3(Y, h_jj, nbr_min)\n",
    "    if cls:\n",
    "        noeud.cls = cls # la classe du noeud\n",
    "        return noeud # retourner le noeud \n",
    "    \n",
    "    # Sinon, si le noeud n'est pas une feuille, on crée ces fils\n",
    "    profondeur += 1 # la profondeur de ces fils\n",
    "    # les fils sont créés à partir des valeurs uniques du meilleur caractéristique\n",
    "    for v in np.unique(X[:, jj]):\n",
    "        # Ces trois lignes sont pour récupérer les sous-ensembles X_val, Y_val\n",
    "        # Corresondants à une valeur du meilleur caractéristique\n",
    "        msk = X[:, jj] == v \n",
    "        X_v = X[msk]\n",
    "        Y_v = Y[msk]\n",
    "        # On refait la même opération sur l'ensemble (Y_val) d'une manière récursive\n",
    "        fils = entrainer_ID3(X_v, Y_v, nbr_min=nbr_min, profondeur=profondeur)\n",
    "        # On affecte le noeud créé indexé par la valeur du meilleur caractéristique \n",
    "        # à l'ensemble des fils du noeud courant\n",
    "        noeud.fils[v] = fils\n",
    "    \n",
    "    return noeud\n",
    "\n",
    "arbre_jouer = entrainer_ID3(X_jouer, Y_jouer)\n",
    "\n",
    "print(\"Le Code\")\n",
    "print(arbre_jouer)\n",
    "\n",
    "# Tester sur un échantillon\n",
    "arbre_jouer.predire([\"pluvieux\", \"temperature_makanche\", \"humidite_makanche\", \"non\"])"
   ]
  },
  {
   "cell_type": "markdown",
   "metadata": {
    "id": "UBzZ0YPbqYk7"
   },
   "source": [
    "#### I.1.8. Regrouper le tous\n",
    "\n",
    "**Rien à programmer ici**"
   ]
  },
  {
   "cell_type": "code",
   "execution_count": 9,
   "metadata": {
    "colab": {
     "base_uri": "https://localhost:8080/"
    },
    "id": "kDlIEBowqYk9",
    "outputId": "8a627750-1747-42f4-cb2e-4c251e5519c3"
   },
   "outputs": [
    {
     "name": "stdout",
     "output_type": "stream",
     "text": [
      "Si temps est \"ensoleile\" Alors\n",
      "    Si humidite est \"haute\" Alors\n",
      "        jouer est \"non\"\n",
      "    Si humidite est \"normale\" Alors\n",
      "        jouer est \"oui\"\n",
      "Si temps est \"nuageux\" Alors\n",
      "    jouer est \"oui\"\n",
      "Si temps est \"pluvieux\" Alors\n",
      "    Si vent est \"non\" Alors\n",
      "        jouer est \"oui\"\n",
      "    Si vent est \"oui\" Alors\n",
      "        jouer est \"non\"\n",
      "\n"
     ]
    }
   ],
   "source": [
    "class ID3(object): \n",
    "    \n",
    "    def entrainer(self, X, Y, X_noms=[], Y_nom=\"\", nbr_min=0):\n",
    "        self.arbre = entrainer_ID3(X, Y, nbr_min=nbr_min)\n",
    "        code = str(self.arbre)\n",
    "        if len(Y_nom) > 0: \n",
    "            code = code.replace(\"Y\", Y_nom)\n",
    "        for i in range(len(X_noms)): \n",
    "            code = code.replace(\"X[\" + str(i) + \"]\", X_noms[i])\n",
    "        self.code = code\n",
    "        self.X_noms = X_noms\n",
    "    \n",
    "    def predire(self, X): \n",
    "        predictions = []\n",
    "        for i in range(len(X)): \n",
    "            predictions.append(self.arbre.predire(X[i, :]))\n",
    "        return predictions\n",
    "    \n",
    "    def graphviz(self): \n",
    "        nid, code = self.arbre.graphviz()\n",
    "        res = \"digraph Tree {\\n\"\n",
    "        res += \"node [shape=box] ;\"\n",
    "        for i in range(len(self.X_noms)): \n",
    "            code = code.replace(\"X[\" + str(i) + \"]\", self.X_noms[i])\n",
    "        res += code\n",
    "        res += \"}\"\n",
    "        return res\n",
    "\n",
    "id3_classifieur = ID3()\n",
    "id3_classifieur.entrainer(X_jouer, Y_jouer, X_noms=[\"temps\", \"temperature\", \"humidite\", \"vent\"], Y_nom=\"jouer\")\n",
    "print(id3_classifieur.code)"
   ]
  },
  {
   "cell_type": "code",
   "execution_count": 11,
   "metadata": {
    "colab": {
     "base_uri": "https://localhost:8080/",
     "height": 356
    },
    "id": "X03B1SrkqYk9",
    "outputId": "61783890-0e39-434d-a1de-054b17544f7a"
   },
   "outputs": [
    {
     "data": {
      "image/svg+xml": [
       "<svg height=\"252pt\" viewBox=\"0.00 0.00 457.00 252.00\" width=\"457pt\" xmlns=\"http://www.w3.org/2000/svg\" xmlns:xlink=\"http://www.w3.org/1999/xlink\">\n",
       "<g class=\"graph\" id=\"graph0\" transform=\"scale(1 1) rotate(0) translate(4 248)\">\n",
       "<title>Tree</title>\n",
       "<polygon fill=\"#ffffff\" points=\"-4,4 -4,-248 453,-248 453,4 -4,4\" stroke=\"transparent\"/>\n",
       "<!-- N0 -->\n",
       "<g class=\"node\" id=\"node1\">\n",
       "<title>N0</title>\n",
       "<polygon fill=\"none\" points=\"314,-244 135,-244 135,-191 314,-191 314,-244\" stroke=\"#000000\"/>\n",
       "<text fill=\"#000000\" font-family=\"Times,serif\" font-size=\"14.00\" text-anchor=\"middle\" x=\"224.5\" y=\"-228.8\">temps</text>\n",
       "<text fill=\"#000000\" font-family=\"Times,serif\" font-size=\"14.00\" text-anchor=\"middle\" x=\"224.5\" y=\"-213.8\">H = 0.9402859586706309</text>\n",
       "<text fill=\"#000000\" font-family=\"Times,serif\" font-size=\"14.00\" text-anchor=\"middle\" x=\"224.5\" y=\"-198.8\">IG = 0.2467498197744391</text>\n",
       "</g>\n",
       "<!-- N1 -->\n",
       "<g class=\"node\" id=\"node2\">\n",
       "<title>N1</title>\n",
       "<polygon fill=\"none\" points=\"179,-140 0,-140 0,-87 179,-87 179,-140\" stroke=\"#000000\"/>\n",
       "<text fill=\"#000000\" font-family=\"Times,serif\" font-size=\"14.00\" text-anchor=\"middle\" x=\"89.5\" y=\"-124.8\">humidite</text>\n",
       "<text fill=\"#000000\" font-family=\"Times,serif\" font-size=\"14.00\" text-anchor=\"middle\" x=\"89.5\" y=\"-109.8\">H = 0.9709505944546686</text>\n",
       "<text fill=\"#000000\" font-family=\"Times,serif\" font-size=\"14.00\" text-anchor=\"middle\" x=\"89.5\" y=\"-94.8\">IG = 0.9709505944546686</text>\n",
       "</g>\n",
       "<!-- N0&#45;&gt;N1 -->\n",
       "<g class=\"edge\" id=\"edge3\">\n",
       "<title>N0-&gt;N1</title>\n",
       "<path d=\"M190.0845,-190.9873C172.5278,-177.4621 151.0038,-160.8807 132.3782,-146.5321\" fill=\"none\" stroke=\"#000000\"/>\n",
       "<polygon fill=\"#000000\" points=\"134.3799,-143.656 124.3221,-140.3259 130.108,-149.2014 134.3799,-143.656\" stroke=\"#000000\"/>\n",
       "<text fill=\"#000000\" font-family=\"Times,serif\" font-size=\"14.00\" text-anchor=\"middle\" x=\"190.5\" y=\"-161.8\">ensoleile</text>\n",
       "</g>\n",
       "<!-- N4 -->\n",
       "<g class=\"node\" id=\"node5\">\n",
       "<title>N4</title>\n",
       "<ellipse cx=\"224.5\" cy=\"-113.5\" fill=\"none\" rx=\"27\" ry=\"18\" stroke=\"#000000\"/>\n",
       "<text fill=\"#000000\" font-family=\"Times,serif\" font-size=\"14.00\" text-anchor=\"middle\" x=\"224.5\" y=\"-109.8\">oui</text>\n",
       "</g>\n",
       "<!-- N0&#45;&gt;N4 -->\n",
       "<g class=\"edge\" id=\"edge4\">\n",
       "<title>N0-&gt;N4</title>\n",
       "<path d=\"M224.5,-190.9873C224.5,-176.0719 224.5,-157.4395 224.5,-142.1839\" fill=\"none\" stroke=\"#000000\"/>\n",
       "<polygon fill=\"#000000\" points=\"228.0001,-141.7735 224.5,-131.7735 221.0001,-141.7736 228.0001,-141.7735\" stroke=\"#000000\"/>\n",
       "<text fill=\"#000000\" font-family=\"Times,serif\" font-size=\"14.00\" text-anchor=\"middle\" x=\"249.5\" y=\"-161.8\">nuageux</text>\n",
       "</g>\n",
       "<!-- N5 -->\n",
       "<g class=\"node\" id=\"node6\">\n",
       "<title>N5</title>\n",
       "<polygon fill=\"none\" points=\"449,-140 270,-140 270,-87 449,-87 449,-140\" stroke=\"#000000\"/>\n",
       "<text fill=\"#000000\" font-family=\"Times,serif\" font-size=\"14.00\" text-anchor=\"middle\" x=\"359.5\" y=\"-124.8\">vent</text>\n",
       "<text fill=\"#000000\" font-family=\"Times,serif\" font-size=\"14.00\" text-anchor=\"middle\" x=\"359.5\" y=\"-109.8\">H = 0.9709505944546686</text>\n",
       "<text fill=\"#000000\" font-family=\"Times,serif\" font-size=\"14.00\" text-anchor=\"middle\" x=\"359.5\" y=\"-94.8\">IG = 0.9709505944546686</text>\n",
       "</g>\n",
       "<!-- N0&#45;&gt;N5 -->\n",
       "<g class=\"edge\" id=\"edge7\">\n",
       "<title>N0-&gt;N5</title>\n",
       "<path d=\"M258.9155,-190.9873C276.4722,-177.4621 297.9962,-160.8807 316.6218,-146.5321\" fill=\"none\" stroke=\"#000000\"/>\n",
       "<polygon fill=\"#000000\" points=\"318.892,-149.2014 324.6779,-140.3259 314.6201,-143.656 318.892,-149.2014\" stroke=\"#000000\"/>\n",
       "<text fill=\"#000000\" font-family=\"Times,serif\" font-size=\"14.00\" text-anchor=\"middle\" x=\"326.5\" y=\"-161.8\">pluvieux</text>\n",
       "</g>\n",
       "<!-- N2 -->\n",
       "<g class=\"node\" id=\"node3\">\n",
       "<title>N2</title>\n",
       "<ellipse cx=\"53.5\" cy=\"-18\" fill=\"none\" rx=\"27\" ry=\"18\" stroke=\"#000000\"/>\n",
       "<text fill=\"#000000\" font-family=\"Times,serif\" font-size=\"14.00\" text-anchor=\"middle\" x=\"53.5\" y=\"-14.3\">non</text>\n",
       "</g>\n",
       "<!-- N1&#45;&gt;N2 -->\n",
       "<g class=\"edge\" id=\"edge1\">\n",
       "<title>N1-&gt;N2</title>\n",
       "<path d=\"M79.2159,-86.6876C76.9922,-80.86 74.6603,-74.726 72.5,-69 69.5451,-61.1679 66.3599,-52.6488 63.4577,-44.8561\" fill=\"none\" stroke=\"#000000\"/>\n",
       "<polygon fill=\"#000000\" points=\"66.7373,-43.6335 59.9715,-35.4803 60.1762,-46.0732 66.7373,-43.6335\" stroke=\"#000000\"/>\n",
       "<text fill=\"#000000\" font-family=\"Times,serif\" font-size=\"14.00\" text-anchor=\"middle\" x=\"88\" y=\"-57.8\">haute</text>\n",
       "</g>\n",
       "<!-- N3 -->\n",
       "<g class=\"node\" id=\"node4\">\n",
       "<title>N3</title>\n",
       "<ellipse cx=\"125.5\" cy=\"-18\" fill=\"none\" rx=\"27\" ry=\"18\" stroke=\"#000000\"/>\n",
       "<text fill=\"#000000\" font-family=\"Times,serif\" font-size=\"14.00\" text-anchor=\"middle\" x=\"125.5\" y=\"-14.3\">oui</text>\n",
       "</g>\n",
       "<!-- N1&#45;&gt;N3 -->\n",
       "<g class=\"edge\" id=\"edge2\">\n",
       "<title>N1-&gt;N3</title>\n",
       "<path d=\"M99.528,-86.8979C104.4354,-73.8798 110.3334,-58.2336 115.2678,-45.1438\" fill=\"none\" stroke=\"#000000\"/>\n",
       "<polygon fill=\"#000000\" points=\"118.5686,-46.3099 118.8209,-35.7181 112.0185,-43.8407 118.5686,-46.3099\" stroke=\"#000000\"/>\n",
       "<text fill=\"#000000\" font-family=\"Times,serif\" font-size=\"14.00\" text-anchor=\"middle\" x=\"136\" y=\"-57.8\">normale</text>\n",
       "</g>\n",
       "<!-- N6 -->\n",
       "<g class=\"node\" id=\"node7\">\n",
       "<title>N6</title>\n",
       "<ellipse cx=\"323.5\" cy=\"-18\" fill=\"none\" rx=\"27\" ry=\"18\" stroke=\"#000000\"/>\n",
       "<text fill=\"#000000\" font-family=\"Times,serif\" font-size=\"14.00\" text-anchor=\"middle\" x=\"323.5\" y=\"-14.3\">oui</text>\n",
       "</g>\n",
       "<!-- N5&#45;&gt;N6 -->\n",
       "<g class=\"edge\" id=\"edge5\">\n",
       "<title>N5-&gt;N6</title>\n",
       "<path d=\"M349.472,-86.8979C344.5646,-73.8798 338.6666,-58.2336 333.7322,-45.1438\" fill=\"none\" stroke=\"#000000\"/>\n",
       "<polygon fill=\"#000000\" points=\"336.9815,-43.8407 330.1791,-35.7181 330.4314,-46.3099 336.9815,-43.8407\" stroke=\"#000000\"/>\n",
       "<text fill=\"#000000\" font-family=\"Times,serif\" font-size=\"14.00\" text-anchor=\"middle\" x=\"355\" y=\"-57.8\">non</text>\n",
       "</g>\n",
       "<!-- N7 -->\n",
       "<g class=\"node\" id=\"node8\">\n",
       "<title>N7</title>\n",
       "<ellipse cx=\"395.5\" cy=\"-18\" fill=\"none\" rx=\"27\" ry=\"18\" stroke=\"#000000\"/>\n",
       "<text fill=\"#000000\" font-family=\"Times,serif\" font-size=\"14.00\" text-anchor=\"middle\" x=\"395.5\" y=\"-14.3\">non</text>\n",
       "</g>\n",
       "<!-- N5&#45;&gt;N7 -->\n",
       "<g class=\"edge\" id=\"edge6\">\n",
       "<title>N5-&gt;N7</title>\n",
       "<path d=\"M369.528,-86.8979C374.4354,-73.8798 380.3334,-58.2336 385.2678,-45.1438\" fill=\"none\" stroke=\"#000000\"/>\n",
       "<polygon fill=\"#000000\" points=\"388.5686,-46.3099 388.8209,-35.7181 382.0185,-43.8407 388.5686,-46.3099\" stroke=\"#000000\"/>\n",
       "<text fill=\"#000000\" font-family=\"Times,serif\" font-size=\"14.00\" text-anchor=\"middle\" x=\"391\" y=\"-57.8\">oui</text>\n",
       "</g>\n",
       "</g>\n",
       "</svg>"
      ],
      "text/plain": [
       "<IPython.core.display.SVG object>"
      ]
     },
     "metadata": {
      "tags": []
     },
     "output_type": "display_data"
    }
   ],
   "source": [
    "# C'est juste une visualisation du graphe\n",
    "# Si ça ne marche pas, ce n'ai pas grave\n",
    "try:\n",
    "    from IPython.display import SVG\n",
    "    from graphviz import Source\n",
    "    from IPython.display import display\n",
    "    \n",
    "    graph = Source(id3_classifieur.graphviz())\n",
    "    display(SVG(graph.pipe(format='svg')))\n",
    "\n",
    "except ImportError:\n",
    "    print(\"il faut installer graphviz\")"
   ]
  },
  {
   "cell_type": "markdown",
   "metadata": {
    "id": "ip5so-W7qYk-"
   },
   "source": [
    "### I.2. CART\n",
    "\n",
    "Ici, on va implémenter l'algorithme CART pour la classification avec des caractéristiques numériques. On va utiliser le dataset \"jouer (numériques)\". \n"
   ]
  },
  {
   "cell_type": "code",
   "execution_count": 10,
   "metadata": {
    "colab": {
     "base_uri": "https://localhost:8080/",
     "height": 195
    },
    "id": "CS2pSKmUqYk-",
    "outputId": "0c6b5939-b949-4235-dd89-1bdc42fb1011"
   },
   "outputs": [
    {
     "data": {
      "text/html": [
       "<div>\n",
       "<style scoped>\n",
       "    .dataframe tbody tr th:only-of-type {\n",
       "        vertical-align: middle;\n",
       "    }\n",
       "\n",
       "    .dataframe tbody tr th {\n",
       "        vertical-align: top;\n",
       "    }\n",
       "\n",
       "    .dataframe thead th {\n",
       "        text-align: right;\n",
       "    }\n",
       "</style>\n",
       "<table border=\"1\" class=\"dataframe\">\n",
       "  <thead>\n",
       "    <tr style=\"text-align: right;\">\n",
       "      <th></th>\n",
       "      <th>temperature</th>\n",
       "      <th>humidite</th>\n",
       "      <th>vent</th>\n",
       "      <th>jouer</th>\n",
       "    </tr>\n",
       "  </thead>\n",
       "  <tbody>\n",
       "    <tr>\n",
       "      <th>0</th>\n",
       "      <td>30</td>\n",
       "      <td>85</td>\n",
       "      <td>0</td>\n",
       "      <td>non</td>\n",
       "    </tr>\n",
       "    <tr>\n",
       "      <th>1</th>\n",
       "      <td>27</td>\n",
       "      <td>90</td>\n",
       "      <td>1</td>\n",
       "      <td>non</td>\n",
       "    </tr>\n",
       "    <tr>\n",
       "      <th>2</th>\n",
       "      <td>28</td>\n",
       "      <td>78</td>\n",
       "      <td>0</td>\n",
       "      <td>oui</td>\n",
       "    </tr>\n",
       "    <tr>\n",
       "      <th>3</th>\n",
       "      <td>21</td>\n",
       "      <td>96</td>\n",
       "      <td>0</td>\n",
       "      <td>oui</td>\n",
       "    </tr>\n",
       "    <tr>\n",
       "      <th>4</th>\n",
       "      <td>20</td>\n",
       "      <td>80</td>\n",
       "      <td>0</td>\n",
       "      <td>oui</td>\n",
       "    </tr>\n",
       "  </tbody>\n",
       "</table>\n",
       "</div>"
      ],
      "text/plain": [
       "   temperature  humidite  vent jouer\n",
       "0           30        85     0   non\n",
       "1           27        90     1   non\n",
       "2           28        78     0   oui\n",
       "3           21        96     0   oui\n",
       "4           20        80     0   oui"
      ]
     },
     "execution_count": 10,
     "metadata": {},
     "output_type": "execute_result"
    }
   ],
   "source": [
    "njouer_data = pd.read_csv(\"datasets/jouer_num.csv\")\n",
    "X_njouer = njouer_data.iloc[:, :-1].values # Premières colonnes \n",
    "Y_njouer = njouer_data.iloc[:,-1].values # Dernière colonne \n",
    "njouer_data.head()"
   ]
  },
  {
   "cell_type": "markdown",
   "metadata": {
    "id": "8JMHV83IqYk-"
   },
   "source": [
    "#### I.2.1. Index de diversité de Gini\n",
    "\n",
    "Dans le cas de classement, CART utilise l'indexe de diversité Gini pour mesurer l'erreur de classification.\n",
    "Un index de 0 représente la meilleure division; \n",
    "\n",
    "Etant donné : \n",
    "- $S$ liste des valeurs  \n",
    "- $V$ ensemble des valeurs uniques de $S$  (vocabulaire)\n",
    "\n",
    "L'index de diversité  $Gini(S)$ est calculée comme suit : \n",
    "$$Gini(S) = \\sum\\limits_{v \\in V} p(v/S) (1-p(v/S)) = 1 - \\sum\\limits_{v \\in V} p(v/S)^2 $$"
   ]
  },
  {
   "cell_type": "code",
   "execution_count": 11,
   "metadata": {
    "colab": {
     "base_uri": "https://localhost:8080/"
    },
    "id": "yrKpbz5BqYk_",
    "outputId": "b8f767af-4055-42e9-f59c-ee963be9bce7"
   },
   "outputs": [
    {
     "data": {
      "text/plain": [
       "0.4591836734693877"
      ]
     },
     "execution_count": 11,
     "metadata": {},
     "output_type": "execute_result"
    }
   ],
   "source": [
    "# TODO compléter la fonction Gini\n",
    "def Gini(S):  \n",
    "    V = np.unique(S)\n",
    "    gini = 1\n",
    "    # Compléter ici\n",
    "    for i in range(len(V)):\n",
    "        gini-=P(S,V[i])**2\n",
    "    return gini \n",
    "\n",
    "#=====================================================================\n",
    "# TEST UNITAIRE\n",
    "#=====================================================================\n",
    "# Resultat : 0.4591836734693877\n",
    "#---------------------------------------------------------------------\n",
    "\n",
    "Gini(Y_njouer)\n"
   ]
  },
  {
   "cell_type": "markdown",
   "metadata": {
    "id": "gPq60bTuqYk_"
   },
   "source": [
    "#### I.2.2. Division d'un ensemble\n",
    "\n",
    "**Rien à programmer ici**\n",
    "\n",
    "Ici, on essaye de diviser la liste des prédictions (classes) $Y$ selon une valeur donnée $v$ d'un attribut (caractéristique, colonne) $A$ sur deux listes :\n",
    "- $Y_G$ : une liste contenant les éléments de $Y$ où $A > v$\n",
    "- $Y_D$ : une liste contenant les éléments de $Y$ où $A \\le v$\n"
   ]
  },
  {
   "cell_type": "code",
   "execution_count": 12,
   "metadata": {
    "colab": {
     "base_uri": "https://localhost:8080/"
    },
    "id": "km26VOfDqYk_",
    "outputId": "83bcf98e-9626-4f4a-ed3b-7bdb243bf2c3"
   },
   "outputs": [
    {
     "data": {
      "text/plain": [
       "(array(['non', 'non', 'oui', 'oui', 'non', 'oui', 'oui', 'oui', 'oui',\n",
       "        'oui', 'non'], dtype=object),\n",
       " array(['oui', 'non', 'oui'], dtype=object))"
      ]
     },
     "execution_count": 12,
     "metadata": {},
     "output_type": "execute_result"
    }
   ],
   "source": [
    "def diviser_CART(Y, A, v):\n",
    "    msk = A > v\n",
    "    return Y[msk], Y[~msk]\n",
    "\n",
    "#=====================================================================\n",
    "# TEST UNITAIRE\n",
    "#=====================================================================\n",
    "# Resultat : \n",
    "# (array(['non', 'non', 'oui', 'oui', 'non', 'oui', 'oui', 'oui', 'oui',\n",
    "#         'oui', 'non'], dtype=object),\n",
    "#  array(['oui', 'non', 'oui'], dtype=object))\n",
    "#---------------------------------------------------------------------\n",
    "\n",
    "diviser_CART(Y_njouer, X_njouer[:,0], 20)"
   ]
  },
  {
   "cell_type": "markdown",
   "metadata": {
    "id": "xlFAy-cUqYlA"
   },
   "source": [
    "#### I.2.3. Diversité Gini de la division\n",
    "\n",
    "Etant donné : \n",
    "- **Y** : une liste des prédictions\n",
    "- **V** : les différentes valeurs de Y (les classes\n",
    "- S_G, G_D : sous ensembles gauche et droit\n",
    "- $|S| = |S_G| + |S_D|$\n",
    "\n",
    "La diversité Gini de la division : \n",
    "\n",
    "$$Gini_{div}(S_G, S_D) = \\frac{|S_G|}{|S|} Gini(S_G) + \\frac{|S_D|}{|S|} Gini(S_D)$$\n"
   ]
  },
  {
   "cell_type": "code",
   "execution_count": 13,
   "metadata": {
    "colab": {
     "base_uri": "https://localhost:8080/"
    },
    "id": "UD6CkfI_qYlA",
    "outputId": "8ca1bd44-7087-4fb4-c992-3844eff1a1fc"
   },
   "outputs": [
    {
     "data": {
      "text/plain": [
       "0.4588744588744589"
      ]
     },
     "execution_count": 13,
     "metadata": {},
     "output_type": "execute_result"
    }
   ],
   "source": [
    "# TODO compléter la fonction diversité gini de la division\n",
    "def Gini_div(S_G, S_D): \n",
    "    S_len = float(len(S_G) + len(S_D)) \n",
    "    # Compléter ici\n",
    "    gini_div=(len(S_G)*Gini(S_G))/S_len+(len(S_D)*Gini(S_D))/S_len\n",
    "    return gini_div\n",
    "\n",
    "#=====================================================================\n",
    "# TEST UNITAIRE\n",
    "#=====================================================================\n",
    "# Resultat : 0.4588744588744589\n",
    "#---------------------------------------------------------------------\n",
    "\n",
    "S_G, S_D = diviser_CART(Y_njouer, X_njouer[:, 0], 20)\n",
    "Gini_div(S_G, S_D)"
   ]
  },
  {
   "cell_type": "markdown",
   "metadata": {
    "id": "ByIxbE8aqYlA"
   },
   "source": [
    "#### I.2.4. Choix de l'attribut et la valeur de division CART\n",
    "\n",
    "L'algorithme\n",
    "- Pour chaque ccaractéristique $X_j$ \n",
    "   - Pour chaque valeur $v$ appartennant aux valeurs uniques de $X_j$\n",
    "       1. Diviser $Y$ en se basant sur la valeur $v$ et celles de $X_j$\n",
    "       1. Calculer Gini de cette division \n",
    "       1. Garder l'indice **jj** de la caractéristique qui minimise Gini\n",
    "       1. Garder Gini minimale **gini_jj**\n",
    "       1. Garder la valeur de dévision **v_jj**\n",
    "       "
   ]
  },
  {
   "cell_type": "code",
   "execution_count": 15,
   "metadata": {
    "colab": {
     "base_uri": "https://localhost:8080/"
    },
    "id": "glZJdJQ6qYlA",
    "outputId": "21a314ed-20a8-4c03-a466-4abec440120f"
   },
   "outputs": [
    {
     "data": {
      "text/plain": [
       "(1, 0.3936507936507936, 80)"
      ]
     },
     "execution_count": 15,
     "metadata": {},
     "output_type": "execute_result"
    }
   ],
   "source": [
    "# TODO compléter la fonction du choix de l'attribut et la valeur de division CART\n",
    "def choisir_division_CART(X, Y): \n",
    "    jj = -1\n",
    "    gini_jj = 1.0\n",
    "    v_jj = -1.0\n",
    "    dim=X.shape\n",
    "    for i in range(dim[1]):\n",
    "        v=np.unique(X[:,i])\n",
    "        for j in range(len(v)):\n",
    "            S_G, S_D = diviser_CART(Y, X[:, i], v[j])\n",
    "            gini=Gini_div(S_G, S_D)\n",
    "            if(gini_jj>gini):\n",
    "                gini_jj=gini\n",
    "                v_jj=v[j]\n",
    "                jj=i\n",
    "    # Compléter ici\n",
    "    return jj, gini_jj, v_jj\n",
    "\n",
    "#=====================================================================\n",
    "# TEST UNITAIRE\n",
    "#=====================================================================\n",
    "# Resultat : (1, 0.3936507936507937, 80)\n",
    "#---------------------------------------------------------------------\n",
    "\n",
    "choisir_division_CART(X_njouer, Y_njouer)"
   ]
  },
  {
   "cell_type": "markdown",
   "metadata": {
    "id": "Fy49PCIKqYlB"
   },
   "source": [
    "#### I.2.5. Arrêt de division CART\n",
    "\n",
    "**Rien à programmer ici** \n",
    "\n",
    "On va utiliser la même fonction que celle de ID3. Mais, pour être consistant, on va seulement renomer la fonction et passer Gini à la place de l'entropie."
   ]
  },
  {
   "cell_type": "code",
   "execution_count": 16,
   "metadata": {
    "colab": {
     "base_uri": "https://localhost:8080/"
    },
    "id": "j_2KFK1PqYlB",
    "outputId": "a5419ec1-859e-4c10-ecd5-3afbd2dc03d6"
   },
   "outputs": [
    {
     "data": {
      "text/plain": [
       "('oui', 'non', None)"
      ]
     },
     "execution_count": 16,
     "metadata": {},
     "output_type": "execute_result"
    }
   ],
   "source": [
    "arreter_CART = arreter_ID3\n",
    "\n",
    "#=====================================================================\n",
    "# TEST UNITAIRE\n",
    "#=====================================================================\n",
    "# Resultat : ('oui', 'non', None)\n",
    "#---------------------------------------------------------------------\n",
    "\n",
    "Y_t1 = np.array([\"oui\", \"oui\", \"oui\"])\n",
    "Y_t2 = np.array([\"oui\", \"non\", \"non\"])\n",
    "arreter_CART(Y_t1, H(Y_t1), 2), arreter_CART(Y_t2, H(Y_t2), 4), arreter_CART(Y_t2, H(Y_t2), 2)"
   ]
  },
  {
   "cell_type": "markdown",
   "metadata": {
    "id": "u6c_2mpUqYlB"
   },
   "source": [
    "#### I.2.6. Création de l'arbre\n",
    "\n",
    "**Rien à programmer ici**"
   ]
  },
  {
   "cell_type": "code",
   "execution_count": 17,
   "metadata": {
    "colab": {
     "base_uri": "https://localhost:8080/"
    },
    "id": "_83o6Js0qYlB",
    "outputId": "6a435879-a0ba-4634-8e69-29a68f2f72e0"
   },
   "outputs": [
    {
     "name": "stdout",
     "output_type": "stream",
     "text": [
      "Le Code\n",
      "Si X[1]  > 80 Alors\n",
      "    Si X[0]  > 22 Alors\n",
      "        Y est \"non\"\n",
      "    Sinon\n",
      "        Si X[0]  > 21 Alors\n",
      "            Y est \"non\"\n",
      "        Sinon\n",
      "            Y est \"oui\"\n",
      "Sinon\n",
      "    Si X[2]  > 0 Alors\n",
      "        Si X[1]  > 70 Alors\n",
      "            Y est \"non\"\n",
      "        Sinon\n",
      "            Si X[0]  > 18 Alors\n",
      "                Y est \"oui\"\n",
      "            Sinon\n",
      "                Y est \"non\"\n",
      "    Sinon\n",
      "        Y est \"oui\"\n",
      "\n"
     ]
    }
   ],
   "source": [
    "# Comme Noeud, mais il faut changer un peu, puisqu'on teste sur des \n",
    "# valeurs numériques aussi\n",
    "# Le code sera plus utilisable si on crée une classe commune et on hérite\n",
    "# Mais, je n'ai pas le temps pour tout ça (DEAL WITH IT)\n",
    "class NoeudBin(object): \n",
    "    \n",
    "    nbr = 0\n",
    "    \n",
    "    def __init__(self, num, val, gini, profondeur): \n",
    "        self.num = num # le numéro du caractéristique de dévision dans X\n",
    "        self.val = val\n",
    "        self.gini = gini # le Gini de division\n",
    "        self.pr = profondeur # la profondeur du noeud\n",
    "        self.fils = [] # les fils ; un tableau de deux noeuds: S_G, S_D\n",
    "        self.cls = \"\" # la classe si ce noeud est final (s'il n'y a pas de fils)\n",
    "        self.indent = \"    \" # indentation lorsqu'on génère le code\n",
    "    \n",
    "    # Cette fonction est pour transformer le noeud à une string\n",
    "    #Ici, nous avons redéfini cette fonction afin qu'elle écrive l'arbre \n",
    "    #sous form d'un algorithme ; c'est un parser \n",
    "    def __str__(self):\n",
    "        \n",
    "        indent = self.indent * self.pr # indentation : esthetique\n",
    "        \n",
    "        # s'il n'y a pas de fils, le noeud est terminal ; on imprime la classe\n",
    "        if (len(self.fils)==0):\n",
    "            return indent + 'Y est \"' + self.cls + '\"\\n'\n",
    "         \n",
    "        prefix = ' > '\n",
    "        suffix = ''\n",
    "        \n",
    "        # s'il y a des fils, on boucle sur les fils et on imprime des SI ... ALORS SINON\n",
    "        res = \"\"\n",
    "        res += indent + 'Si X[' + str(self.num) + '] ' + prefix + str(self.val) + suffix + ' Alors\\n' + str(self.fils[0])\n",
    "        res += indent + 'Sinon\\n' + str(self.fils[1])\n",
    "        return res\n",
    "    \n",
    "    # predire un échantillon\n",
    "    def predire(self, x): \n",
    "        \n",
    "        # Si le noeud est final, il rend sa classe \n",
    "        if (len(self.fils)==0):\n",
    "            return self.cls\n",
    "        \n",
    "        # sinon\n",
    "        if x[self.num] > self.val:\n",
    "            return self.fils[0].predire(x)\n",
    "        return self.fils[1].predire(x)\n",
    "\n",
    "    \n",
    "    # générer un code pour graphviz\n",
    "    def graphviz(self): \n",
    "        \n",
    "        nid = 'N' + str(NoeudBin.nbr)\n",
    "        NoeudBin.nbr += 1\n",
    "        \n",
    "        # Si le noeud est final, \n",
    "        if (len(self.fils)==0):\n",
    "            return nid, nid + '[label=\"' + self.cls + '\" shape=ellipse];\\n'\n",
    "        \n",
    "        # Sinon, \n",
    "        # s'il y a des fils, on boucle sur les fils et on imprime des SI ... ALORS\n",
    "        prefix = '] > '\n",
    "        res = nid + '[label=\"X[' + str(self.num) + prefix + str(self.val) + '\\\\n'\n",
    "        res += 'Gini = ' + str(self.gini) + '\"];\\n'\n",
    "        vid_G, code_G = self.fils[0].graphviz()\n",
    "        vid_D, code_D = self.fils[1].graphviz()\n",
    "        \n",
    "        res += code_G + code_D\n",
    "        res += nid + ' -> ' + vid_G + ' [label=\"Vrai\"];\\n'\n",
    "        res += nid + ' -> ' + vid_D + ' [label=\"Faux\"];\\n'\n",
    "        return nid, res\n",
    "\n",
    "# créer l'arbre de décision à partir d'un ensemble X et Y\n",
    "def entrainer_CART(X, Y, profondeur=0, nbr_min=0): \n",
    "    \n",
    "    # Chercher le meilleur caractéristique de X pour diviser Y\n",
    "    jj, gini_jj, v_jj = choisir_division_CART(X, Y)\n",
    "    # Créer un noeud\n",
    "    noeud = NoeudBin(jj, v_jj, gini_jj, profondeur)\n",
    "    # Si l'entropie est 0 donc le noeud est terminal, élagage\n",
    "    \n",
    "    cls = arreter_CART(Y, gini_jj, nbr_min)\n",
    "    if cls:\n",
    "        noeud.cls = cls # la classe du noeud\n",
    "        return noeud # retourner le noeud \n",
    "     \n",
    "    \n",
    "    # Sinon, si le noeud n'est pas terminal, on crée ces fils\n",
    "    profondeur += 1 # la profondeur de ces fils\n",
    "    # création des deux fils\n",
    "    \n",
    "    msk = X[:, jj] > v_jj\n",
    "    \n",
    "    X_G = X[msk]\n",
    "    Y_G = Y[msk]\n",
    "    fils_G = entrainer_CART(X_G, Y_G, profondeur, nbr_min)\n",
    "    X_D = X[~msk]\n",
    "    Y_D = Y[~msk]\n",
    "    fils_D = entrainer_CART(X_D, Y_D, profondeur, nbr_min)\n",
    "    noeud.fils.append(fils_G)\n",
    "    noeud.fils.append(fils_D)\n",
    "    \n",
    "    return noeud\n",
    "\n",
    "arbre_njouer = entrainer_CART(X_njouer, Y_njouer)\n",
    "\n",
    "print(\"Le Code\")\n",
    "print(arbre_njouer)"
   ]
  },
  {
   "cell_type": "markdown",
   "metadata": {
    "id": "9Ib2MXRjqYlC"
   },
   "source": [
    "#### I.2.7. Regrouper le tous\n",
    "\n",
    "**Rien à programmer ici**"
   ]
  },
  {
   "cell_type": "code",
   "execution_count": 18,
   "metadata": {
    "colab": {
     "base_uri": "https://localhost:8080/"
    },
    "id": "yAzO1LG_qYlC",
    "outputId": "ac4bb03c-3387-4541-de48-dfda566f3e49"
   },
   "outputs": [
    {
     "name": "stdout",
     "output_type": "stream",
     "text": [
      "Si humidite  > 80 Alors\n",
      "    Si temperature  > 22 Alors\n",
      "        jouer est \"non\"\n",
      "    Sinon\n",
      "        Si temperature  > 21 Alors\n",
      "            jouer est \"non\"\n",
      "        Sinon\n",
      "            jouer est \"oui\"\n",
      "Sinon\n",
      "    Si vent  > 0 Alors\n",
      "        Si humidite  > 70 Alors\n",
      "            jouer est \"non\"\n",
      "        Sinon\n",
      "            Si temperature  > 18 Alors\n",
      "                jouer est \"oui\"\n",
      "            Sinon\n",
      "                jouer est \"non\"\n",
      "    Sinon\n",
      "        jouer est \"oui\"\n",
      "\n"
     ]
    }
   ],
   "source": [
    "class CART(object): \n",
    "    \n",
    "    def entrainer(self, X, Y, X_noms=[], Y_nom=\"\", nbr_min=0):\n",
    "        self.arbre = entrainer_CART(X, Y, 0, nbr_min)\n",
    "        code = str(self.arbre)\n",
    "        if len(Y_nom) > 0: \n",
    "            code = code.replace(\"Y\", Y_nom)\n",
    "        for i in range(len(X_noms)): \n",
    "            code = code.replace(\"X[\" + str(i) + \"]\", X_noms[i])\n",
    "        self.code = code\n",
    "        self.X_noms = X_noms\n",
    "    \n",
    "    def predire(self, X): \n",
    "        predictions = []\n",
    "        for i in range(len(X)): \n",
    "            predictions.append(self.arbre.predire(X[i, :]))\n",
    "        return predictions\n",
    "    \n",
    "    def graphviz(self): \n",
    "        nid, code = self.arbre.graphviz()\n",
    "        res = \"digraph Tree {\\n\"\n",
    "        res += \"node [shape=box] ;\"\n",
    "        for i in range(len(self.X_noms)): \n",
    "            code = code.replace(\"X[\" + str(i) + \"]\", self.X_noms[i])\n",
    "        res += code\n",
    "        res += \"}\"\n",
    "        return res\n",
    "\n",
    "cart_classifieur = CART()\n",
    "cart_classifieur.entrainer(X_njouer, Y_njouer, X_noms=[\"temperature\", \"humidite\", \"vent\"], Y_nom=\"jouer\")\n",
    "print(cart_classifieur.code)"
   ]
  },
  {
   "cell_type": "code",
   "execution_count": 25,
   "metadata": {
    "colab": {
     "base_uri": "https://localhost:8080/",
     "height": 554
    },
    "id": "_0t70_asqYlD",
    "outputId": "9efd8776-4a58-4305-e8d8-f0ceb476bb1f"
   },
   "outputs": [
    {
     "data": {
      "image/svg+xml": [
       "<svg height=\"400pt\" viewBox=\"0.00 0.00 549.00 400.00\" width=\"549pt\" xmlns=\"http://www.w3.org/2000/svg\" xmlns:xlink=\"http://www.w3.org/1999/xlink\">\n",
       "<g class=\"graph\" id=\"graph0\" transform=\"scale(1 1) rotate(0) translate(4 396)\">\n",
       "<title>Tree</title>\n",
       "<polygon fill=\"#ffffff\" points=\"-4,4 -4,-396 545,-396 545,4 -4,4\" stroke=\"transparent\"/>\n",
       "<!-- N0 -->\n",
       "<g class=\"node\" id=\"node1\">\n",
       "<title>N0</title>\n",
       "<polygon fill=\"none\" points=\"363.5,-392 174.5,-392 174.5,-354 363.5,-354 363.5,-392\" stroke=\"#000000\"/>\n",
       "<text fill=\"#000000\" font-family=\"Times,serif\" font-size=\"14.00\" text-anchor=\"middle\" x=\"269\" y=\"-376.8\">humidite &gt; 80</text>\n",
       "<text fill=\"#000000\" font-family=\"Times,serif\" font-size=\"14.00\" text-anchor=\"middle\" x=\"269\" y=\"-361.8\">Gini = 0.3936507936507936</text>\n",
       "</g>\n",
       "<!-- N1 -->\n",
       "<g class=\"node\" id=\"node2\">\n",
       "<title>N1</title>\n",
       "<polygon fill=\"none\" points=\"262.5,-303 65.5,-303 65.5,-265 262.5,-265 262.5,-303\" stroke=\"#000000\"/>\n",
       "<text fill=\"#000000\" font-family=\"Times,serif\" font-size=\"14.00\" text-anchor=\"middle\" x=\"164\" y=\"-287.8\">temperature &gt; 22</text>\n",
       "<text fill=\"#000000\" font-family=\"Times,serif\" font-size=\"14.00\" text-anchor=\"middle\" x=\"164\" y=\"-272.8\">Gini = 0.26666666666666666</text>\n",
       "</g>\n",
       "<!-- N0&#45;&gt;N1 -->\n",
       "<g class=\"edge\" id=\"edge11\">\n",
       "<title>N0-&gt;N1</title>\n",
       "<path d=\"M246.4749,-353.9073C231.2501,-341.0025 210.9677,-323.8107 194.3265,-309.7053\" fill=\"none\" stroke=\"#000000\"/>\n",
       "<polygon fill=\"#000000\" points=\"196.3793,-306.8572 186.4879,-303.0612 191.8532,-312.1971 196.3793,-306.8572\" stroke=\"#000000\"/>\n",
       "<text fill=\"#000000\" font-family=\"Times,serif\" font-size=\"14.00\" text-anchor=\"middle\" x=\"235.5\" y=\"-324.8\">Vrai</text>\n",
       "</g>\n",
       "<!-- N6 -->\n",
       "<g class=\"node\" id=\"node7\">\n",
       "<title>N6</title>\n",
       "<polygon fill=\"none\" points=\"469.5,-303 280.5,-303 280.5,-265 469.5,-265 469.5,-303\" stroke=\"#000000\"/>\n",
       "<text fill=\"#000000\" font-family=\"Times,serif\" font-size=\"14.00\" text-anchor=\"middle\" x=\"375\" y=\"-287.8\">vent &gt; 0</text>\n",
       "<text fill=\"#000000\" font-family=\"Times,serif\" font-size=\"14.00\" text-anchor=\"middle\" x=\"375\" y=\"-272.8\">Gini = 0.2222222222222222</text>\n",
       "</g>\n",
       "<!-- N0&#45;&gt;N6 -->\n",
       "<g class=\"edge\" id=\"edge12\">\n",
       "<title>N0-&gt;N6</title>\n",
       "<path d=\"M291.7397,-353.9073C307.1094,-341.0025 327.585,-323.8107 344.3846,-309.7053\" fill=\"none\" stroke=\"#000000\"/>\n",
       "<polygon fill=\"#000000\" points=\"346.89,-312.1719 352.2979,-303.0612 342.3889,-306.8109 346.89,-312.1719\" stroke=\"#000000\"/>\n",
       "<text fill=\"#000000\" font-family=\"Times,serif\" font-size=\"14.00\" text-anchor=\"middle\" x=\"344\" y=\"-324.8\">Faux</text>\n",
       "</g>\n",
       "<!-- N2 -->\n",
       "<g class=\"node\" id=\"node3\">\n",
       "<title>N2</title>\n",
       "<ellipse cx=\"27\" cy=\"-195\" fill=\"none\" rx=\"27\" ry=\"18\" stroke=\"#000000\"/>\n",
       "<text fill=\"#000000\" font-family=\"Times,serif\" font-size=\"14.00\" text-anchor=\"middle\" x=\"27\" y=\"-191.3\">non</text>\n",
       "</g>\n",
       "<!-- N1&#45;&gt;N2 -->\n",
       "<g class=\"edge\" id=\"edge3\">\n",
       "<title>N1-&gt;N2</title>\n",
       "<path d=\"M134.6101,-264.9073C111.1496,-249.6665 78.4847,-228.4463 55.3123,-213.3927\" fill=\"none\" stroke=\"#000000\"/>\n",
       "<polygon fill=\"#000000\" points=\"56.9225,-210.265 46.6299,-207.7523 53.109,-216.1351 56.9225,-210.265\" stroke=\"#000000\"/>\n",
       "<text fill=\"#000000\" font-family=\"Times,serif\" font-size=\"14.00\" text-anchor=\"middle\" x=\"116.5\" y=\"-235.8\">Vrai</text>\n",
       "</g>\n",
       "<!-- N3 -->\n",
       "<g class=\"node\" id=\"node4\">\n",
       "<title>N3</title>\n",
       "<polygon fill=\"none\" points=\"261.5,-214 72.5,-214 72.5,-176 261.5,-176 261.5,-214\" stroke=\"#000000\"/>\n",
       "<text fill=\"#000000\" font-family=\"Times,serif\" font-size=\"14.00\" text-anchor=\"middle\" x=\"167\" y=\"-198.8\">temperature &gt; 21</text>\n",
       "<text fill=\"#000000\" font-family=\"Times,serif\" font-size=\"14.00\" text-anchor=\"middle\" x=\"167\" y=\"-183.8\">Gini = 0.3333333333333333</text>\n",
       "</g>\n",
       "<!-- N1&#45;&gt;N3 -->\n",
       "<g class=\"edge\" id=\"edge4\">\n",
       "<title>N1-&gt;N3</title>\n",
       "<path d=\"M164.651,-264.6883C165.048,-252.909 165.5634,-237.6187 166.0102,-224.3628\" fill=\"none\" stroke=\"#000000\"/>\n",
       "<polygon fill=\"#000000\" points=\"169.5113,-224.3863 166.3503,-214.274 162.5153,-224.1504 169.5113,-224.3863\" stroke=\"#000000\"/>\n",
       "<text fill=\"#000000\" font-family=\"Times,serif\" font-size=\"14.00\" text-anchor=\"middle\" x=\"181\" y=\"-235.8\">Faux</text>\n",
       "</g>\n",
       "<!-- N4 -->\n",
       "<g class=\"node\" id=\"node5\">\n",
       "<title>N4</title>\n",
       "<ellipse cx=\"117\" cy=\"-106\" fill=\"none\" rx=\"27\" ry=\"18\" stroke=\"#000000\"/>\n",
       "<text fill=\"#000000\" font-family=\"Times,serif\" font-size=\"14.00\" text-anchor=\"middle\" x=\"117\" y=\"-102.3\">non</text>\n",
       "</g>\n",
       "<!-- N3&#45;&gt;N4 -->\n",
       "<g class=\"edge\" id=\"edge1\">\n",
       "<title>N3-&gt;N4</title>\n",
       "<path d=\"M156.1507,-175.6883C148.9632,-162.8945 139.4488,-145.9589 131.5992,-131.9866\" fill=\"none\" stroke=\"#000000\"/>\n",
       "<polygon fill=\"#000000\" points=\"134.4294,-129.8784 126.48,-122.8743 128.3265,-133.307 134.4294,-129.8784\" stroke=\"#000000\"/>\n",
       "<text fill=\"#000000\" font-family=\"Times,serif\" font-size=\"14.00\" text-anchor=\"middle\" x=\"157.5\" y=\"-146.8\">Vrai</text>\n",
       "</g>\n",
       "<!-- N5 -->\n",
       "<g class=\"node\" id=\"node6\">\n",
       "<title>N5</title>\n",
       "<ellipse cx=\"189\" cy=\"-106\" fill=\"none\" rx=\"27\" ry=\"18\" stroke=\"#000000\"/>\n",
       "<text fill=\"#000000\" font-family=\"Times,serif\" font-size=\"14.00\" text-anchor=\"middle\" x=\"189\" y=\"-102.3\">oui</text>\n",
       "</g>\n",
       "<!-- N3&#45;&gt;N5 -->\n",
       "<g class=\"edge\" id=\"edge2\">\n",
       "<title>N3-&gt;N5</title>\n",
       "<path d=\"M171.7737,-175.6883C174.815,-163.385 178.803,-147.2513 182.176,-133.6063\" fill=\"none\" stroke=\"#000000\"/>\n",
       "<polygon fill=\"#000000\" points=\"185.6075,-134.3093 184.6095,-123.7616 178.812,-132.6295 185.6075,-134.3093\" stroke=\"#000000\"/>\n",
       "<text fill=\"#000000\" font-family=\"Times,serif\" font-size=\"14.00\" text-anchor=\"middle\" x=\"195\" y=\"-146.8\">Faux</text>\n",
       "</g>\n",
       "<!-- N7 -->\n",
       "<g class=\"node\" id=\"node8\">\n",
       "<title>N7</title>\n",
       "<polygon fill=\"none\" points=\"468.5,-214 279.5,-214 279.5,-176 468.5,-176 468.5,-214\" stroke=\"#000000\"/>\n",
       "<text fill=\"#000000\" font-family=\"Times,serif\" font-size=\"14.00\" text-anchor=\"middle\" x=\"374\" y=\"-198.8\">humidite &gt; 70</text>\n",
       "<text fill=\"#000000\" font-family=\"Times,serif\" font-size=\"14.00\" text-anchor=\"middle\" x=\"374\" y=\"-183.8\">Gini = 0.3333333333333333</text>\n",
       "</g>\n",
       "<!-- N6&#45;&gt;N7 -->\n",
       "<g class=\"edge\" id=\"edge9\">\n",
       "<title>N6-&gt;N7</title>\n",
       "<path d=\"M374.783,-264.6883C374.6507,-252.909 374.4789,-237.6187 374.3299,-224.3628\" fill=\"none\" stroke=\"#000000\"/>\n",
       "<polygon fill=\"#000000\" points=\"377.8288,-224.234 374.2166,-214.274 370.8292,-224.3127 377.8288,-224.234\" stroke=\"#000000\"/>\n",
       "<text fill=\"#000000\" font-family=\"Times,serif\" font-size=\"14.00\" text-anchor=\"middle\" x=\"387.5\" y=\"-235.8\">Vrai</text>\n",
       "</g>\n",
       "<!-- N12 -->\n",
       "<g class=\"node\" id=\"node13\">\n",
       "<title>N12</title>\n",
       "<ellipse cx=\"514\" cy=\"-195\" fill=\"none\" rx=\"27\" ry=\"18\" stroke=\"#000000\"/>\n",
       "<text fill=\"#000000\" font-family=\"Times,serif\" font-size=\"14.00\" text-anchor=\"middle\" x=\"514\" y=\"-191.3\">oui</text>\n",
       "</g>\n",
       "<!-- N6&#45;&gt;N12 -->\n",
       "<g class=\"edge\" id=\"edge10\">\n",
       "<title>N6-&gt;N12</title>\n",
       "<path d=\"M404.819,-264.9073C428.8687,-249.5085 462.4519,-228.0056 486.0025,-212.9264\" fill=\"none\" stroke=\"#000000\"/>\n",
       "<polygon fill=\"#000000\" points=\"487.9622,-215.8277 494.4965,-207.4878 484.1876,-209.9326 487.9622,-215.8277\" stroke=\"#000000\"/>\n",
       "<text fill=\"#000000\" font-family=\"Times,serif\" font-size=\"14.00\" text-anchor=\"middle\" x=\"468\" y=\"-235.8\">Faux</text>\n",
       "</g>\n",
       "<!-- N8 -->\n",
       "<g class=\"node\" id=\"node9\">\n",
       "<title>N8</title>\n",
       "<ellipse cx=\"304\" cy=\"-106\" fill=\"none\" rx=\"27\" ry=\"18\" stroke=\"#000000\"/>\n",
       "<text fill=\"#000000\" font-family=\"Times,serif\" font-size=\"14.00\" text-anchor=\"middle\" x=\"304\" y=\"-102.3\">non</text>\n",
       "</g>\n",
       "<!-- N7&#45;&gt;N8 -->\n",
       "<g class=\"edge\" id=\"edge7\">\n",
       "<title>N7-&gt;N8</title>\n",
       "<path d=\"M358.811,-175.6883C348.2565,-162.269 334.1181,-144.2931 322.8445,-129.9595\" fill=\"none\" stroke=\"#000000\"/>\n",
       "<polygon fill=\"#000000\" points=\"325.5198,-127.6993 316.5866,-122.003 320.0177,-132.0268 325.5198,-127.6993\" stroke=\"#000000\"/>\n",
       "<text fill=\"#000000\" font-family=\"Times,serif\" font-size=\"14.00\" text-anchor=\"middle\" x=\"356.5\" y=\"-146.8\">Vrai</text>\n",
       "</g>\n",
       "<!-- N9 -->\n",
       "<g class=\"node\" id=\"node10\">\n",
       "<title>N9</title>\n",
       "<polygon fill=\"none\" points=\"538.5,-125 349.5,-125 349.5,-87 538.5,-87 538.5,-125\" stroke=\"#000000\"/>\n",
       "<text fill=\"#000000\" font-family=\"Times,serif\" font-size=\"14.00\" text-anchor=\"middle\" x=\"444\" y=\"-109.8\">temperature &gt; 18</text>\n",
       "<text fill=\"#000000\" font-family=\"Times,serif\" font-size=\"14.00\" text-anchor=\"middle\" x=\"444\" y=\"-94.8\">Gini = 0.3333333333333333</text>\n",
       "</g>\n",
       "<!-- N7&#45;&gt;N9 -->\n",
       "<g class=\"edge\" id=\"edge8\">\n",
       "<title>N7-&gt;N9</title>\n",
       "<path d=\"M389.189,-175.6883C398.9123,-163.3258 411.6772,-147.0962 422.4418,-133.4098\" fill=\"none\" stroke=\"#000000\"/>\n",
       "<polygon fill=\"#000000\" points=\"425.4096,-135.2979 428.8407,-125.274 419.9075,-130.9704 425.4096,-135.2979\" stroke=\"#000000\"/>\n",
       "<text fill=\"#000000\" font-family=\"Times,serif\" font-size=\"14.00\" text-anchor=\"middle\" x=\"429\" y=\"-146.8\">Faux</text>\n",
       "</g>\n",
       "<!-- N10 -->\n",
       "<g class=\"node\" id=\"node11\">\n",
       "<title>N10</title>\n",
       "<ellipse cx=\"408\" cy=\"-18\" fill=\"none\" rx=\"27\" ry=\"18\" stroke=\"#000000\"/>\n",
       "<text fill=\"#000000\" font-family=\"Times,serif\" font-size=\"14.00\" text-anchor=\"middle\" x=\"408\" y=\"-14.3\">oui</text>\n",
       "</g>\n",
       "<!-- N9&#45;&gt;N10 -->\n",
       "<g class=\"edge\" id=\"edge5\">\n",
       "<title>N9-&gt;N10</title>\n",
       "<path d=\"M436.1885,-86.9053C431.1631,-74.6209 424.5578,-58.4747 419.0045,-44.9\" fill=\"none\" stroke=\"#000000\"/>\n",
       "<polygon fill=\"#000000\" points=\"422.2103,-43.4922 415.1845,-35.562 415.7314,-46.1427 422.2103,-43.4922\" stroke=\"#000000\"/>\n",
       "<text fill=\"#000000\" font-family=\"Times,serif\" font-size=\"14.00\" text-anchor=\"middle\" x=\"441.5\" y=\"-57.8\">Vrai</text>\n",
       "</g>\n",
       "<!-- N11 -->\n",
       "<g class=\"node\" id=\"node12\">\n",
       "<title>N11</title>\n",
       "<ellipse cx=\"480\" cy=\"-18\" fill=\"none\" rx=\"27\" ry=\"18\" stroke=\"#000000\"/>\n",
       "<text fill=\"#000000\" font-family=\"Times,serif\" font-size=\"14.00\" text-anchor=\"middle\" x=\"480\" y=\"-14.3\">non</text>\n",
       "</g>\n",
       "<!-- N9&#45;&gt;N11 -->\n",
       "<g class=\"edge\" id=\"edge6\">\n",
       "<title>N9-&gt;N11</title>\n",
       "<path d=\"M451.8115,-86.9053C456.8369,-74.6209 463.4422,-58.4747 468.9955,-44.9\" fill=\"none\" stroke=\"#000000\"/>\n",
       "<polygon fill=\"#000000\" points=\"472.2686,-46.1427 472.8155,-35.562 465.7897,-43.4922 472.2686,-46.1427\" stroke=\"#000000\"/>\n",
       "<text fill=\"#000000\" font-family=\"Times,serif\" font-size=\"14.00\" text-anchor=\"middle\" x=\"481\" y=\"-57.8\">Faux</text>\n",
       "</g>\n",
       "</g>\n",
       "</svg>"
      ],
      "text/plain": [
       "<IPython.core.display.SVG object>"
      ]
     },
     "metadata": {
      "tags": []
     },
     "output_type": "display_data"
    }
   ],
   "source": [
    "# C'est juste une visualisation du graphe\n",
    "# Si ça ne marche pas, ce n'ai pas grave\n",
    "try:\n",
    "    from IPython.display import SVG\n",
    "    from graphviz import Source\n",
    "    from IPython.display import display\n",
    "    \n",
    "    graph = Source(cart_classifieur.graphviz())\n",
    "    display(SVG(graph.pipe(format='svg')))\n",
    "\n",
    "except ImportError:\n",
    "    print(\"il faut installer graphviz\")"
   ]
  },
  {
   "cell_type": "markdown",
   "metadata": {
    "id": "-szy4oGyqYlD"
   },
   "source": [
    "## II. Application et analyse\n",
    "\n",
    "On va utiliser le dataset [Cars Data](https://www.kaggle.com/abineshkumark/carsdata) pour classer les voitures en trois classes : US., Euroupe. ou Japan. "
   ]
  },
  {
   "cell_type": "code",
   "execution_count": 26,
   "metadata": {
    "colab": {
     "base_uri": "https://localhost:8080/",
     "height": 195
    },
    "id": "6x30x8roqYlD",
    "outputId": "e3042fc5-2bad-4b5c-e31b-299ff0fd42c1"
   },
   "outputs": [
    {
     "data": {
      "text/html": [
       "<div>\n",
       "<style scoped>\n",
       "    .dataframe tbody tr th:only-of-type {\n",
       "        vertical-align: middle;\n",
       "    }\n",
       "\n",
       "    .dataframe tbody tr th {\n",
       "        vertical-align: top;\n",
       "    }\n",
       "\n",
       "    .dataframe thead th {\n",
       "        text-align: right;\n",
       "    }\n",
       "</style>\n",
       "<table border=\"1\" class=\"dataframe\">\n",
       "  <thead>\n",
       "    <tr style=\"text-align: right;\">\n",
       "      <th></th>\n",
       "      <th>mpg</th>\n",
       "      <th>cylinders</th>\n",
       "      <th>cubicinches</th>\n",
       "      <th>hp</th>\n",
       "      <th>weightlbs</th>\n",
       "      <th>time-to-60</th>\n",
       "      <th>year</th>\n",
       "      <th>brand</th>\n",
       "    </tr>\n",
       "  </thead>\n",
       "  <tbody>\n",
       "    <tr>\n",
       "      <th>0</th>\n",
       "      <td>14.0</td>\n",
       "      <td>8</td>\n",
       "      <td>350.0</td>\n",
       "      <td>165</td>\n",
       "      <td>4209.0</td>\n",
       "      <td>12</td>\n",
       "      <td>1972</td>\n",
       "      <td>US.</td>\n",
       "    </tr>\n",
       "    <tr>\n",
       "      <th>1</th>\n",
       "      <td>31.9</td>\n",
       "      <td>4</td>\n",
       "      <td>89.0</td>\n",
       "      <td>71</td>\n",
       "      <td>1925.0</td>\n",
       "      <td>14</td>\n",
       "      <td>1980</td>\n",
       "      <td>Europe.</td>\n",
       "    </tr>\n",
       "    <tr>\n",
       "      <th>2</th>\n",
       "      <td>17.0</td>\n",
       "      <td>8</td>\n",
       "      <td>302.0</td>\n",
       "      <td>140</td>\n",
       "      <td>3449.0</td>\n",
       "      <td>11</td>\n",
       "      <td>1971</td>\n",
       "      <td>US.</td>\n",
       "    </tr>\n",
       "    <tr>\n",
       "      <th>3</th>\n",
       "      <td>15.0</td>\n",
       "      <td>8</td>\n",
       "      <td>400.0</td>\n",
       "      <td>150</td>\n",
       "      <td>3761.0</td>\n",
       "      <td>10</td>\n",
       "      <td>1971</td>\n",
       "      <td>US.</td>\n",
       "    </tr>\n",
       "    <tr>\n",
       "      <th>4</th>\n",
       "      <td>30.5</td>\n",
       "      <td>4</td>\n",
       "      <td>98.0</td>\n",
       "      <td>63</td>\n",
       "      <td>2051.0</td>\n",
       "      <td>17</td>\n",
       "      <td>1978</td>\n",
       "      <td>US.</td>\n",
       "    </tr>\n",
       "  </tbody>\n",
       "</table>\n",
       "</div>"
      ],
      "text/plain": [
       "    mpg  cylinders  cubicinches   hp  weightlbs  time-to-60  year    brand\n",
       "0  14.0          8        350.0  165     4209.0          12  1972      US.\n",
       "1  31.9          4         89.0   71     1925.0          14  1980  Europe.\n",
       "2  17.0          8        302.0  140     3449.0          11  1971      US.\n",
       "3  15.0          8        400.0  150     3761.0          10  1971      US.\n",
       "4  30.5          4         98.0   63     2051.0          17  1978      US."
      ]
     },
     "execution_count": 26,
     "metadata": {
      "tags": []
     },
     "output_type": "execute_result"
    }
   ],
   "source": [
    "# Lecture du dataset\n",
    "cars_data = pd.read_csv('datasets/cars.csv', skipinitialspace=True)\n",
    "# On a remarqué que le type de cette caractéristique n'est pas bien détecté\n",
    "cars_data[\"cubicinches\"] = pd.to_numeric(cars_data[\"cubicinches\"])\n",
    "# supprimer les valeurs absentes \n",
    "cars_data.dropna(inplace=True)\n",
    "# Yay! We did it! Voici les premières lignes du dataset\n",
    "cars_data.head()"
   ]
  },
  {
   "cell_type": "code",
   "execution_count": 27,
   "metadata": {
    "colab": {
     "base_uri": "https://localhost:8080/"
    },
    "id": "yTCpp5oFqYlD",
    "outputId": "d8c353a4-083d-4b4b-fa08-6fc276473fe1"
   },
   "outputs": [
    {
     "data": {
      "text/plain": [
       "((204, 7), (52, 7))"
      ]
     },
     "execution_count": 27,
     "metadata": {
      "tags": []
     },
     "output_type": "execute_result"
    }
   ],
   "source": [
    "from sklearn.model_selection import train_test_split\n",
    "\n",
    "X_cars = cars_data.values[:, :-1]\n",
    "Y_cars = cars_data.values[:,-1]\n",
    "\n",
    "X_cars_train, X_cars_test, Y_cars_train, Y_cars_test = train_test_split(X_cars, Y_cars, test_size=0.2, random_state=0) \n",
    "\n",
    "X_cars_train.shape, X_cars_test.shape"
   ]
  },
  {
   "cell_type": "markdown",
   "metadata": {
    "id": "i7BVuareqYlE"
   },
   "source": [
    "### II.1. Arbres de décision\n",
    "\n",
    "Dans l'implémentation Scikit-learn des arbres de décision (**DecisionTreeClassifier**), les caractéristiques sont permutées d'une façon aléatoire à chaque division. Ceci rendre l'arbre non déterministe. Pour arrêter ça, on utilise la proporiété **random_state=0**\n",
    "\n",
    "#### II.1.1. Critère de choix des caractéristiques\n",
    "\n",
    "Nous avons entraîné deux arbres de décision CART avec les critères de division : \n",
    "- Entropy\n",
    "- Gini\n",
    "\n",
    "**TODO : Analyser les résultats**\n",
    "- Que remarquez-vous concernant la structure des deux arbres : ENTOPY (à gauche) et GINI (à droit) ? La structure veut dire : la profendeur et le nombre des feuilles.\n",
    "- Justifier le temps d'entraînement et de test en se basant sur les deux algorithmes et les deux structures discutées.\n",
    "\n",
    "**Réponse**\n",
    "- REMARQUE: on remarque que la première division dans les deux arbres est la même cependant, le reste de l'arbre est différent. ,aussi on a une profondeur différente pour les deux arbres ainsi le nombre de feuilles, d'ou :<br/>\n",
    "    -ENTOPY: profondeur=14 et nombre de feuilles=31 <br/>\n",
    "    -GINI:  profondeur=16 et nombre de feuilles=32<br/>\n",
    "- d'apres l'execution on a : <br/> - temps_entrainement_Entropy > temps_entrainement_Gini <br/> - temps_test_Entropy < temps_test_Gini <br/> - meme valeur de F1 (precision) <br/> - F1_Entropy > F1_Gini <br/>\n",
    "- justification:\n",
    "    - l'entropie prend plus de temps dans l'entrainement,parce qu\"elle est plus complexe car elle utilise des logarithmes pour le calcule d'impureté et par conséquent, le calcul de l'indice de Gini sera plus rapide.\n",
    "    - la structure de l'arbre (profondeur et nb feuilles) joue un role important dans la complexité de calcul d'impuréte ainsi le parcours pour arriver aux feuilles car si on a plus de profondeur/nombre feiulles ça augmente le traitement par conséquence augmente le temps d'execution dans la phase de test d'entropie.\n",
    "    - ajoutant à ça la taille de dataset utiliser pour dans cette exemple et le type des données (est ce que on a une \n",
    "redondance ou pas) infleunce le temps ainsi la machine etulise pour l'execution.\n",
    "    - comme resultat c'est vrai Gini est meiux en terme de temps d'execution mais en terme de précision entopie mieux (F1-score =0.826923), donc des fois c'est pas important d'investir dans le temps d'execution et négliger la mesure de performance F1-score."
   ]
  },
  {
   "cell_type": "code",
   "execution_count": 43,
   "metadata": {
    "colab": {
     "base_uri": "https://localhost:8080/"
    },
    "id": "7vWVkHBCqYlE",
    "outputId": "2146e760-1c71-42a2-89a7-0308cdda140c"
   },
   "outputs": [
    {
     "name": "stdout",
     "output_type": "stream",
     "text": [
      "Fini\n"
     ]
    }
   ],
   "source": [
    "from sklearn.tree import DecisionTreeClassifier\n",
    "from sklearn.metrics import f1_score\n",
    "import timeit\n",
    "from sklearn import tree\n",
    "\n",
    "Xchoix_train = X_cars_train\n",
    "Ychoix_train = Y_cars_train\n",
    "Xchoix_test = X_cars_test\n",
    "Ychoix_test = Y_cars_test\n",
    "fnames = cars_data.columns\n",
    "\n",
    "#Xchoix_train = X_njouer[4:, :]\n",
    "#Ychoix_train = Y_njouer[4:]\n",
    "#Xchoix_test = X_njouer[:4, :]\n",
    "#Ychoix_test = Y_njouer[:4]\n",
    "#fnames = [\"temperature\", \"humidite\", \"vent\"]\n",
    "\n",
    "\n",
    "gini_stats = []\n",
    "entropy_stats = []\n",
    "gini_classifieur = DecisionTreeClassifier(criterion=\"gini\", random_state=0)\n",
    "entropy_classifieur = DecisionTreeClassifier(criterion=\"entropy\", random_state=0)\n",
    "\n",
    "# ============ GINI ====================\n",
    "# ............ Entraînement ............\n",
    "temps_debut = timeit.default_timer()\n",
    "gini_classifieur.fit(Xchoix_train, Ychoix_train)\n",
    "gini_stats.append(timeit.default_timer() - temps_debut)\n",
    "# ..... Evaluation entrainement ........\n",
    "gini_stats.append(f1_score(Ychoix_train, gini_classifieur.predict(Xchoix_train), average=\"micro\"))\n",
    "# ................ Test ................\n",
    "temps_debut = timeit.default_timer()\n",
    "Ychoix_pred = gini_classifieur.predict(Xchoix_test)\n",
    "gini_stats.append(timeit.default_timer() - temps_debut)\n",
    "# ........... Evaluation test ...........\n",
    "gini_stats.append(f1_score(Ychoix_test, Ychoix_pred, average=\"micro\"))\n",
    "\n",
    "# =========== Entropy ==================\n",
    "# ............ Entraînement ............\n",
    "temps_debut = timeit.default_timer()\n",
    "entropy_classifieur.fit(Xchoix_train, Ychoix_train)\n",
    "entropy_stats.append(timeit.default_timer() - temps_debut)\n",
    "# ..... Evaluation entrainement ........\n",
    "entropy_stats.append(f1_score(Ychoix_train, entropy_classifieur.predict(Xchoix_train), average=\"micro\"))\n",
    "# ................ Test ................\n",
    "temps_debut = timeit.default_timer()\n",
    "Ychoix_pred = entropy_classifieur.predict(Xchoix_test)\n",
    "entropy_stats.append(timeit.default_timer() - temps_debut)\n",
    "# ........... Evaluation test ...........\n",
    "entropy_stats.append(f1_score(Ychoix_test, Ychoix_pred, average=\"micro\"))\n",
    "\n",
    "print(\"Fini\")"
   ]
  },
  {
   "cell_type": "code",
   "execution_count": 44,
   "metadata": {
    "colab": {
     "base_uri": "https://localhost:8080/",
     "height": 674
    },
    "id": "i6deVp41qYlE",
    "outputId": "bf491312-7b27-414b-d377-904be513ae71"
   },
   "outputs": [
    {
     "data": {
      "image/png": "[encoded data removed]",
      "text/plain": [
       "<Figure size 1440x864 with 2 Axes>"
      ]
     },
     "metadata": {
      "needs_background": "light",
      "tags": []
     },
     "output_type": "display_data"
    }
   ],
   "source": [
    "fig, (ax1, ax2) = plt.subplots(1,2)\n",
    "fig.set_figwidth(20)\n",
    "fig.set_figheight(12)\n",
    "tree.plot_tree(entropy_classifieur, ax=ax1, feature_names=fnames, filled=True)\n",
    "tree.plot_tree(gini_classifieur, ax=ax2, feature_names=fnames, filled=True)\n",
    "plt.show()"
   ]
  },
  {
   "cell_type": "code",
   "execution_count": 45,
   "metadata": {
    "colab": {
     "base_uri": "https://localhost:8080/",
     "height": 166
    },
    "id": "QYqt9vDPqYlF",
    "outputId": "3996b232-112c-440f-d17e-fcc89e63be92"
   },
   "outputs": [
    {
     "data": {
      "text/html": [
       "<div>\n",
       "<style scoped>\n",
       "    .dataframe tbody tr th:only-of-type {\n",
       "        vertical-align: middle;\n",
       "    }\n",
       "\n",
       "    .dataframe tbody tr th {\n",
       "        vertical-align: top;\n",
       "    }\n",
       "\n",
       "    .dataframe thead th {\n",
       "        text-align: right;\n",
       "    }\n",
       "</style>\n",
       "<table border=\"1\" class=\"dataframe\">\n",
       "  <thead>\n",
       "    <tr style=\"text-align: right;\">\n",
       "      <th></th>\n",
       "      <th>Criteres</th>\n",
       "      <th>Entropie</th>\n",
       "      <th>Gini</th>\n",
       "    </tr>\n",
       "  </thead>\n",
       "  <tbody>\n",
       "    <tr>\n",
       "      <th>0</th>\n",
       "      <td>Temps Entrainement</td>\n",
       "      <td>0.003116</td>\n",
       "      <td>0.003167</td>\n",
       "    </tr>\n",
       "    <tr>\n",
       "      <th>1</th>\n",
       "      <td>F1 Entrainement</td>\n",
       "      <td>1.000000</td>\n",
       "      <td>1.000000</td>\n",
       "    </tr>\n",
       "    <tr>\n",
       "      <th>2</th>\n",
       "      <td>Temps Test</td>\n",
       "      <td>0.000480</td>\n",
       "      <td>0.000413</td>\n",
       "    </tr>\n",
       "    <tr>\n",
       "      <th>3</th>\n",
       "      <td>F1 Test</td>\n",
       "      <td>0.826923</td>\n",
       "      <td>0.788462</td>\n",
       "    </tr>\n",
       "  </tbody>\n",
       "</table>\n",
       "</div>"
      ],
      "text/plain": [
       "             Criteres  Entropie      Gini\n",
       "0  Temps Entrainement  0.003116  0.003167\n",
       "1     F1 Entrainement  1.000000  1.000000\n",
       "2          Temps Test  0.000480  0.000413\n",
       "3             F1 Test  0.826923  0.788462"
      ]
     },
     "execution_count": 45,
     "metadata": {
      "tags": []
     },
     "output_type": "execute_result"
    }
   ],
   "source": [
    "pd.DataFrame({\n",
    "    \"Criteres\" : [\"Temps Entrainement\", \"F1 Entrainement\", \"Temps Test\", \"F1 Test\"],\n",
    "    \"Entropie\" : entropy_stats,\n",
    "    \"Gini\" : gini_stats\n",
    "})"
   ]
  },
  {
   "cell_type": "markdown",
   "metadata": {
    "id": "ANl6eWnwqYlF"
   },
   "source": [
    "#### II.1.2. Profondeur maximale de l'arbre\n",
    "\n",
    "Pour chaque profondeur, on entraîne un modèle et on mesure sa convergence et sa performance en terme du score F1. \n",
    "\n",
    "**TODO : Analyser les résultats**\n",
    "- Que remarquez-vous ? (Est-ce que plus de profondeur veut dire le modèle va généraliser mieux)\n",
    "- Justifier\n",
    "\n",
    "**Réponse**\n",
    "- on remarque l'augmentation de profondeur ameliore score F1 mais apres une certaine valeur de profondeur on ne peut plus<br/> \n",
    " ameliore la performance, car dans cette exemple apres une valeur de Max_Prof (entre 15 et 20) le score F1 ce stabilise <br/> à la valeur 1.00 pour l'entrainement et pour le test on remarque une petite amelioration au debut apres des perturbations dans la valeur de F1-score et apres une certain valeur proche de profondeur 20 on a un F1-score à peu pres égale à 0.8.<br/><br/>\n",
    "  - Donc Un arbre plus profond a plus de fractionnements et capture plus d'informations sur les données.Mais si elle est trop grande ne généralisera pas les résultats pour de nouvelles données,c'est-à-dire on aura un probleme de mal généralisation (notre modèle peut donnée des resultas fausse veux que le score de F1 est proche de 0.8).<br/><br/>\n",
    "- Justification: <br/>\n",
    "    - L'augmentation de profondeur produit très rapidement une fragmentation des données, plusieurs sommets sont vides, ce qui rend impossible le calcul effectif des gains des noueds internes.<br/><br/>\n",
    "    - Donc l'augmentation de profondeur peut amener au problème de sur-apprentissage (ou le modèle n'arrive pas a prédire correctement tout les données) c'est pour ça n'est pas toujours important d'augmenté la profondeur."
   ]
  },
  {
   "cell_type": "code",
   "execution_count": 35,
   "metadata": {
    "colab": {
     "base_uri": "https://localhost:8080/",
     "height": 279
    },
    "id": "XsaQw4OVqYlF",
    "outputId": "72b06b2b-fd10-439d-a794-765b2757be54"
   },
   "outputs": [
    {
     "data": {
      "image/png": "[encoded data removed]",
      "text/plain": [
       "<Figure size 432x288 with 1 Axes>"
      ]
     },
     "metadata": {
      "needs_background": "light",
      "tags": []
     },
     "output_type": "display_data"
    }
   ],
   "source": [
    "MAX_PROF = 40\n",
    "\n",
    "MAX_PROF_lst = range(1, MAX_PROF+1, 1)\n",
    "\n",
    "f1_train_pm = []\n",
    "f1_test_pm = []\n",
    "for max_prof in MAX_PROF_lst:\n",
    "    classifieur = DecisionTreeClassifier(random_state=0, max_depth=max_prof)\n",
    "    classifieur.fit(X_cars_train, Y_cars_train)\n",
    "    f1_train_pm.append(f1_score(Y_cars_train, classifieur.predict(X_cars_train), average=\"micro\"))\n",
    "    f1_test_pm.append(f1_score(Y_cars_test, classifieur.predict(X_cars_test), average=\"micro\"))\n",
    "\n",
    "plt.plot(MAX_PROF_lst, f1_train_pm, color=\"blue\", label=\"Convergence (entrainement)\")\n",
    "plt.plot(MAX_PROF_lst, f1_test_pm, color=\"red\", label=\"Test\")\n",
    "plt.ylabel(\"F1\")\n",
    "plt.xlabel(\"Profondeur max de l'arbre\")\n",
    "plt.legend()\n",
    "#plt.rcParams[\"figure.figsize\"] = (3,7)\n",
    "plt.show()"
   ]
  },
  {
   "cell_type": "markdown",
   "metadata": {
    "id": "V7uV1vbFqYlG"
   },
   "source": [
    "#### II.1.3. Observations minimales dans les feuilles\n",
    "\n",
    "Pour chaque nombre des observations minimales dans les feuilles, on entraîne un modèle et on mesure sa convergence et sa performance en terme du score F1. \n",
    "\n",
    "**TODO : Analyser les résultats**\n",
    "- Que remarquez-vous ?\n",
    "- Justifier pourquoi la performance se diminue (en indiquant si ce critère d'arrêt garantie un apprentissage normale ou peut causer un sur-apprentissage ou sous-apprentissage)\n",
    "\n",
    "**Réponse**\n",
    "- remarque : \n",
    "    - Notre modèle va avoir un problème de sur-apprentissage  lorsque ce paramètre est tres petit (a peu pres entre 0-2 ) mais les performances du modèle augmentent rapidement et corrige le problème de sur-apprentissage pour une\n",
    "valeur entre 3 et 5 Mais lorsque nous continuons d'augmenter cette valeur, donc à chaque fois qu'on augmente nombre d'observations dans les feuilles,on dégrade la performance du modèle d'aprés l'execution on a moins de convergence que ce soit dans la phase d'entrainement ou de test la valeur de mesure F1-score diminue,donc notre modèle aura du mal à predire les bonnes resultats des nouvelles données (mal généralisation).<br/><br/>\n",
    "- Justification:\n",
    "    - La performance se diminue par ce deja dans la phase d'entrainement ne peut pas en apprendre suffisamment sur les données donc augmenter ce paramètre provoque sous-apprentissage.<br/><br/>\n",
    "    - Donc si la valeur est tres petite on aura le probleme de sur-apprentissage ,si elle est tres grande on aura le problème de sous-apprentissage,afin de garantir un apprentissage normale il faut ajusté ce critère de façon que notre modèle ne tombe pas dans un des deux problèmes.(dans cet exemple il faut prend une valeur entre 3 et 5 )."
   ]
  },
  {
   "cell_type": "code",
   "execution_count": 38,
   "metadata": {
    "colab": {
     "base_uri": "https://localhost:8080/",
     "height": 279
    },
    "id": "G-G3mlA2qYlG",
    "outputId": "cbbcf2da-7472-4997-a539-26d040740c32"
   },
   "outputs": [
    {
     "data": {
      "image/png": "[encoded data removed]",
      "text/plain": [
       "<Figure size 432x288 with 1 Axes>"
      ]
     },
     "metadata": {
      "needs_background": "light",
      "tags": []
     },
     "output_type": "display_data"
    }
   ],
   "source": [
    "MIN_FEUILLE = 40\n",
    "\n",
    "MIN_FEUILLE_lst = range(1, MIN_FEUILLE+1, 1)\n",
    "\n",
    "f1_train_mf = []\n",
    "f1_test_mf = []\n",
    "for min_feuille in MIN_FEUILLE_lst:\n",
    "    classifieur = DecisionTreeClassifier(random_state=0, min_samples_leaf=min_feuille)\n",
    "    classifieur.fit(X_cars_train, Y_cars_train)\n",
    "    f1_train_mf.append(f1_score(Y_cars_train, classifieur.predict(X_cars_train), average=\"micro\"))\n",
    "    f1_test_mf.append(f1_score(Y_cars_test, classifieur.predict(X_cars_test), average=\"micro\"))\n",
    "\n",
    "plt.plot(MIN_FEUILLE_lst, f1_train_mf, color=\"blue\", label=\"Convergence (entrainement)\")\n",
    "plt.plot(MIN_FEUILLE_lst, f1_test_mf, color=\"red\", label=\"Test\")\n",
    "plt.ylabel(\"F1\")\n",
    "plt.xlabel(\"Observations minimales dans les feuilles\")\n",
    "plt.legend()\n",
    "#plt.rcParams[\"figure.figsize\"] = (3,7)\n",
    "plt.show()"
   ]
  },
  {
   "cell_type": "markdown",
   "metadata": {
    "id": "H3HNF8d-qYlG"
   },
   "source": [
    "### II.2. Forêts aléatoires\n",
    "\n",
    "#### II.2.1. Nombre des arbres\n",
    "\n",
    "Pour chaque nombre des arbres dans le forêt, on entraîne un modèle et on mesure sa convergence et sa performance en terme du score F1. \n",
    "\n",
    "**TODO : Analyser les résultats**\n",
    "- Que remarquez-vous ? (convergence et généralisation)\n",
    "\n",
    "**Réponse**\n",
    "- On remarque que l'agmentation de nombre d'arbre dans la foret accelère la convergence d'entrainement mais apres une certain valeur <br/> le score F1 d'entrainement se stabilise .<br/> par contre pour la convergence de test on remarque qu'il y a des perturbations pour certains valeurs on a des bonnes resultats de score F1 et pour d'autre non mais en genral on a eu des résultats meilleur que dans une simple arbre de décision.<br/><br/>\n",
    "\n",
    "- Donc plus le nombre d'arbre augmente plus le modele converge dans la phase d'entrainement mais lorsque on arrive à la phase de test <br/>car n'est pas toujours garanti d'avoir des bonnes résultats ,donc on peut dire qu'on a une mal généralisation (sur-apprentissage).<br/><br/>\n",
    "\n",
    "- Auterement dit,Si la profondeur est trop grande, le modèle surajustera et prédira parfaitement les données d'entrainement mais ne généralisera pas les résultats pour de nouvelles données,c'est pour ça il faut ajusté cette valeur afin d'avoir plus de performance. \n"
   ]
  },
  {
   "cell_type": "code",
   "execution_count": 39,
   "metadata": {
    "colab": {
     "base_uri": "https://localhost:8080/",
     "height": 279
    },
    "id": "yR9shhbUqYlG",
    "outputId": "b8cbe008-b75e-4de8-ffdb-a002bc392e51"
   },
   "outputs": [
    {
     "data": {
      "image/png": "[encoded data removed]",
      "text/plain": [
       "<Figure size 432x288 with 1 Axes>"
      ]
     },
     "metadata": {
      "needs_background": "light",
      "tags": []
     },
     "output_type": "display_data"
    }
   ],
   "source": [
    "from sklearn.ensemble import RandomForestClassifier\n",
    "\n",
    "MAX_ARBRE = 100\n",
    "\n",
    "MAX_ARBRE_lst = range(1, MAX_ARBRE+1, 1)\n",
    "\n",
    "f1_train_nbarbres = []\n",
    "f1_test_nbarbres = []\n",
    "for max_arbres in MAX_ARBRE_lst:\n",
    "    classifieur = RandomForestClassifier(n_estimators=max_arbres)\n",
    "    classifieur.fit(X_cars_train, Y_cars_train)\n",
    "    f1_train_nbarbres.append(f1_score(Y_cars_train, classifieur.predict(X_cars_train), average=\"micro\"))\n",
    "    f1_test_nbarbres.append(f1_score(Y_cars_test, classifieur.predict(X_cars_test), average=\"micro\"))\n",
    "\n",
    "plt.plot(MAX_ARBRE_lst, f1_train_nbarbres, color=\"blue\", label=\"Convergence (entrainement)\")\n",
    "plt.plot(MAX_ARBRE_lst, f1_test_nbarbres, color=\"red\", label=\"Test\")\n",
    "plt.ylabel(\"F1\")\n",
    "plt.xlabel(\"Nombre des arbres\")\n",
    "plt.legend()\n",
    "#plt.rcParams[\"figure.figsize\"] = (3,7)\n",
    "plt.show()"
   ]
  },
  {
   "cell_type": "markdown",
   "metadata": {
    "id": "Mc4Q-AhtqYlH"
   },
   "source": [
    "#### II.2.2. Profondeur maximale des arbres\n",
    "\n",
    "Pour chaque profondeur, on entraîne un forêt et on mesure sa convergence et sa performance en terme du score F1. On compare les résultats avec les arbres équivalents (avec la même profondeur)\n",
    "\n",
    "**TODO : Analyser les résultats**\n",
    "- Comparer la convergence des forêts et des arbres en terme de la profondeur maximale\n",
    "- Comparer la généralisation des forêts et des arbres en terme de la profondeur maximale\n",
    "- Justifier ces résultats (en indiquant pourquoi nous avons des oscillations dans F1 test des forêts)\n",
    "\n",
    "**Réponse**\n",
    "- Comparaision de la convergence en terme de profondeur maximale :\n",
    "    - la convergence des forets est plus rapide que les arbres que ce soit dans la phase de'entrainement ou dans la phase de test(malgré les oscillations) mais apres une certain valeur de profondeur on va avoir les memes résutats (phase d'entrainement).\n",
    "    - Aussi on remarque que F1 test de la forét est meiux que F1 test d'arbre donc on a une meilleur généralisation dans la foret aleatoire.\n",
    "- comparaision de la généralisation en terme de profondeur maximale :\n",
    "    - Veux que la foret aleatoire améliore le F1-scoe de test donc elle a plus de capacité de généraliser et prédire des nouvelles données.<br/><br/>\n",
    "- justifications:\n",
    "    - les oscillations dans F1 test des forêts c'est à cause que les arbres de la foréts peut etre ne sont pas tous de la meme structure (profondeur et nombre de feuilles) car ces arbres sont généré aleatoirement.\n",
    "    - la prise de risque est toujours plus faible dans les foréts. Cela signifie un meilleur contrôle du tirage( prise de décision plus rapidement qu'une seule arbre).\n",
    "    - Les arbres qui composent la forêt ont été entraînés avec des ensembles de données différents mais similaires, différents sous-échantillons aléatoires de l'ensemble de données d'origine. Cela donne à la forêt aléatoire une meilleure capacité à généraliser et à mieux fonctionner dans de nouvelles situations inconnues.<br/><br/>\n",
    "- Comme resultat n'est pas toujours les forets aleatoires sont meilleur que l'arbre de decision à cause de leurs complexité (gestion des arbres de la foret) mais avec les forets on aura moins de risque de se trompé dans les résultats, plus de stabilité et plus de performance qu'un simple arbre de decision.Ces avantages là sont suffisamment importants pour que la complexité supplémentaire en vaille la peine."
   ]
  },
  {
   "cell_type": "code",
   "execution_count": 40,
   "metadata": {
    "colab": {
     "base_uri": "https://localhost:8080/",
     "height": 279
    },
    "id": "oYL-SOWRqYlH",
    "outputId": "eda28272-b676-4410-d8c1-86afe8f2f61e"
   },
   "outputs": [
    {
     "data": {
      "image/png": "[encoded data removed]",
      "text/plain": [
       "<Figure size 432x288 with 1 Axes>"
      ]
     },
     "metadata": {
      "needs_background": "light",
      "tags": []
     },
     "output_type": "display_data"
    }
   ],
   "source": [
    "f1_train_pm_foret = []\n",
    "f1_test_pm_foret = []\n",
    "for max_prof in MAX_PROF_lst:\n",
    "    classifieur = RandomForestClassifier(n_estimators=40, max_depth=max_prof)\n",
    "    classifieur.fit(X_cars_train, Y_cars_train)\n",
    "    f1_train_pm_foret.append(f1_score(Y_cars_train, classifieur.predict(X_cars_train), average=\"micro\"))\n",
    "    f1_test_pm_foret.append(f1_score(Y_cars_test, classifieur.predict(X_cars_test), average=\"micro\"))\n",
    "\n",
    "plt.plot(MAX_PROF_lst, f1_train_pm_foret, color=\"blue\", label=\"Convergence (Foret)\")\n",
    "plt.plot(MAX_PROF_lst, f1_test_pm_foret, color=\"red\", label=\"Test (Foret)\")\n",
    "plt.plot(MAX_PROF_lst, f1_train_pm, color=\"green\", label=\"Convergence (Arbre)\")\n",
    "plt.plot(MAX_PROF_lst, f1_test_pm, color=\"orange\", label=\"Test (Arbre)\")\n",
    "plt.ylabel(\"F1\")\n",
    "plt.xlabel(\"Profondeur max de l'arbre\")\n",
    "plt.legend()\n",
    "#plt.rcParams[\"figure.figsize\"] = (3,7)\n",
    "plt.show()"
   ]
  },
  {
   "cell_type": "markdown",
   "metadata": {
    "id": "eu1MEiG5qYlH"
   },
   "source": [
    "#### II.2.3. Observations minimales dans les feuilles\n",
    "\n",
    "Pour chaque nombre minimale des observations dans les feuilles, on entraîne un forêt et on mesure sa convergence et sa performance en terme du score F1. On compare les résultats avec les arbres équivalents (avec le même nombre des observations minimales)\n",
    "\n",
    "**TODO : Analyser les résultats**\n",
    "- Comparer la performance (convergence et généralisation) des arbres et des forêts en terme du noombre des observations dans les feuilles\n",
    "- Justifier \n",
    "\n",
    "**Réponse**\n",
    "- Comparaison de la performance entre les arbres et les forets:\n",
    "    - On remarque que les forets diminue rapidement par rapport des arbres (converge rapidement) dans la phase d'entrainement,pour la phase de test avec chaque augmentation de nombre d'observations dans les feuilles on a une degradation de F1-score ,mais d'apres le graph on peut y a des valeurs ou foret aleatoire performe mieux que arbre de decision donc on peut dire qu'elle généralise meiux (pour une valeur entre 0-3) mais si ce critère est trop grand on aura un sous-apprentissage dans les deux cas et notre modèle devient plus predictive.\n",
    "- justification:\n",
    "    - Les forets performe meiux que les arbres ,car elle contient plusieurs arbres de decision et ça donne la force aux foret de meiux généralisé et performe mieux.\n",
    "    - Mais si ce critère est trop grand on tombre dans le meme problème de sous-apprentissage des arbres de decision."
   ]
  },
  {
   "cell_type": "code",
   "execution_count": 41,
   "metadata": {
    "colab": {
     "base_uri": "https://localhost:8080/",
     "height": 279
    },
    "id": "8DPc3AANqYlH",
    "outputId": "253df1c2-e737-4c84-b25f-8eb0b3168d7d"
   },
   "outputs": [
    {
     "data": {
      "image/png": "[encoded data removed]",
      "text/plain": [
       "<Figure size 432x288 with 1 Axes>"
      ]
     },
     "metadata": {
      "needs_background": "light",
      "tags": []
     },
     "output_type": "display_data"
    }
   ],
   "source": [
    "f1_train_mf_foret = []\n",
    "f1_test_mf_foret = []\n",
    "for min_feuille in MIN_FEUILLE_lst:\n",
    "    classifieur = RandomForestClassifier(n_estimators=40, min_samples_leaf=min_feuille)\n",
    "    classifieur.fit(X_cars_train, Y_cars_train)\n",
    "    f1_train_mf_foret.append(f1_score(Y_cars_train, classifieur.predict(X_cars_train), average=\"micro\"))\n",
    "    f1_test_mf_foret.append(f1_score(Y_cars_test, classifieur.predict(X_cars_test), average=\"micro\"))\n",
    "\n",
    "plt.plot(MIN_FEUILLE_lst, f1_train_mf_foret, color=\"blue\", label=\"Convergence (Foret)\")\n",
    "plt.plot(MIN_FEUILLE_lst, f1_test_mf_foret, color=\"red\", label=\"Test (Foret)\")\n",
    "plt.plot(MIN_FEUILLE_lst, f1_train_mf, color=\"green\", label=\"Convergence (Arbre)\")\n",
    "plt.plot(MIN_FEUILLE_lst, f1_test_mf, color=\"orange\", label=\"Test (Arbre)\")\n",
    "plt.ylabel(\"F1\")\n",
    "plt.xlabel(\"Observations minimales dans les feuilles\")\n",
    "plt.legend()\n",
    "#plt.rcParams[\"figure.figsize\"] = (3,7)\n",
    "plt.show()"
   ]
  },
  {
   "cell_type": "markdown",
   "metadata": {
    "id": "u9uNj9K2qYlI"
   },
   "source": [
    "#### II.2.4. Taille d'un Bootstrap\n",
    "\n",
    "Ici, on définit un pourcentage de la taille des Bootstrap par rapport la taille initiale du dataset. Pour chaque pourcentage, on entraîne un forêt et on test sa performance (convergence et généralisation) en utilisant la mesure F1.\n",
    "\n",
    "**TODO : Analyser les résultats**\n",
    "- Que remarquez-vous ?\n",
    "- Quelle est la raison pour laquelle la performance n'augmente pas d'une manière lisse ?\n",
    "\n",
    "**Réponse**\n",
    "- Remarque :<br/> \n",
    "    - L'augmentation de taille de boostrap ,ameliore F1 d'entrainement mais avec des oscillations. <br/>  <br/>\n",
    "    - La meme chose pour la phase de test on a une amélioration dans certain valeur de taille de boostrap mais avec des oscillations.<br/><br/>\n",
    "- la raision par ce que le choix de nombre d'observations qui sont choisi dans un boostrap sont choisi aléatoirement c'est  pour ça on va avoir des perturbation dans la convergence."
   ]
  },
  {
   "cell_type": "code",
   "execution_count": 42,
   "metadata": {
    "colab": {
     "base_uri": "https://localhost:8080/",
     "height": 279
    },
    "id": "RsF6PuBoqYlI",
    "outputId": "8c87b5c2-5bf4-45d7-cad1-39e9522f5670"
   },
   "outputs": [
    {
     "data": {
      "image/png": "[encoded data removed]",
      "text/plain": [
       "<Figure size 432x288 with 1 Axes>"
      ]
     },
     "metadata": {
      "needs_background": "light",
      "tags": []
     },
     "output_type": "display_data"
    }
   ],
   "source": [
    "POUR_OBS_lst = np.arange(0.1, 1, 0.01)\n",
    "\n",
    "f1_train_ech = []\n",
    "f1_test_ech = []\n",
    "for pour_obs in POUR_OBS_lst:\n",
    "    classifieur = RandomForestClassifier(n_estimators=40, max_samples=pour_obs)\n",
    "    classifieur.fit(X_cars_train, Y_cars_train)\n",
    "    f1_train_ech.append(f1_score(Y_cars_train, classifieur.predict(X_cars_train), average=\"micro\"))\n",
    "    f1_test_ech.append(f1_score(Y_cars_test, classifieur.predict(X_cars_test), average=\"micro\"))\n",
    "\n",
    "plt.plot(POUR_OBS_lst, f1_train_ech, color=\"blue\", label=\"Convergence (Foret)\")\n",
    "plt.plot(POUR_OBS_lst, f1_test_ech, color=\"red\", label=\"Test (Foret)\")\n",
    "plt.ylabel(\"F1\")\n",
    "plt.xlabel(\"Pourcentage du bootstap par rapport le dataset originale\")\n",
    "plt.legend()\n",
    "#plt.rcParams[\"figure.figsize\"] = (3,7)\n",
    "plt.show()"
   ]
  },
  {
   "cell_type": "code",
   "execution_count": null,
   "metadata": {
    "id": "dyhi_2Y1qYlI"
   },
   "outputs": [],
   "source": []
  }
 ],
 "metadata": {
  "colab": {
   "name": "TP04-Arbres_Forets.ipynb",
   "provenance": []
  },
  "kernelspec": {
   "display_name": "Python 3",
   "language": "python",
   "name": "python3"
  },
  "language_info": {
   "codemirror_mode": {
    "name": "ipython",
    "version": 3
   },
   "file_extension": ".py",
   "mimetype": "text/x-python",
   "name": "python",
   "nbconvert_exporter": "python",
   "pygments_lexer": "ipython3",
   "version": "3.8.5"
  }
 },
 "nbformat": 4,
 "nbformat_minor": 1
}
